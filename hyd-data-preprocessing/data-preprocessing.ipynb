{
 "cells": [
  {
   "cell_type": "code",
   "execution_count": 2,
   "metadata": {},
   "outputs": [],
   "source": [
    "import pandas as pd\n",
    "import numpy as np\n",
    "\n",
    "import plotly.express as px"
   ]
  },
  {
   "cell_type": "code",
   "execution_count": 3,
   "metadata": {},
   "outputs": [],
   "source": [
    "df = pd.read_csv('../web-scraping/NEW-magicbricks_data.csv')"
   ]
  },
  {
   "cell_type": "code",
   "execution_count": 4,
   "metadata": {},
   "outputs": [
    {
     "data": {
      "text/html": [
       "<div>\n",
       "<style scoped>\n",
       "    .dataframe tbody tr th:only-of-type {\n",
       "        vertical-align: middle;\n",
       "    }\n",
       "\n",
       "    .dataframe tbody tr th {\n",
       "        vertical-align: top;\n",
       "    }\n",
       "\n",
       "    .dataframe thead th {\n",
       "        text-align: right;\n",
       "    }\n",
       "</style>\n",
       "<table border=\"1\" class=\"dataframe\">\n",
       "  <thead>\n",
       "    <tr style=\"text-align: right;\">\n",
       "      <th></th>\n",
       "      <th>Title</th>\n",
       "      <th>Price</th>\n",
       "      <th>Property_Type</th>\n",
       "      <th>Sector</th>\n",
       "      <th>Bedrooms</th>\n",
       "      <th>Bathrooms</th>\n",
       "      <th>Balconies</th>\n",
       "      <th>Age_or_Possession</th>\n",
       "      <th>Built_Up_Area</th>\n",
       "      <th>Servant_Room</th>\n",
       "      <th>Store_Room</th>\n",
       "      <th>Furnishing_Type</th>\n",
       "      <th>Luxury_Category</th>\n",
       "      <th>Floor_Category</th>\n",
       "    </tr>\n",
       "  </thead>\n",
       "  <tbody>\n",
       "    <tr>\n",
       "      <th>0</th>\n",
       "      <td>2 BHK Flat  for Sale in  Suraram, Hyderabad</td>\n",
       "      <td>₹1.75 Cr₹8,750 per sqft</td>\n",
       "      <td>NaN</td>\n",
       "      <td>NaN</td>\n",
       "      <td>NaN</td>\n",
       "      <td>2</td>\n",
       "      <td>1.0</td>\n",
       "      <td>Ready to Move</td>\n",
       "      <td>NaN</td>\n",
       "      <td>NaN</td>\n",
       "      <td>NaN</td>\n",
       "      <td>Unfurnished</td>\n",
       "      <td>NaN</td>\n",
       "      <td>3 out of 5</td>\n",
       "    </tr>\n",
       "    <tr>\n",
       "      <th>1</th>\n",
       "      <td>3 BHK Flat  for Sale in  Kowkoor, Hyderabad</td>\n",
       "      <td>₹45 Lac₹4,018 per sqft</td>\n",
       "      <td>NaN</td>\n",
       "      <td>NaN</td>\n",
       "      <td>NaN</td>\n",
       "      <td>3</td>\n",
       "      <td>1.0</td>\n",
       "      <td>Ready to Move</td>\n",
       "      <td>1000 sqft</td>\n",
       "      <td>NaN</td>\n",
       "      <td>NaN</td>\n",
       "      <td>Semi-Furnished</td>\n",
       "      <td>NaN</td>\n",
       "      <td>1 out of 6</td>\n",
       "    </tr>\n",
       "    <tr>\n",
       "      <th>2</th>\n",
       "      <td>1 BHK Flat  for Sale in  Malkajgiri, Hyderabad</td>\n",
       "      <td>₹55 Lac₹4,231 per sqft</td>\n",
       "      <td>NaN</td>\n",
       "      <td>NaN</td>\n",
       "      <td>NaN</td>\n",
       "      <td>1</td>\n",
       "      <td>2.0</td>\n",
       "      <td>Ready to Move</td>\n",
       "      <td>550 sqft</td>\n",
       "      <td>NaN</td>\n",
       "      <td>NaN</td>\n",
       "      <td>Semi-Furnished</td>\n",
       "      <td>NaN</td>\n",
       "      <td>2 out of 3</td>\n",
       "    </tr>\n",
       "    <tr>\n",
       "      <th>3</th>\n",
       "      <td>3 BHK Flat  for Sale in  Tirumalagiri, Hyderabad</td>\n",
       "      <td>₹27 Lac₹4,154 per sqft</td>\n",
       "      <td>NaN</td>\n",
       "      <td>NaN</td>\n",
       "      <td>NaN</td>\n",
       "      <td>2</td>\n",
       "      <td>1.0</td>\n",
       "      <td>Ready to Move</td>\n",
       "      <td>1250 sqft</td>\n",
       "      <td>NaN</td>\n",
       "      <td>NaN</td>\n",
       "      <td>Furnished</td>\n",
       "      <td>NaN</td>\n",
       "      <td>4 out of 5</td>\n",
       "    </tr>\n",
       "    <tr>\n",
       "      <th>4</th>\n",
       "      <td>2 BHK Flat  for Sale in  Gagan Mahal, Himayath...</td>\n",
       "      <td>₹75 Lac₹5,357 per sqft</td>\n",
       "      <td>NaN</td>\n",
       "      <td>NaN</td>\n",
       "      <td>NaN</td>\n",
       "      <td>2</td>\n",
       "      <td>1.0</td>\n",
       "      <td>Ready to Move</td>\n",
       "      <td>1100 sqft</td>\n",
       "      <td>NaN</td>\n",
       "      <td>NaN</td>\n",
       "      <td>Semi-Furnished</td>\n",
       "      <td>NaN</td>\n",
       "      <td>4 out of 5</td>\n",
       "    </tr>\n",
       "  </tbody>\n",
       "</table>\n",
       "</div>"
      ],
      "text/plain": [
       "                                               Title                    Price  \\\n",
       "0        2 BHK Flat  for Sale in  Suraram, Hyderabad  ₹1.75 Cr₹8,750 per sqft   \n",
       "1        3 BHK Flat  for Sale in  Kowkoor, Hyderabad   ₹45 Lac₹4,018 per sqft   \n",
       "2     1 BHK Flat  for Sale in  Malkajgiri, Hyderabad   ₹55 Lac₹4,231 per sqft   \n",
       "3   3 BHK Flat  for Sale in  Tirumalagiri, Hyderabad   ₹27 Lac₹4,154 per sqft   \n",
       "4  2 BHK Flat  for Sale in  Gagan Mahal, Himayath...   ₹75 Lac₹5,357 per sqft   \n",
       "\n",
       "   Property_Type  Sector  Bedrooms Bathrooms  Balconies Age_or_Possession  \\\n",
       "0            NaN     NaN       NaN         2        1.0     Ready to Move   \n",
       "1            NaN     NaN       NaN         3        1.0     Ready to Move   \n",
       "2            NaN     NaN       NaN         1        2.0     Ready to Move   \n",
       "3            NaN     NaN       NaN         2        1.0     Ready to Move   \n",
       "4            NaN     NaN       NaN         2        1.0     Ready to Move   \n",
       "\n",
       "  Built_Up_Area  Servant_Room  Store_Room Furnishing_Type  Luxury_Category  \\\n",
       "0           NaN           NaN         NaN     Unfurnished              NaN   \n",
       "1     1000 sqft           NaN         NaN  Semi-Furnished              NaN   \n",
       "2      550 sqft           NaN         NaN  Semi-Furnished              NaN   \n",
       "3     1250 sqft           NaN         NaN       Furnished              NaN   \n",
       "4     1100 sqft           NaN         NaN  Semi-Furnished              NaN   \n",
       "\n",
       "  Floor_Category  \n",
       "0     3 out of 5  \n",
       "1     1 out of 6  \n",
       "2     2 out of 3  \n",
       "3     4 out of 5  \n",
       "4     4 out of 5  "
      ]
     },
     "execution_count": 4,
     "metadata": {},
     "output_type": "execute_result"
    }
   ],
   "source": [
    "df.head()"
   ]
  },
  {
   "cell_type": "code",
   "execution_count": 5,
   "metadata": {},
   "outputs": [],
   "source": [
    "sub_df = pd.DataFrame(columns=['city','coordinates'])"
   ]
  },
  {
   "cell_type": "code",
   "execution_count": 6,
   "metadata": {},
   "outputs": [
    {
     "data": {
      "text/plain": [
       "(0, 2)"
      ]
     },
     "execution_count": 6,
     "metadata": {},
     "output_type": "execute_result"
    }
   ],
   "source": [
    "sub_df.shape"
   ]
  },
  {
   "cell_type": "code",
   "execution_count": 7,
   "metadata": {},
   "outputs": [
    {
     "data": {
      "text/plain": [
       "38171"
      ]
     },
     "execution_count": 7,
     "metadata": {},
     "output_type": "execute_result"
    }
   ],
   "source": [
    "location = df['Title']\n",
    "len(location)"
   ]
  },
  {
   "cell_type": "code",
   "execution_count": 8,
   "metadata": {},
   "outputs": [],
   "source": [
    "all_area_list=[]\n",
    "for i in range(1,38171):\n",
    "    all_area_list.append(location[i].split('in ')[1])"
   ]
  },
  {
   "cell_type": "code",
   "execution_count": 9,
   "metadata": {},
   "outputs": [
    {
     "data": {
      "text/plain": [
       "[' Kowkoor, Hyderabad',\n",
       " ' Malkajgiri, Hyderabad',\n",
       " ' Tirumalagiri, Hyderabad',\n",
       " ' Gagan Mahal, Himayath Nagar, NH 7, Hyderabad',\n",
       " 'Chintal Hyderabad',\n",
       " ' Muthangi, NH 9, Hyderabad',\n",
       " 'Turkayamjal Hyderabad',\n",
       " 'OU Colony Shaikpet Hyderabad',\n",
       " ' Old Safilguda, Hyderabad',\n",
       " 'Indresham, Bachuguda Hyderabad',\n",
       " 'Shanthi Sree Nagar Colony Hyderabad',\n",
       " ' Ameenpur, Hyderabad',\n",
       " ' Chanda Nagar, Hyderabad',\n",
       " ' Sainikpuri, Hyderabad',\n",
       " ' Bhaskar Rao Nagar Colony, Hyderabad',\n",
       " 'Malkajgiri Hyderabad',\n",
       " ' Kondapur, Hyderabad',\n",
       " ' Muppas Panchavati Colony, Manikonda, Outer Ring Road, Hyderabad',\n",
       " 'Badangpet Hyderabad',\n",
       " 'Nallagandla Tellapur Road Hyderabad',\n",
       " ' OU Colony Shaikpet, Hyderabad',\n",
       " ' Sambhupur, Hyderabad',\n",
       " ' Hyder Nagar, NH 9, Hyderabad',\n",
       " ' Adibatla, Hyderabad',\n",
       " 'Isnapur, Outer Ring Road Hyderabad',\n",
       " ' Kapra Saket Road, Hyderabad',\n",
       " ' Narepally, Hyderabad',\n",
       " 'Ramanthapur, NH 2 2 Hyderabad',\n",
       " 'Chanda Nagar Hyderabad',\n",
       " 'Bowenpally Hyderabad',\n",
       " 'MCH Colony Old Malakpet Hyderabad',\n",
       " 'Buddha Nagar Hyderabad',\n",
       " 'Vidyanagar New Nallakunta Hyderabad',\n",
       " 'LB Nagar, NH 9 Hyderabad',\n",
       " 'Gachibowli Hyderabad',\n",
       " 'Kokapet, Outer Ring Road Hyderabad',\n",
       " 'Kondapur Hyderabad',\n",
       " 'Balanagar Hyderabad',\n",
       " 'Narsingi, Outer Ring Road Hyderabad',\n",
       " 'Saidabad Hyderabad',\n",
       " 'Kondapur Hyderabad',\n",
       " 'Shivrampalli Village Hyderabad',\n",
       " 'Bowrampet, Outer Ring Road Hyderabad',\n",
       " 'Champapet, Koti Hyderabad',\n",
       " 'Kompally Hyderabad',\n",
       " 'Saroornagar, NH 9 Hyderabad',\n",
       " 'Kukatpally, NH 9 Hyderabad',\n",
       " 'Jeedimetla Hyderabad',\n",
       " 'Grk harmony Hyderabad',\n",
       " 'Kompally Hyderabad',\n",
       " 'Tellapur, Outer Ring Road Hyderabad',\n",
       " 'Dargah Khaleej Khan Hyderabad',\n",
       " 'Kompally Hyderabad',\n",
       " 'Serilingampalle M Hyderabad',\n",
       " 'Yapral Hyderabad',\n",
       " 'Musheerabad Hyderabad',\n",
       " 'Saidabad Hyderabad',\n",
       " 'Safilguda, Secunderabad Hyderabad',\n",
       " ' Suraram, Hyderabad',\n",
       " ' Kowkoor, Hyderabad',\n",
       " ' Malkajgiri, Hyderabad',\n",
       " ' Tirumalagiri, Hyderabad',\n",
       " ' Gagan Mahal, Himayath Nagar, NH 7, Hyderabad',\n",
       " 'Chintal Hyderabad',\n",
       " ' Muthangi, NH 9, Hyderabad',\n",
       " 'Turkayamjal Hyderabad',\n",
       " 'OU Colony Shaikpet Hyderabad',\n",
       " ' Old Safilguda, Hyderabad',\n",
       " 'Indresham, Bachuguda Hyderabad',\n",
       " 'Shanthi Sree Nagar Colony Hyderabad',\n",
       " ' Ameenpur, Hyderabad',\n",
       " ' Chanda Nagar, Hyderabad',\n",
       " ' Sainikpuri, Hyderabad',\n",
       " ' Bhaskar Rao Nagar Colony, Hyderabad',\n",
       " 'Malkajgiri Hyderabad',\n",
       " ' Kondapur, Hyderabad',\n",
       " ' Muppas Panchavati Colony, Manikonda, Outer Ring Road, Hyderabad',\n",
       " 'Badangpet Hyderabad',\n",
       " 'Nallagandla Tellapur Road Hyderabad',\n",
       " ' OU Colony Shaikpet, Hyderabad',\n",
       " ' Sambhupur, Hyderabad',\n",
       " ' Hyder Nagar, NH 9, Hyderabad',\n",
       " ' Adibatla, Hyderabad',\n",
       " 'Isnapur, Outer Ring Road Hyderabad',\n",
       " ' Kapra Saket Road, Hyderabad',\n",
       " ' Narepally, Hyderabad',\n",
       " 'Ramanthapur, NH 2 2 Hyderabad',\n",
       " 'Chanda Nagar Hyderabad',\n",
       " 'Bowenpally Hyderabad',\n",
       " 'MCH Colony Old Malakpet Hyderabad',\n",
       " 'Buddha Nagar Hyderabad',\n",
       " 'Vidyanagar New Nallakunta Hyderabad',\n",
       " 'LB Nagar, NH 9 Hyderabad',\n",
       " 'Gachibowli Hyderabad',\n",
       " 'Kokapet, Outer Ring Road Hyderabad',\n",
       " 'Kondapur Hyderabad',\n",
       " 'Balanagar Hyderabad',\n",
       " 'Narsingi, Outer Ring Road Hyderabad',\n",
       " 'Saidabad Hyderabad',\n",
       " 'Kondapur Hyderabad',\n",
       " 'Shivrampalli Village Hyderabad',\n",
       " 'Bowrampet, Outer Ring Road Hyderabad',\n",
       " 'Champapet, Koti Hyderabad',\n",
       " 'Kompally Hyderabad',\n",
       " 'Saroornagar, NH 9 Hyderabad',\n",
       " 'Kukatpally, NH 9 Hyderabad',\n",
       " 'Jeedimetla Hyderabad',\n",
       " 'Grk harmony Hyderabad',\n",
       " 'Kompally Hyderabad',\n",
       " 'Tellapur, Outer Ring Road Hyderabad',\n",
       " 'Dargah Khaleej Khan Hyderabad',\n",
       " 'Kompally Hyderabad',\n",
       " 'Serilingampalle M Hyderabad',\n",
       " 'Yapral Hyderabad',\n",
       " 'Musheerabad Hyderabad',\n",
       " 'Saidabad Hyderabad',\n",
       " 'Safilguda, Secunderabad Hyderabad',\n",
       " 'Narepally Hyderabad',\n",
       " 'Hmt Sathavahana Nagar Hyderabad',\n",
       " 'Bowrampet Road Hyderabad',\n",
       " 'Moti Nagar Erragadda Hyderabad',\n",
       " 'Izzathnagar Hyderabad',\n",
       " 'Weaker Section Colony Khanammet Hyderabad',\n",
       " 'Alkapur Township, Manikonda, Outer Ring Road Hyderabad',\n",
       " 'Tellapur, Outer Ring Road Hyderabad',\n",
       " 'Pragathi Nagar, Kukatpally Hyderabad',\n",
       " 'Hyder Nagar, NH 9 Hyderabad',\n",
       " 'Beeramguda Ramachandrapuram Hyderabad',\n",
       " 'Adibatla Hyderabad',\n",
       " 'Bachupally Hyderabad',\n",
       " 'Manikonda Jagir Hyderabad',\n",
       " 'Alkapur Township, Manikonda, Outer Ring Road Hyderabad',\n",
       " 'Gachibowli Hyderabad',\n",
       " 'Bolarum, Medchal Road Hyderabad',\n",
       " 'Kondapur Hyderabad',\n",
       " 'Dilsukhnagar Hyderabad',\n",
       " 'Yapral Hyderabad',\n",
       " 'LB Nagar, NH 9 Hyderabad',\n",
       " 'Madhura Nagar Hyderabad',\n",
       " 'Kokapet, Outer Ring Road Hyderabad',\n",
       " 'Sainikpuri Hyderabad',\n",
       " 'Miyapur, NH 9 Hyderabad',\n",
       " 'Kothapet Hyderabad',\n",
       " 'Banjara Hills, NH 9 Hyderabad',\n",
       " 'Gajularamaram Hyderabad',\n",
       " 'Madhapur Hyderabad',\n",
       " 'Dwarakapuri, Hyderabad Hyderabad',\n",
       " ' Suraram, Hyderabad',\n",
       " ' Kowkoor, Hyderabad',\n",
       " ' Malkajgiri, Hyderabad',\n",
       " ' Tirumalagiri, Hyderabad',\n",
       " ' Gagan Mahal, Himayath Nagar, NH 7, Hyderabad',\n",
       " 'Chintal Hyderabad',\n",
       " ' Muthangi, NH 9, Hyderabad',\n",
       " 'Turkayamjal Hyderabad',\n",
       " 'OU Colony Shaikpet Hyderabad',\n",
       " ' Old Safilguda, Hyderabad',\n",
       " 'Indresham, Bachuguda Hyderabad',\n",
       " 'Shanthi Sree Nagar Colony Hyderabad',\n",
       " ' Ameenpur, Hyderabad',\n",
       " ' Chanda Nagar, Hyderabad',\n",
       " ' Sainikpuri, Hyderabad',\n",
       " ' Bhaskar Rao Nagar Colony, Hyderabad',\n",
       " 'Malkajgiri Hyderabad',\n",
       " ' Kondapur, Hyderabad',\n",
       " ' Muppas Panchavati Colony, Manikonda, Outer Ring Road, Hyderabad',\n",
       " 'Badangpet Hyderabad',\n",
       " 'Nallagandla Tellapur Road Hyderabad',\n",
       " ' OU Colony Shaikpet, Hyderabad',\n",
       " ' Sambhupur, Hyderabad',\n",
       " ' Hyder Nagar, NH 9, Hyderabad',\n",
       " ' Adibatla, Hyderabad',\n",
       " 'Isnapur, Outer Ring Road Hyderabad',\n",
       " ' Kapra Saket Road, Hyderabad',\n",
       " ' Narepally, Hyderabad',\n",
       " 'Ramanthapur, NH 2 2 Hyderabad',\n",
       " 'Chanda Nagar Hyderabad',\n",
       " 'Bowenpally Hyderabad',\n",
       " 'MCH Colony Old Malakpet Hyderabad',\n",
       " 'Buddha Nagar Hyderabad',\n",
       " 'Vidyanagar New Nallakunta Hyderabad',\n",
       " 'LB Nagar, NH 9 Hyderabad',\n",
       " 'Gachibowli Hyderabad',\n",
       " 'Kokapet, Outer Ring Road Hyderabad',\n",
       " 'Kondapur Hyderabad',\n",
       " 'Balanagar Hyderabad',\n",
       " 'Narsingi, Outer Ring Road Hyderabad',\n",
       " 'Saidabad Hyderabad',\n",
       " 'Kondapur Hyderabad',\n",
       " 'Shivrampalli Village Hyderabad',\n",
       " 'Bowrampet, Outer Ring Road Hyderabad',\n",
       " 'Champapet, Koti Hyderabad',\n",
       " 'Kompally Hyderabad',\n",
       " 'Saroornagar, NH 9 Hyderabad',\n",
       " 'Kukatpally, NH 9 Hyderabad',\n",
       " 'Jeedimetla Hyderabad',\n",
       " 'Grk harmony Hyderabad',\n",
       " 'Kompally Hyderabad',\n",
       " 'Tellapur, Outer Ring Road Hyderabad',\n",
       " 'Dargah Khaleej Khan Hyderabad',\n",
       " 'Kompally Hyderabad',\n",
       " 'Serilingampalle M Hyderabad',\n",
       " 'Yapral Hyderabad',\n",
       " 'Musheerabad Hyderabad',\n",
       " 'Saidabad Hyderabad',\n",
       " 'Safilguda, Secunderabad Hyderabad',\n",
       " 'Narepally Hyderabad',\n",
       " 'Hmt Sathavahana Nagar Hyderabad',\n",
       " 'Bowrampet Road Hyderabad',\n",
       " 'Moti Nagar Erragadda Hyderabad',\n",
       " 'Izzathnagar Hyderabad',\n",
       " 'Weaker Section Colony Khanammet Hyderabad',\n",
       " 'Alkapur Township, Manikonda, Outer Ring Road Hyderabad',\n",
       " 'Tellapur, Outer Ring Road Hyderabad',\n",
       " 'Pragathi Nagar, Kukatpally Hyderabad',\n",
       " 'Hyder Nagar, NH 9 Hyderabad',\n",
       " 'Beeramguda Ramachandrapuram Hyderabad',\n",
       " 'Adibatla Hyderabad',\n",
       " 'Bachupally Hyderabad',\n",
       " 'Manikonda Jagir Hyderabad',\n",
       " 'Alkapur Township, Manikonda, Outer Ring Road Hyderabad',\n",
       " 'Gachibowli Hyderabad',\n",
       " 'Bolarum, Medchal Road Hyderabad',\n",
       " 'Kondapur Hyderabad',\n",
       " 'Dilsukhnagar Hyderabad',\n",
       " 'Yapral Hyderabad',\n",
       " 'LB Nagar, NH 9 Hyderabad',\n",
       " 'Madhura Nagar Hyderabad',\n",
       " 'Kokapet, Outer Ring Road Hyderabad',\n",
       " 'Sainikpuri Hyderabad',\n",
       " 'Miyapur, NH 9 Hyderabad',\n",
       " 'Kothapet Hyderabad',\n",
       " 'Banjara Hills, NH 9 Hyderabad',\n",
       " 'Gajularamaram Hyderabad',\n",
       " 'Madhapur Hyderabad',\n",
       " 'Dwarakapuri, Hyderabad Hyderabad',\n",
       " 'Krishna Reddy Pet Hyderabad',\n",
       " 'Sri Nagar Colony Hyderabad',\n",
       " 'Uppal, NH 2 2 Hyderabad',\n",
       " 'Saidabad Hyderabad',\n",
       " 'Gachibowli Hyderabad',\n",
       " 'Hastinapuram Hyderabad',\n",
       " 'Kompally Hyderabad',\n",
       " 'Izzathnagar Hyderabad',\n",
       " 'Hayathnagar Khalsa Hyderabad',\n",
       " 'Narsingi, Outer Ring Road Hyderabad',\n",
       " 'Abhudaya Nagar Colony, Bandlaguda Hyderabad',\n",
       " 'Pragathi Nagar Road Hyderabad',\n",
       " 'Sainikpuri Hyderabad',\n",
       " 'Cheeriyal Hyderabad',\n",
       " 'Kharmanghat Hyderabad',\n",
       " 'Malakpet, NH 9 Hyderabad',\n",
       " 'Godavari Homes, Quthbullapur Hyderabad',\n",
       " 'Mokila Hyderabad',\n",
       " 'Gandi Maisamma, Outer Ring Road Hyderabad',\n",
       " 'Narsingi, Outer Ring Road Hyderabad',\n",
       " 'Ameenpur Hyderabad',\n",
       " 'Khajaguda Hyderabad',\n",
       " 'Bandlaguda Nagole Hyderabad',\n",
       " 'Bachupally Hyderabad',\n",
       " 'Mallampet Road Hyderabad',\n",
       " 'Nagole Hyderabad',\n",
       " 'Shivrampalli Village Hyderabad',\n",
       " 'Annojiguda, NH 2 2 Hyderabad',\n",
       " 'Nalagandla Hyderabad',\n",
       " 'Manikonda Jagir Hyderabad',\n",
       " ' Suraram, Hyderabad',\n",
       " ' Kowkoor, Hyderabad',\n",
       " ' Malkajgiri, Hyderabad',\n",
       " ' Tirumalagiri, Hyderabad',\n",
       " ' Gagan Mahal, Himayath Nagar, NH 7, Hyderabad',\n",
       " 'Chintal Hyderabad',\n",
       " ' Muthangi, NH 9, Hyderabad',\n",
       " 'Turkayamjal Hyderabad',\n",
       " 'OU Colony Shaikpet Hyderabad',\n",
       " ' Old Safilguda, Hyderabad',\n",
       " 'Indresham, Bachuguda Hyderabad',\n",
       " 'Shanthi Sree Nagar Colony Hyderabad',\n",
       " ' Ameenpur, Hyderabad',\n",
       " ' Chanda Nagar, Hyderabad',\n",
       " ' Sainikpuri, Hyderabad',\n",
       " ' Bhaskar Rao Nagar Colony, Hyderabad',\n",
       " 'Malkajgiri Hyderabad',\n",
       " ' Kondapur, Hyderabad',\n",
       " ' Muppas Panchavati Colony, Manikonda, Outer Ring Road, Hyderabad',\n",
       " 'Badangpet Hyderabad',\n",
       " 'Nallagandla Tellapur Road Hyderabad',\n",
       " ' OU Colony Shaikpet, Hyderabad',\n",
       " ' Sambhupur, Hyderabad',\n",
       " ' Hyder Nagar, NH 9, Hyderabad',\n",
       " ' Adibatla, Hyderabad',\n",
       " 'Isnapur, Outer Ring Road Hyderabad',\n",
       " ' Kapra Saket Road, Hyderabad',\n",
       " ' Narepally, Hyderabad',\n",
       " 'Ramanthapur, NH 2 2 Hyderabad',\n",
       " 'Chanda Nagar Hyderabad',\n",
       " 'Bowenpally Hyderabad',\n",
       " 'MCH Colony Old Malakpet Hyderabad',\n",
       " 'Buddha Nagar Hyderabad',\n",
       " 'Vidyanagar New Nallakunta Hyderabad',\n",
       " 'LB Nagar, NH 9 Hyderabad',\n",
       " 'Gachibowli Hyderabad',\n",
       " 'Kokapet, Outer Ring Road Hyderabad',\n",
       " 'Kondapur Hyderabad',\n",
       " 'Balanagar Hyderabad',\n",
       " 'Narsingi, Outer Ring Road Hyderabad',\n",
       " 'Saidabad Hyderabad',\n",
       " 'Kondapur Hyderabad',\n",
       " 'Shivrampalli Village Hyderabad',\n",
       " 'Bowrampet, Outer Ring Road Hyderabad',\n",
       " 'Champapet, Koti Hyderabad',\n",
       " 'Kompally Hyderabad',\n",
       " 'Saroornagar, NH 9 Hyderabad',\n",
       " 'Kukatpally, NH 9 Hyderabad',\n",
       " 'Jeedimetla Hyderabad',\n",
       " 'Grk harmony Hyderabad',\n",
       " 'Kompally Hyderabad',\n",
       " 'Tellapur, Outer Ring Road Hyderabad',\n",
       " 'Dargah Khaleej Khan Hyderabad',\n",
       " 'Kompally Hyderabad',\n",
       " 'Serilingampalle M Hyderabad',\n",
       " 'Yapral Hyderabad',\n",
       " 'Musheerabad Hyderabad',\n",
       " 'Saidabad Hyderabad',\n",
       " 'Safilguda, Secunderabad Hyderabad',\n",
       " 'Narepally Hyderabad',\n",
       " 'Hmt Sathavahana Nagar Hyderabad',\n",
       " 'Bowrampet Road Hyderabad',\n",
       " 'Moti Nagar Erragadda Hyderabad',\n",
       " 'Izzathnagar Hyderabad',\n",
       " 'Weaker Section Colony Khanammet Hyderabad',\n",
       " 'Alkapur Township, Manikonda, Outer Ring Road Hyderabad',\n",
       " 'Tellapur, Outer Ring Road Hyderabad',\n",
       " 'Pragathi Nagar, Kukatpally Hyderabad',\n",
       " 'Hyder Nagar, NH 9 Hyderabad',\n",
       " 'Beeramguda Ramachandrapuram Hyderabad',\n",
       " 'Adibatla Hyderabad',\n",
       " 'Bachupally Hyderabad',\n",
       " 'Manikonda Jagir Hyderabad',\n",
       " 'Alkapur Township, Manikonda, Outer Ring Road Hyderabad',\n",
       " 'Gachibowli Hyderabad',\n",
       " 'Bolarum, Medchal Road Hyderabad',\n",
       " 'Kondapur Hyderabad',\n",
       " 'Dilsukhnagar Hyderabad',\n",
       " 'Yapral Hyderabad',\n",
       " 'LB Nagar, NH 9 Hyderabad',\n",
       " 'Madhura Nagar Hyderabad',\n",
       " 'Kokapet, Outer Ring Road Hyderabad',\n",
       " 'Sainikpuri Hyderabad',\n",
       " 'Miyapur, NH 9 Hyderabad',\n",
       " 'Kothapet Hyderabad',\n",
       " 'Banjara Hills, NH 9 Hyderabad',\n",
       " 'Gajularamaram Hyderabad',\n",
       " 'Madhapur Hyderabad',\n",
       " 'Dwarakapuri, Hyderabad Hyderabad',\n",
       " 'Krishna Reddy Pet Hyderabad',\n",
       " 'Sri Nagar Colony Hyderabad',\n",
       " 'Uppal, NH 2 2 Hyderabad',\n",
       " 'Saidabad Hyderabad',\n",
       " 'Gachibowli Hyderabad',\n",
       " 'Hastinapuram Hyderabad',\n",
       " 'Kompally Hyderabad',\n",
       " 'Izzathnagar Hyderabad',\n",
       " 'Hayathnagar Khalsa Hyderabad',\n",
       " 'Narsingi, Outer Ring Road Hyderabad',\n",
       " 'Abhudaya Nagar Colony, Bandlaguda Hyderabad',\n",
       " 'Pragathi Nagar Road Hyderabad',\n",
       " 'Sainikpuri Hyderabad',\n",
       " 'Cheeriyal Hyderabad',\n",
       " 'Kharmanghat Hyderabad',\n",
       " 'Malakpet, NH 9 Hyderabad',\n",
       " 'Godavari Homes, Quthbullapur Hyderabad',\n",
       " 'Mokila Hyderabad',\n",
       " 'Gandi Maisamma, Outer Ring Road Hyderabad',\n",
       " 'Narsingi, Outer Ring Road Hyderabad',\n",
       " 'Ameenpur Hyderabad',\n",
       " 'Khajaguda Hyderabad',\n",
       " 'Bandlaguda Nagole Hyderabad',\n",
       " 'Bachupally Hyderabad',\n",
       " 'Mallampet Road Hyderabad',\n",
       " 'Nagole Hyderabad',\n",
       " 'Shivrampalli Village Hyderabad',\n",
       " 'Annojiguda, NH 2 2 Hyderabad',\n",
       " 'Nalagandla Hyderabad',\n",
       " 'Manikonda Jagir Hyderabad',\n",
       " 'Tulsi Nagar Hyderabad',\n",
       " 'Nizampet Hyderabad',\n",
       " 'Manikonda Jagir Hyderabad',\n",
       " 'Kondapur Hyderabad',\n",
       " 'Raghavendra Colony Kondapur Hyderabad',\n",
       " 'Isnapur, Outer Ring Road Hyderabad',\n",
       " 'Vanasthalipuram, NH 9 Hyderabad',\n",
       " 'Chanda Nagar Hyderabad',\n",
       " 'Appa Junction Area Hyderabad',\n",
       " 'Maheshwaram Hyderabad',\n",
       " 'Kalyan Nagar Moti Nagar Hyderabad',\n",
       " 'Pedda Amberpet Hyderabad',\n",
       " 'Moosapet, NH 9 Hyderabad',\n",
       " 'West Venkatapuram, Secunderabad, Siddipet Road Hyderabad',\n",
       " 'Gachibowli Hyderabad',\n",
       " 'Srinagar Colony Yousufguda Hyderabad',\n",
       " 'Hitech City Hyderabad',\n",
       " 'AS Rao Nagar Hyderabad',\n",
       " 'Kandlakoya Hyderabad',\n",
       " 'Balaji Nagar Colony Kothapet Hyderabad',\n",
       " 'Manikonda Road Hyderabad',\n",
       " 'Mokila Hyderabad',\n",
       " 'Narayan Puri Colony Hyderabad',\n",
       " 'Medchal Hyderabad',\n",
       " 'Boduppal, NH 2 2 Hyderabad',\n",
       " 'Sainikpuri Hyderabad',\n",
       " 'Appa Junction Area Hyderabad',\n",
       " 'OU Colony Shaikpet Hyderabad',\n",
       " 'Manikonda Jagir Hyderabad',\n",
       " 'Madhapur Hyderabad',\n",
       " ' Suraram, Hyderabad',\n",
       " ' Kowkoor, Hyderabad',\n",
       " ' Malkajgiri, Hyderabad',\n",
       " ' Tirumalagiri, Hyderabad',\n",
       " ' Gagan Mahal, Himayath Nagar, NH 7, Hyderabad',\n",
       " 'Chintal Hyderabad',\n",
       " ' Muthangi, NH 9, Hyderabad',\n",
       " 'Turkayamjal Hyderabad',\n",
       " 'OU Colony Shaikpet Hyderabad',\n",
       " ' Old Safilguda, Hyderabad',\n",
       " 'Indresham, Bachuguda Hyderabad',\n",
       " 'Shanthi Sree Nagar Colony Hyderabad',\n",
       " ' Ameenpur, Hyderabad',\n",
       " ' Chanda Nagar, Hyderabad',\n",
       " ' Sainikpuri, Hyderabad',\n",
       " ' Bhaskar Rao Nagar Colony, Hyderabad',\n",
       " 'Malkajgiri Hyderabad',\n",
       " ' Kondapur, Hyderabad',\n",
       " ' Muppas Panchavati Colony, Manikonda, Outer Ring Road, Hyderabad',\n",
       " 'Badangpet Hyderabad',\n",
       " 'Nallagandla Tellapur Road Hyderabad',\n",
       " ' OU Colony Shaikpet, Hyderabad',\n",
       " ' Sambhupur, Hyderabad',\n",
       " ' Hyder Nagar, NH 9, Hyderabad',\n",
       " ' Adibatla, Hyderabad',\n",
       " 'Isnapur, Outer Ring Road Hyderabad',\n",
       " ' Kapra Saket Road, Hyderabad',\n",
       " ' Narepally, Hyderabad',\n",
       " 'Ramanthapur, NH 2 2 Hyderabad',\n",
       " 'Chanda Nagar Hyderabad',\n",
       " 'Bowenpally Hyderabad',\n",
       " 'MCH Colony Old Malakpet Hyderabad',\n",
       " 'Buddha Nagar Hyderabad',\n",
       " 'Vidyanagar New Nallakunta Hyderabad',\n",
       " 'LB Nagar, NH 9 Hyderabad',\n",
       " 'Gachibowli Hyderabad',\n",
       " 'Kokapet, Outer Ring Road Hyderabad',\n",
       " 'Kondapur Hyderabad',\n",
       " 'Balanagar Hyderabad',\n",
       " 'Narsingi, Outer Ring Road Hyderabad',\n",
       " 'Saidabad Hyderabad',\n",
       " 'Kondapur Hyderabad',\n",
       " 'Shivrampalli Village Hyderabad',\n",
       " 'Bowrampet, Outer Ring Road Hyderabad',\n",
       " 'Champapet, Koti Hyderabad',\n",
       " 'Kompally Hyderabad',\n",
       " 'Saroornagar, NH 9 Hyderabad',\n",
       " 'Kukatpally, NH 9 Hyderabad',\n",
       " 'Jeedimetla Hyderabad',\n",
       " 'Grk harmony Hyderabad',\n",
       " 'Kompally Hyderabad',\n",
       " 'Tellapur, Outer Ring Road Hyderabad',\n",
       " 'Dargah Khaleej Khan Hyderabad',\n",
       " 'Kompally Hyderabad',\n",
       " 'Serilingampalle M Hyderabad',\n",
       " 'Yapral Hyderabad',\n",
       " 'Musheerabad Hyderabad',\n",
       " 'Saidabad Hyderabad',\n",
       " 'Safilguda, Secunderabad Hyderabad',\n",
       " 'Narepally Hyderabad',\n",
       " 'Hmt Sathavahana Nagar Hyderabad',\n",
       " 'Bowrampet Road Hyderabad',\n",
       " 'Moti Nagar Erragadda Hyderabad',\n",
       " 'Izzathnagar Hyderabad',\n",
       " 'Weaker Section Colony Khanammet Hyderabad',\n",
       " 'Alkapur Township, Manikonda, Outer Ring Road Hyderabad',\n",
       " 'Tellapur, Outer Ring Road Hyderabad',\n",
       " 'Pragathi Nagar, Kukatpally Hyderabad',\n",
       " 'Hyder Nagar, NH 9 Hyderabad',\n",
       " 'Beeramguda Ramachandrapuram Hyderabad',\n",
       " 'Adibatla Hyderabad',\n",
       " 'Bachupally Hyderabad',\n",
       " 'Manikonda Jagir Hyderabad',\n",
       " 'Alkapur Township, Manikonda, Outer Ring Road Hyderabad',\n",
       " 'Gachibowli Hyderabad',\n",
       " 'Bolarum, Medchal Road Hyderabad',\n",
       " 'Kondapur Hyderabad',\n",
       " 'Dilsukhnagar Hyderabad',\n",
       " 'Yapral Hyderabad',\n",
       " 'LB Nagar, NH 9 Hyderabad',\n",
       " 'Madhura Nagar Hyderabad',\n",
       " 'Kokapet, Outer Ring Road Hyderabad',\n",
       " 'Sainikpuri Hyderabad',\n",
       " 'Miyapur, NH 9 Hyderabad',\n",
       " 'Kothapet Hyderabad',\n",
       " 'Banjara Hills, NH 9 Hyderabad',\n",
       " 'Gajularamaram Hyderabad',\n",
       " 'Madhapur Hyderabad',\n",
       " 'Dwarakapuri, Hyderabad Hyderabad',\n",
       " 'Krishna Reddy Pet Hyderabad',\n",
       " 'Sri Nagar Colony Hyderabad',\n",
       " 'Uppal, NH 2 2 Hyderabad',\n",
       " 'Saidabad Hyderabad',\n",
       " 'Gachibowli Hyderabad',\n",
       " 'Hastinapuram Hyderabad',\n",
       " 'Kompally Hyderabad',\n",
       " 'Izzathnagar Hyderabad',\n",
       " 'Hayathnagar Khalsa Hyderabad',\n",
       " 'Narsingi, Outer Ring Road Hyderabad',\n",
       " 'Abhudaya Nagar Colony, Bandlaguda Hyderabad',\n",
       " 'Pragathi Nagar Road Hyderabad',\n",
       " 'Sainikpuri Hyderabad',\n",
       " 'Cheeriyal Hyderabad',\n",
       " 'Kharmanghat Hyderabad',\n",
       " 'Malakpet, NH 9 Hyderabad',\n",
       " 'Godavari Homes, Quthbullapur Hyderabad',\n",
       " 'Mokila Hyderabad',\n",
       " 'Gandi Maisamma, Outer Ring Road Hyderabad',\n",
       " 'Narsingi, Outer Ring Road Hyderabad',\n",
       " 'Ameenpur Hyderabad',\n",
       " 'Khajaguda Hyderabad',\n",
       " 'Bandlaguda Nagole Hyderabad',\n",
       " 'Bachupally Hyderabad',\n",
       " 'Mallampet Road Hyderabad',\n",
       " 'Nagole Hyderabad',\n",
       " 'Shivrampalli Village Hyderabad',\n",
       " 'Annojiguda, NH 2 2 Hyderabad',\n",
       " 'Nalagandla Hyderabad',\n",
       " 'Manikonda Jagir Hyderabad',\n",
       " 'Tulsi Nagar Hyderabad',\n",
       " 'Nizampet Hyderabad',\n",
       " 'Manikonda Jagir Hyderabad',\n",
       " 'Kondapur Hyderabad',\n",
       " 'Raghavendra Colony Kondapur Hyderabad',\n",
       " 'Isnapur, Outer Ring Road Hyderabad',\n",
       " 'Vanasthalipuram, NH 9 Hyderabad',\n",
       " 'Chanda Nagar Hyderabad',\n",
       " 'Appa Junction Area Hyderabad',\n",
       " 'Maheshwaram Hyderabad',\n",
       " 'Kalyan Nagar Moti Nagar Hyderabad',\n",
       " 'Pedda Amberpet Hyderabad',\n",
       " 'Moosapet, NH 9 Hyderabad',\n",
       " 'West Venkatapuram, Secunderabad, Siddipet Road Hyderabad',\n",
       " 'Gachibowli Hyderabad',\n",
       " 'Srinagar Colony Yousufguda Hyderabad',\n",
       " 'Hitech City Hyderabad',\n",
       " 'AS Rao Nagar Hyderabad',\n",
       " 'Kandlakoya Hyderabad',\n",
       " 'Balaji Nagar Colony Kothapet Hyderabad',\n",
       " 'Manikonda Road Hyderabad',\n",
       " 'Mokila Hyderabad',\n",
       " 'Narayan Puri Colony Hyderabad',\n",
       " 'Medchal Hyderabad',\n",
       " 'Boduppal, NH 2 2 Hyderabad',\n",
       " 'Sainikpuri Hyderabad',\n",
       " 'Appa Junction Area Hyderabad',\n",
       " 'OU Colony Shaikpet Hyderabad',\n",
       " 'Manikonda Jagir Hyderabad',\n",
       " 'Madhapur Hyderabad',\n",
       " 'Nagole Hyderabad',\n",
       " 'Hyder Nagar, NH 9 Hyderabad',\n",
       " 'Kokapet, Outer Ring Road Hyderabad',\n",
       " 'Mallampet, Outer Ring Road Hyderabad',\n",
       " 'Gopanpalle Hyderabad',\n",
       " 'Osman Nagar Hyderabad',\n",
       " 'Manikonda Jagir Hyderabad',\n",
       " 'Beeramguda Quthbullapur Hyderabad',\n",
       " 'Kondapur Hyderabad',\n",
       " 'Jubilee Hills Hyderabad',\n",
       " 'Sainikpuri Road Hyderabad',\n",
       " 'Miyapur, NH 9 Hyderabad',\n",
       " 'Puppalguda Hyderabad',\n",
       " 'Pragathi Nagar, Kukatpally Hyderabad',\n",
       " 'West Prasanth Nagar Hyderabad',\n",
       " 'Miyapur, NH 9 Hyderabad',\n",
       " 'Maheshwaram Hyderabad',\n",
       " 'Banjara Hills, NH 9 Hyderabad',\n",
       " 'Suchitra Road Hyderabad',\n",
       " 'Mohan Nagar Kothapet Hyderabad',\n",
       " 'Kondapur Hyderabad',\n",
       " 'Gopanpalle Hyderabad',\n",
       " 'Bachupally Hyderabad',\n",
       " 'Kokapet, Outer Ring Road Hyderabad',\n",
       " 'Isnapur, Outer Ring Road Hyderabad',\n",
       " 'Boduppal, NH 2 2 Hyderabad',\n",
       " 'Chintal Hyderabad',\n",
       " 'Moti Nagar Erragadda Hyderabad',\n",
       " 'Nanakaramguda Hyderabad',\n",
       " 'Kompally Hyderabad',\n",
       " ' Suraram, Hyderabad',\n",
       " ' Kowkoor, Hyderabad',\n",
       " ' Malkajgiri, Hyderabad',\n",
       " ' Tirumalagiri, Hyderabad',\n",
       " ' Gagan Mahal, Himayath Nagar, NH 7, Hyderabad',\n",
       " 'Chintal Hyderabad',\n",
       " ' Muthangi, NH 9, Hyderabad',\n",
       " 'Turkayamjal Hyderabad',\n",
       " 'OU Colony Shaikpet Hyderabad',\n",
       " ' Old Safilguda, Hyderabad',\n",
       " 'Indresham, Bachuguda Hyderabad',\n",
       " 'Shanthi Sree Nagar Colony Hyderabad',\n",
       " ' Ameenpur, Hyderabad',\n",
       " ' Chanda Nagar, Hyderabad',\n",
       " ' Sainikpuri, Hyderabad',\n",
       " ' Bhaskar Rao Nagar Colony, Hyderabad',\n",
       " 'Malkajgiri Hyderabad',\n",
       " ' Kondapur, Hyderabad',\n",
       " ' Muppas Panchavati Colony, Manikonda, Outer Ring Road, Hyderabad',\n",
       " 'Badangpet Hyderabad',\n",
       " 'Nallagandla Tellapur Road Hyderabad',\n",
       " ' OU Colony Shaikpet, Hyderabad',\n",
       " ' Sambhupur, Hyderabad',\n",
       " ' Hyder Nagar, NH 9, Hyderabad',\n",
       " ' Adibatla, Hyderabad',\n",
       " 'Isnapur, Outer Ring Road Hyderabad',\n",
       " ' Kapra Saket Road, Hyderabad',\n",
       " ' Narepally, Hyderabad',\n",
       " 'Ramanthapur, NH 2 2 Hyderabad',\n",
       " 'Chanda Nagar Hyderabad',\n",
       " 'Bowenpally Hyderabad',\n",
       " 'MCH Colony Old Malakpet Hyderabad',\n",
       " 'Buddha Nagar Hyderabad',\n",
       " 'Vidyanagar New Nallakunta Hyderabad',\n",
       " 'LB Nagar, NH 9 Hyderabad',\n",
       " 'Gachibowli Hyderabad',\n",
       " 'Kokapet, Outer Ring Road Hyderabad',\n",
       " 'Kondapur Hyderabad',\n",
       " 'Balanagar Hyderabad',\n",
       " 'Narsingi, Outer Ring Road Hyderabad',\n",
       " 'Saidabad Hyderabad',\n",
       " 'Kondapur Hyderabad',\n",
       " 'Shivrampalli Village Hyderabad',\n",
       " 'Bowrampet, Outer Ring Road Hyderabad',\n",
       " 'Champapet, Koti Hyderabad',\n",
       " 'Kompally Hyderabad',\n",
       " 'Saroornagar, NH 9 Hyderabad',\n",
       " 'Kukatpally, NH 9 Hyderabad',\n",
       " 'Jeedimetla Hyderabad',\n",
       " 'Grk harmony Hyderabad',\n",
       " 'Kompally Hyderabad',\n",
       " 'Tellapur, Outer Ring Road Hyderabad',\n",
       " 'Dargah Khaleej Khan Hyderabad',\n",
       " 'Kompally Hyderabad',\n",
       " 'Serilingampalle M Hyderabad',\n",
       " 'Yapral Hyderabad',\n",
       " 'Musheerabad Hyderabad',\n",
       " 'Saidabad Hyderabad',\n",
       " 'Safilguda, Secunderabad Hyderabad',\n",
       " 'Narepally Hyderabad',\n",
       " 'Hmt Sathavahana Nagar Hyderabad',\n",
       " 'Bowrampet Road Hyderabad',\n",
       " 'Moti Nagar Erragadda Hyderabad',\n",
       " 'Izzathnagar Hyderabad',\n",
       " 'Weaker Section Colony Khanammet Hyderabad',\n",
       " 'Alkapur Township, Manikonda, Outer Ring Road Hyderabad',\n",
       " 'Tellapur, Outer Ring Road Hyderabad',\n",
       " 'Pragathi Nagar, Kukatpally Hyderabad',\n",
       " 'Hyder Nagar, NH 9 Hyderabad',\n",
       " 'Beeramguda Ramachandrapuram Hyderabad',\n",
       " 'Adibatla Hyderabad',\n",
       " 'Bachupally Hyderabad',\n",
       " 'Manikonda Jagir Hyderabad',\n",
       " 'Alkapur Township, Manikonda, Outer Ring Road Hyderabad',\n",
       " 'Gachibowli Hyderabad',\n",
       " 'Bolarum, Medchal Road Hyderabad',\n",
       " 'Kondapur Hyderabad',\n",
       " 'Dilsukhnagar Hyderabad',\n",
       " 'Yapral Hyderabad',\n",
       " 'LB Nagar, NH 9 Hyderabad',\n",
       " 'Madhura Nagar Hyderabad',\n",
       " 'Kokapet, Outer Ring Road Hyderabad',\n",
       " 'Sainikpuri Hyderabad',\n",
       " 'Miyapur, NH 9 Hyderabad',\n",
       " 'Kothapet Hyderabad',\n",
       " 'Banjara Hills, NH 9 Hyderabad',\n",
       " 'Gajularamaram Hyderabad',\n",
       " 'Madhapur Hyderabad',\n",
       " 'Dwarakapuri, Hyderabad Hyderabad',\n",
       " 'Krishna Reddy Pet Hyderabad',\n",
       " 'Sri Nagar Colony Hyderabad',\n",
       " 'Uppal, NH 2 2 Hyderabad',\n",
       " 'Saidabad Hyderabad',\n",
       " 'Gachibowli Hyderabad',\n",
       " 'Hastinapuram Hyderabad',\n",
       " 'Kompally Hyderabad',\n",
       " 'Izzathnagar Hyderabad',\n",
       " 'Hayathnagar Khalsa Hyderabad',\n",
       " 'Narsingi, Outer Ring Road Hyderabad',\n",
       " 'Abhudaya Nagar Colony, Bandlaguda Hyderabad',\n",
       " 'Pragathi Nagar Road Hyderabad',\n",
       " 'Sainikpuri Hyderabad',\n",
       " 'Cheeriyal Hyderabad',\n",
       " 'Kharmanghat Hyderabad',\n",
       " 'Malakpet, NH 9 Hyderabad',\n",
       " 'Godavari Homes, Quthbullapur Hyderabad',\n",
       " 'Mokila Hyderabad',\n",
       " 'Gandi Maisamma, Outer Ring Road Hyderabad',\n",
       " 'Narsingi, Outer Ring Road Hyderabad',\n",
       " 'Ameenpur Hyderabad',\n",
       " 'Khajaguda Hyderabad',\n",
       " 'Bandlaguda Nagole Hyderabad',\n",
       " 'Bachupally Hyderabad',\n",
       " 'Mallampet Road Hyderabad',\n",
       " 'Nagole Hyderabad',\n",
       " 'Shivrampalli Village Hyderabad',\n",
       " 'Annojiguda, NH 2 2 Hyderabad',\n",
       " 'Nalagandla Hyderabad',\n",
       " 'Manikonda Jagir Hyderabad',\n",
       " 'Tulsi Nagar Hyderabad',\n",
       " 'Nizampet Hyderabad',\n",
       " 'Manikonda Jagir Hyderabad',\n",
       " 'Kondapur Hyderabad',\n",
       " 'Raghavendra Colony Kondapur Hyderabad',\n",
       " 'Isnapur, Outer Ring Road Hyderabad',\n",
       " 'Vanasthalipuram, NH 9 Hyderabad',\n",
       " 'Chanda Nagar Hyderabad',\n",
       " 'Appa Junction Area Hyderabad',\n",
       " 'Maheshwaram Hyderabad',\n",
       " 'Kalyan Nagar Moti Nagar Hyderabad',\n",
       " 'Pedda Amberpet Hyderabad',\n",
       " 'Moosapet, NH 9 Hyderabad',\n",
       " 'West Venkatapuram, Secunderabad, Siddipet Road Hyderabad',\n",
       " 'Gachibowli Hyderabad',\n",
       " 'Srinagar Colony Yousufguda Hyderabad',\n",
       " 'Hitech City Hyderabad',\n",
       " 'AS Rao Nagar Hyderabad',\n",
       " 'Kandlakoya Hyderabad',\n",
       " 'Balaji Nagar Colony Kothapet Hyderabad',\n",
       " 'Manikonda Road Hyderabad',\n",
       " 'Mokila Hyderabad',\n",
       " 'Narayan Puri Colony Hyderabad',\n",
       " 'Medchal Hyderabad',\n",
       " 'Boduppal, NH 2 2 Hyderabad',\n",
       " 'Sainikpuri Hyderabad',\n",
       " 'Appa Junction Area Hyderabad',\n",
       " 'OU Colony Shaikpet Hyderabad',\n",
       " 'Manikonda Jagir Hyderabad',\n",
       " 'Madhapur Hyderabad',\n",
       " 'Nagole Hyderabad',\n",
       " 'Hyder Nagar, NH 9 Hyderabad',\n",
       " 'Kokapet, Outer Ring Road Hyderabad',\n",
       " 'Mallampet, Outer Ring Road Hyderabad',\n",
       " 'Gopanpalle Hyderabad',\n",
       " 'Osman Nagar Hyderabad',\n",
       " 'Manikonda Jagir Hyderabad',\n",
       " 'Beeramguda Quthbullapur Hyderabad',\n",
       " 'Kondapur Hyderabad',\n",
       " 'Jubilee Hills Hyderabad',\n",
       " 'Sainikpuri Road Hyderabad',\n",
       " 'Miyapur, NH 9 Hyderabad',\n",
       " 'Puppalguda Hyderabad',\n",
       " 'Pragathi Nagar, Kukatpally Hyderabad',\n",
       " 'West Prasanth Nagar Hyderabad',\n",
       " 'Miyapur, NH 9 Hyderabad',\n",
       " 'Maheshwaram Hyderabad',\n",
       " 'Banjara Hills, NH 9 Hyderabad',\n",
       " 'Suchitra Road Hyderabad',\n",
       " 'Mohan Nagar Kothapet Hyderabad',\n",
       " 'Kondapur Hyderabad',\n",
       " 'Gopanpalle Hyderabad',\n",
       " 'Bachupally Hyderabad',\n",
       " 'Kokapet, Outer Ring Road Hyderabad',\n",
       " 'Isnapur, Outer Ring Road Hyderabad',\n",
       " 'Boduppal, NH 2 2 Hyderabad',\n",
       " 'Chintal Hyderabad',\n",
       " 'Moti Nagar Erragadda Hyderabad',\n",
       " 'Nanakaramguda Hyderabad',\n",
       " 'Kompally Hyderabad',\n",
       " 'RK Puram Kothapet Hyderabad',\n",
       " 'Lahari Jade Residenzia Bhanur Hyderabad',\n",
       " 'Patancheruvu Hyderabad',\n",
       " 'Hitech City Hyderabad',\n",
       " 'Kompally Medak Hyderabad',\n",
       " 'Narepally Hyderabad',\n",
       " 'Kismatpur Road Hyderabad',\n",
       " 'Satamrai Hyderabad',\n",
       " 'Bachupally Hyderabad',\n",
       " 'Thumkunta Hyderabad',\n",
       " 'Meerpet Hyderabad',\n",
       " 'Singareni Colony Hyderabad',\n",
       " 'Tellapur, Outer Ring Road Hyderabad',\n",
       " 'Jubilee Hills Hyderabad',\n",
       " 'Chitkul Hyderabad',\n",
       " 'Indresham, Bachuguda Hyderabad',\n",
       " 'Nimboliadda Hyderabad',\n",
       " 'Hayathnagar Hyderabad',\n",
       " 'Rampally Ma',\n",
       " 'Vijaya Gardens Hyderabad',\n",
       " 'Golf Pride Homes, Secunderabad Hyderabad',\n",
       " 'Sainikpuri Hyderabad',\n",
       " 'Chanda Nagar Hyderabad',\n",
       " 'HMT Swarnapuri Colony Hyderabad',\n",
       " 'Madhapur Hyderabad',\n",
       " 'Velmala Hyderabad',\n",
       " 'Nawab Saheb Kunta Hyderabad',\n",
       " 'Annojiguda, NH 2 2 Hyderabad',\n",
       " 'Kollur, Outer Ring Road Hyderabad',\n",
       " 'Kismatpur, Outer Ring Road Hyderabad',\n",
       " ' Suraram, Hyderabad',\n",
       " ' Kowkoor, Hyderabad',\n",
       " ' Malkajgiri, Hyderabad',\n",
       " ' Tirumalagiri, Hyderabad',\n",
       " ' Gagan Mahal, Himayath Nagar, NH 7, Hyderabad',\n",
       " 'Chintal Hyderabad',\n",
       " ' Muthangi, NH 9, Hyderabad',\n",
       " 'Turkayamjal Hyderabad',\n",
       " 'OU Colony Shaikpet Hyderabad',\n",
       " ' Old Safilguda, Hyderabad',\n",
       " 'Indresham, Bachuguda Hyderabad',\n",
       " 'Shanthi Sree Nagar Colony Hyderabad',\n",
       " ' Ameenpur, Hyderabad',\n",
       " ' Chanda Nagar, Hyderabad',\n",
       " ' Sainikpuri, Hyderabad',\n",
       " ' Bhaskar Rao Nagar Colony, Hyderabad',\n",
       " 'Malkajgiri Hyderabad',\n",
       " ' Kondapur, Hyderabad',\n",
       " ' Muppas Panchavati Colony, Manikonda, Outer Ring Road, Hyderabad',\n",
       " 'Badangpet Hyderabad',\n",
       " 'Nallagandla Tellapur Road Hyderabad',\n",
       " ' OU Colony Shaikpet, Hyderabad',\n",
       " ' Sambhupur, Hyderabad',\n",
       " ' Hyder Nagar, NH 9, Hyderabad',\n",
       " ' Adibatla, Hyderabad',\n",
       " 'Isnapur, Outer Ring Road Hyderabad',\n",
       " ' Kapra Saket Road, Hyderabad',\n",
       " ' Narepally, Hyderabad',\n",
       " 'Ramanthapur, NH 2 2 Hyderabad',\n",
       " 'Chanda Nagar Hyderabad',\n",
       " 'Bowenpally Hyderabad',\n",
       " 'MCH Colony Old Malakpet Hyderabad',\n",
       " 'Buddha Nagar Hyderabad',\n",
       " 'Vidyanagar New Nallakunta Hyderabad',\n",
       " 'LB Nagar, NH 9 Hyderabad',\n",
       " 'Gachibowli Hyderabad',\n",
       " 'Kokapet, Outer Ring Road Hyderabad',\n",
       " 'Kondapur Hyderabad',\n",
       " 'Balanagar Hyderabad',\n",
       " 'Narsingi, Outer Ring Road Hyderabad',\n",
       " 'Saidabad Hyderabad',\n",
       " 'Kondapur Hyderabad',\n",
       " 'Shivrampalli Village Hyderabad',\n",
       " 'Bowrampet, Outer Ring Road Hyderabad',\n",
       " 'Champapet, Koti Hyderabad',\n",
       " 'Kompally Hyderabad',\n",
       " 'Saroornagar, NH 9 Hyderabad',\n",
       " 'Kukatpally, NH 9 Hyderabad',\n",
       " 'Jeedimetla Hyderabad',\n",
       " 'Grk harmony Hyderabad',\n",
       " 'Kompally Hyderabad',\n",
       " 'Tellapur, Outer Ring Road Hyderabad',\n",
       " 'Dargah Khaleej Khan Hyderabad',\n",
       " 'Kompally Hyderabad',\n",
       " 'Serilingampalle M Hyderabad',\n",
       " 'Yapral Hyderabad',\n",
       " 'Musheerabad Hyderabad',\n",
       " 'Saidabad Hyderabad',\n",
       " 'Safilguda, Secunderabad Hyderabad',\n",
       " 'Narepally Hyderabad',\n",
       " 'Hmt Sathavahana Nagar Hyderabad',\n",
       " 'Bowrampet Road Hyderabad',\n",
       " 'Moti Nagar Erragadda Hyderabad',\n",
       " 'Izzathnagar Hyderabad',\n",
       " 'Weaker Section Colony Khanammet Hyderabad',\n",
       " 'Alkapur Township, Manikonda, Outer Ring Road Hyderabad',\n",
       " 'Tellapur, Outer Ring Road Hyderabad',\n",
       " 'Pragathi Nagar, Kukatpally Hyderabad',\n",
       " 'Hyder Nagar, NH 9 Hyderabad',\n",
       " 'Beeramguda Ramachandrapuram Hyderabad',\n",
       " 'Adibatla Hyderabad',\n",
       " 'Bachupally Hyderabad',\n",
       " 'Manikonda Jagir Hyderabad',\n",
       " 'Alkapur Township, Manikonda, Outer Ring Road Hyderabad',\n",
       " 'Gachibowli Hyderabad',\n",
       " 'Bolarum, Medchal Road Hyderabad',\n",
       " 'Kondapur Hyderabad',\n",
       " 'Dilsukhnagar Hyderabad',\n",
       " 'Yapral Hyderabad',\n",
       " 'LB Nagar, NH 9 Hyderabad',\n",
       " 'Madhura Nagar Hyderabad',\n",
       " 'Kokapet, Outer Ring Road Hyderabad',\n",
       " 'Sainikpuri Hyderabad',\n",
       " 'Miyapur, NH 9 Hyderabad',\n",
       " 'Kothapet Hyderabad',\n",
       " 'Banjara Hills, NH 9 Hyderabad',\n",
       " 'Gajularamaram Hyderabad',\n",
       " 'Madhapur Hyderabad',\n",
       " 'Dwarakapuri, Hyderabad Hyderabad',\n",
       " 'Krishna Reddy Pet Hyderabad',\n",
       " 'Sri Nagar Colony Hyderabad',\n",
       " 'Uppal, NH 2 2 Hyderabad',\n",
       " 'Saidabad Hyderabad',\n",
       " 'Gachibowli Hyderabad',\n",
       " 'Hastinapuram Hyderabad',\n",
       " 'Kompally Hyderabad',\n",
       " 'Izzathnagar Hyderabad',\n",
       " 'Hayathnagar Khalsa Hyderabad',\n",
       " 'Narsingi, Outer Ring Road Hyderabad',\n",
       " 'Abhudaya Nagar Colony, Bandlaguda Hyderabad',\n",
       " 'Pragathi Nagar Road Hyderabad',\n",
       " 'Sainikpuri Hyderabad',\n",
       " 'Cheeriyal Hyderabad',\n",
       " 'Kharmanghat Hyderabad',\n",
       " 'Malakpet, NH 9 Hyderabad',\n",
       " 'Godavari Homes, Quthbullapur Hyderabad',\n",
       " 'Mokila Hyderabad',\n",
       " 'Gandi Maisamma, Outer Ring Road Hyderabad',\n",
       " 'Narsingi, Outer Ring Road Hyderabad',\n",
       " 'Ameenpur Hyderabad',\n",
       " 'Khajaguda Hyderabad',\n",
       " 'Bandlaguda Nagole Hyderabad',\n",
       " 'Bachupally Hyderabad',\n",
       " 'Mallampet Road Hyderabad',\n",
       " 'Nagole Hyderabad',\n",
       " 'Shivrampalli Village Hyderabad',\n",
       " 'Annojiguda, NH 2 2 Hyderabad',\n",
       " 'Nalagandla Hyderabad',\n",
       " 'Manikonda Jagir Hyderabad',\n",
       " 'Tulsi Nagar Hyderabad',\n",
       " 'Nizampet Hyderabad',\n",
       " 'Manikonda Jagir Hyderabad',\n",
       " 'Kondapur Hyderabad',\n",
       " 'Raghavendra Colony Kondapur Hyderabad',\n",
       " 'Isnapur, Outer Ring Road Hyderabad',\n",
       " 'Vanasthalipuram, NH 9 Hyderabad',\n",
       " 'Chanda Nagar Hyderabad',\n",
       " 'Appa Junction Area Hyderabad',\n",
       " 'Maheshwaram Hyderabad',\n",
       " 'Kalyan Nagar Moti Nagar Hyderabad',\n",
       " 'Pedda Amberpet Hyderabad',\n",
       " 'Moosapet, NH 9 Hyderabad',\n",
       " 'West Venkatapuram, Secunderabad, Siddipet Road Hyderabad',\n",
       " 'Gachibowli Hyderabad',\n",
       " 'Srinagar Colony Yousufguda Hyderabad',\n",
       " 'Hitech City Hyderabad',\n",
       " 'AS Rao Nagar Hyderabad',\n",
       " 'Kandlakoya Hyderabad',\n",
       " 'Balaji Nagar Colony Kothapet Hyderabad',\n",
       " 'Manikonda Road Hyderabad',\n",
       " 'Mokila Hyderabad',\n",
       " 'Narayan Puri Colony Hyderabad',\n",
       " 'Medchal Hyderabad',\n",
       " 'Boduppal, NH 2 2 Hyderabad',\n",
       " 'Sainikpuri Hyderabad',\n",
       " 'Appa Junction Area Hyderabad',\n",
       " 'OU Colony Shaikpet Hyderabad',\n",
       " 'Manikonda Jagir Hyderabad',\n",
       " 'Madhapur Hyderabad',\n",
       " 'Nagole Hyderabad',\n",
       " 'Hyder Nagar, NH 9 Hyderabad',\n",
       " 'Kokapet, Outer Ring Road Hyderabad',\n",
       " 'Mallampet, Outer Ring Road Hyderabad',\n",
       " 'Gopanpalle Hyderabad',\n",
       " 'Osman Nagar Hyderabad',\n",
       " 'Manikonda Jagir Hyderabad',\n",
       " 'Beeramguda Quthbullapur Hyderabad',\n",
       " 'Kondapur Hyderabad',\n",
       " 'Jubilee Hills Hyderabad',\n",
       " 'Sainikpuri Road Hyderabad',\n",
       " 'Miyapur, NH 9 Hyderabad',\n",
       " 'Puppalguda Hyderabad',\n",
       " 'Pragathi Nagar, Kukatpally Hyderabad',\n",
       " 'West Prasanth Nagar Hyderabad',\n",
       " 'Miyapur, NH 9 Hyderabad',\n",
       " 'Maheshwaram Hyderabad',\n",
       " 'Banjara Hills, NH 9 Hyderabad',\n",
       " 'Suchitra Road Hyderabad',\n",
       " 'Mohan Nagar Kothapet Hyderabad',\n",
       " 'Kondapur Hyderabad',\n",
       " 'Gopanpalle Hyderabad',\n",
       " 'Bachupally Hyderabad',\n",
       " 'Kokapet, Outer Ring Road Hyderabad',\n",
       " 'Isnapur, Outer Ring Road Hyderabad',\n",
       " 'Boduppal, NH 2 2 Hyderabad',\n",
       " 'Chintal Hyderabad',\n",
       " 'Moti Nagar Erragadda Hyderabad',\n",
       " 'Nanakaramguda Hyderabad',\n",
       " 'Kompally Hyderabad',\n",
       " 'RK Puram Kothapet Hyderabad',\n",
       " 'Lahari Jade Residenzia Bhanur Hyderabad',\n",
       " 'Patancheruvu Hyderabad',\n",
       " 'Hitech City Hyderabad',\n",
       " 'Kompally Medak Hyderabad',\n",
       " 'Narepally Hyderabad',\n",
       " 'Kismatpur Road Hyderabad',\n",
       " 'Satamrai Hyderabad',\n",
       " 'Bachupally Hyderabad',\n",
       " 'Thumkunta Hyderabad',\n",
       " 'Meerpet Hyderabad',\n",
       " 'Singareni Colony Hyderabad',\n",
       " 'Tellapur, Outer Ring Road Hyderabad',\n",
       " 'Jubilee Hills Hyderabad',\n",
       " 'Chitkul Hyderabad',\n",
       " 'Indresham, Bachuguda Hyderabad',\n",
       " 'Nimboliadda Hyderabad',\n",
       " 'Hayathnagar Hyderabad',\n",
       " ...]"
      ]
     },
     "execution_count": 9,
     "metadata": {},
     "output_type": "execute_result"
    }
   ],
   "source": [
    "all_area_list"
   ]
  },
  {
   "cell_type": "code",
   "execution_count": 10,
   "metadata": {},
   "outputs": [],
   "source": [
    "b=[]\n",
    "for i in range(0,38169):\n",
    "    b = all_area_list[i].split(', ')"
   ]
  },
  {
   "cell_type": "code",
   "execution_count": 11,
   "metadata": {},
   "outputs": [
    {
     "data": {
      "text/plain": [
       "['Gandipet Hyderabad']"
      ]
     },
     "execution_count": 11,
     "metadata": {},
     "output_type": "execute_result"
    }
   ],
   "source": [
    "b"
   ]
  },
  {
   "cell_type": "code",
   "execution_count": 12,
   "metadata": {},
   "outputs": [
    {
     "data": {
      "text/plain": [
       "(38171, 14)"
      ]
     },
     "execution_count": 12,
     "metadata": {},
     "output_type": "execute_result"
    }
   ],
   "source": [
    "df.shape"
   ]
  },
  {
   "cell_type": "code",
   "execution_count": 13,
   "metadata": {},
   "outputs": [],
   "source": [
    "old_df = pd.read_csv('../web-scraping/OLD-magicbricks_data.csv')"
   ]
  },
  {
   "cell_type": "code",
   "execution_count": 14,
   "metadata": {},
   "outputs": [
    {
     "data": {
      "text/plain": [
       "Index(['Title', 'Carpet Area', 'Status', 'Floor', 'Transaction', 'Furnishing',\n",
       "       'facing', 'overlooking', 'Ownership', 'Bathroom', 'Balcony',\n",
       "       'Car Parking', 'Super Area', 'Dimensions', 'Under Construction',\n",
       "       'Built Area'],\n",
       "      dtype='object')"
      ]
     },
     "execution_count": 14,
     "metadata": {},
     "output_type": "execute_result"
    }
   ],
   "source": [
    "(old_df.columns)\n"
   ]
  },
  {
   "cell_type": "code",
   "execution_count": 15,
   "metadata": {},
   "outputs": [
    {
     "data": {
      "text/html": [
       "<div>\n",
       "<style scoped>\n",
       "    .dataframe tbody tr th:only-of-type {\n",
       "        vertical-align: middle;\n",
       "    }\n",
       "\n",
       "    .dataframe tbody tr th {\n",
       "        vertical-align: top;\n",
       "    }\n",
       "\n",
       "    .dataframe thead th {\n",
       "        text-align: right;\n",
       "    }\n",
       "</style>\n",
       "<table border=\"1\" class=\"dataframe\">\n",
       "  <thead>\n",
       "    <tr style=\"text-align: right;\">\n",
       "      <th></th>\n",
       "      <th>Title</th>\n",
       "      <th>Carpet Area</th>\n",
       "      <th>Status</th>\n",
       "      <th>Floor</th>\n",
       "      <th>Transaction</th>\n",
       "      <th>Furnishing</th>\n",
       "      <th>facing</th>\n",
       "      <th>overlooking</th>\n",
       "      <th>Ownership</th>\n",
       "      <th>Bathroom</th>\n",
       "      <th>Balcony</th>\n",
       "      <th>Car Parking</th>\n",
       "      <th>Super Area</th>\n",
       "      <th>Dimensions</th>\n",
       "      <th>Under Construction</th>\n",
       "      <th>Built Area</th>\n",
       "    </tr>\n",
       "  </thead>\n",
       "  <tbody>\n",
       "    <tr>\n",
       "      <th>20002</th>\n",
       "      <td>2 BHK Apartment for Sale in Devi Bagh Red Hill...</td>\n",
       "      <td>1120 sqft</td>\n",
       "      <td>Ready to Move</td>\n",
       "      <td>2 out of 5</td>\n",
       "      <td>New Property</td>\n",
       "      <td>Unfurnished</td>\n",
       "      <td>North</td>\n",
       "      <td>NaN</td>\n",
       "      <td>Freehold</td>\n",
       "      <td>2</td>\n",
       "      <td>1</td>\n",
       "      <td>NaN</td>\n",
       "      <td>NaN</td>\n",
       "      <td>NaN</td>\n",
       "      <td>NaN</td>\n",
       "      <td>NaN</td>\n",
       "    </tr>\n",
       "  </tbody>\n",
       "</table>\n",
       "</div>"
      ],
      "text/plain": [
       "                                                   Title Carpet Area  \\\n",
       "20002  2 BHK Apartment for Sale in Devi Bagh Red Hill...   1120 sqft   \n",
       "\n",
       "              Status       Floor   Transaction   Furnishing facing  \\\n",
       "20002  Ready to Move  2 out of 5  New Property  Unfurnished  North   \n",
       "\n",
       "      overlooking Ownership Bathroom Balcony Car Parking Super Area  \\\n",
       "20002         NaN  Freehold        2       1         NaN        NaN   \n",
       "\n",
       "      Dimensions Under Construction Built Area  \n",
       "20002        NaN                NaN        NaN  "
      ]
     },
     "execution_count": 15,
     "metadata": {},
     "output_type": "execute_result"
    }
   ],
   "source": [
    "old_df.sample()"
   ]
  },
  {
   "cell_type": "code",
   "execution_count": 16,
   "metadata": {},
   "outputs": [],
   "source": [
    "a = df['Price']"
   ]
  },
  {
   "cell_type": "code",
   "execution_count": 17,
   "metadata": {},
   "outputs": [
    {
     "data": {
      "text/plain": [
       "Index(['Title', 'Price', 'Property_Type', 'Sector', 'Bedrooms', 'Bathrooms',\n",
       "       'Balconies', 'Age_or_Possession', 'Built_Up_Area', 'Servant_Room',\n",
       "       'Store_Room', 'Furnishing_Type', 'Luxury_Category', 'Floor_Category'],\n",
       "      dtype='object')"
      ]
     },
     "execution_count": 17,
     "metadata": {},
     "output_type": "execute_result"
    }
   ],
   "source": [
    "(df.columns)"
   ]
  },
  {
   "cell_type": "code",
   "execution_count": 18,
   "metadata": {},
   "outputs": [
    {
     "data": {
      "text/plain": [
       "pandas.core.series.Series"
      ]
     },
     "execution_count": 18,
     "metadata": {},
     "output_type": "execute_result"
    }
   ],
   "source": [
    "type(a)"
   ]
  },
  {
   "cell_type": "code",
   "execution_count": null,
   "metadata": {},
   "outputs": [],
   "source": []
  },
  {
   "cell_type": "code",
   "execution_count": 19,
   "metadata": {},
   "outputs": [],
   "source": [
    "with open(\"variables.py\", \"w\") as f:\n",
    "    f.write(f\"variable_name = {repr(all_area_list)}\")  # Replace 'variable_name' with your variable\n"
   ]
  },
  {
   "cell_type": "code",
   "execution_count": 20,
   "metadata": {},
   "outputs": [],
   "source": [
    "set_of_all_area_list = set(all_area_list)"
   ]
  },
  {
   "cell_type": "code",
   "execution_count": 21,
   "metadata": {},
   "outputs": [
    {
     "data": {
      "text/plain": [
       "525"
      ]
     },
     "execution_count": 21,
     "metadata": {},
     "output_type": "execute_result"
    }
   ],
   "source": [
    "len(set_of_all_area_list)"
   ]
  },
  {
   "cell_type": "code",
   "execution_count": 22,
   "metadata": {},
   "outputs": [],
   "source": [
    "with open('variables.py','a') as f:\n",
    "    f.write(f\"set_of_all_area_list = {set_of_all_area_list}\")"
   ]
  },
  {
   "cell_type": "code",
   "execution_count": null,
   "metadata": {},
   "outputs": [],
   "source": []
  },
  {
   "cell_type": "code",
   "execution_count": null,
   "metadata": {},
   "outputs": [],
   "source": []
  },
  {
   "cell_type": "code",
   "execution_count": 23,
   "metadata": {},
   "outputs": [],
   "source": [
    "#data extracted using webscraping\n",
    "\n",
    "list_of_all_areas_with_longlat = {'Cherlapalli Hyderabad': '17.4695° N, 78.5968° E', 'Nawab Saheb Kunta Hyderabad': '17.3286° N, 78.4493° E', 'P and T Colony Dilsukhnagar Hyderabad': '17.3580° N, 78.5288° E', 'Kakatiya Hills Kavuri Hills Hyderabad': '17.4440° N, 78.3992° E', 'Lal Darwaza Hyderabad': '17.3474° N, 78.4766° E', 'Bharat Heavy Electricals Limited Hyderabad': '17.4916° N, 78.2920° E', 'Rajnagar Borabanda Hyderabad': '17.4531° N, 78.4160° E', 'Mokila Hyderabad': '17.4393° N, 78.1849° E', 'Mallapur Balapur Hyderabad': '17.2901° N, 78.4937° E', 'Rampally Hyderabad': '17.4672° N, 78.6419° E', 'Kapra Hyderabad': '17.4885° N, 78.5682° E', 'Mohan Nagar Kothapet Hyderabad': '17.3727° N, 78.5498° E', 'Purani Haveli, Pathar Gatti Hyderabad': '17.3659° N, 78.4830° E', 'Teachers Colony Tirumalagiri Hyderabad': '17.4806° N, 78.5015° E', 'Khairtabad Hyderabad': '17.4106° N, 78.4652° E', 'Osman Nagar Hyderabad': '17.4416° N, 78.2785° E', 'Hill County, Nizampet Hyderabad': '17.5321° N, 78.3792° E', 'Nanakaramguda Hyderabad': '17.4169° N, 78.3424° E', 'Sun City, Bandlaguda, Chevella Road Hyderabad': '17.3650° N, 78.3957° E', 'Sai Nagar Hafeezpet Hyderabad': '17.4869° N, 78.3608° E', 'Rahmat Nagar Moti Nagar Hyderabad': '17.4405° N, 78.4228° E', 'Himayatnagar Hyderabad': '17.4021° N, 78.4840° E', 'Parvathapur Hyderabad': '17.3979° N, 78.6200° E', 'Dwarakapuri, Hyderabad Hyderabad': '17.4252° N, 78.4503° E', 'Narepally Hyderabad': '17.4294° N, 78.6138° E', 'Stella Nagaram, Dammaiguda Hyderabad': '17.4975° N, 78.6044° E', 'Shiva Nagar Colony Hyderabad': '17.3627° N, 78.4240° E', 'Mothi Nagar Borabanda Hyderabad': '17.4545° N, 78.4220° E', 'Devi Bagh Red Hills Hyderabad': '17.3941° N, 78.4660° E', 'Golden Habitat, Hitech City Hyderabad': '17.4533° N, 78.3654° E', 'Sreenagar Hyderabad': '17.4321° N, 78.4385° E', 'Gandipet Hyderabad': '17.3807° N, 78.3245° E', 'Kollur, Outer Ring Road Hyderabad': '17.4958° N, 78.3982° E', 'Raghavendra Nagar Nacharam Hyderabad': '17.4249° N, 78.5590° E', 'Narayan Puri Colony Hyderabad': '17.3483° N, 78.5373° E', 'Shamirpet Hyderabad': '17.5958° N, 78.5713° E', 'CUC Gachibowli Hyderabad': '17.4524° N, 78.3316° E', 'Adarsh Nagar Colony Nagole Hyderabad': '17.3718° N, 78.5597° E', 'Musheerabad Hyderabad': '17.4197° N, 78.4990° E', 'Arul Colony Hyderabad': '17.4784° N, 78.5642° E', 'Ram Nagar Hyderabad': '17.4126° N, 78.5053° E', ' Hyder Nagar, NH 9, Hyderabad': '17.4992° N, 78.3837° E', 'Kachavani Singaram Hyderabad': '17.3927° N, 78.6314° E', 'Balanagar Hyderabad': '17.4814° N, 78.4490° E', 'Anand Nagar Bandlaguda Hyderabad': '17.3693° N, 78.5758° E', 'Sayeedabad Colony Hyderabad': '17.3575° N, 78.5110° E', 'Nimboliadda Hyderabad': '17.3865° N, 78.4993° E', 'Ganesh Nagar Ramanthapur Hyderabad': '17.3961° N, 78.5317° E', 'Anand Nagar Colony Khairtabad Hyderabad': '17.4113° N, 78.4564° E', 'Kondapur Hyderabad': '17.4700° N, 78.3534° E', 'Sainathapuram Hyderabad': '17.4744° N, 78.5515° E', 'CMC Enclave, Kondapur Hyderabad': '17.4612° N, 78.3451° E', 'Financial District, Nanakram Guda Hyderabad': '17.4117° N, 78.3425° E', 'Lingampally Hyderabad': '17.4837° N, 78.3158° E', 'Dhatu Nagar, Kanchan Bagh Hyderabad': '17.3264° N, 78.5164° E', 'Dammaiguda Hyderabad': '17.5003° N, 78.5938° E', 'Bandlaguda Jagir Hyderabad': '17.3630° N, 78.3943° E', 'Mallikarjuna Colony Hyderabad': '17.4769° N, 78.4833° E', 'Almasguda Badangpet Hyderabad': '17.3145° N, 78.5334° E', 'Tarnaka Hyderabad': '17.4301° N, 78.5416° E', 'Shivaji Nagar Hyderabad': '17.3392° N, 78.4745° E', 'Gajularamaram Hyderabad': '17.5350° N, 78.4022° E', 'Gopanpalle Hyderabad': '17.4514° N, 78.3092° E', 'Narapally Hyderabad': '17.4294° N, 78.6138° E', 'Sultan Bazar Hyderabad': '17.3914° N, 78.4783° E', 'Sri Ram Nagar Kondapur Hyderabad': '17.4618° N, 78.3551° E', 'Masjid Banda Hyderabad': '17.4657° N, 78.3464° E', 'Whisper Valley Hyderabad': '17.4144° N, 78.3974° E', 'Czech Colony Hyderabad': '17.4550° N, 78.4375° E', 'Korremula Hyderabad': '17.4043° N, 78.6662° E', 'Sai Nagar Nagole Hyderabad': '17.3675° N, 78.5597° E', 'Kalyan Nagar Moti Nagar Hyderabad': '17.4526° N, 78.4219° E', 'Chintalkunta Hyderabad': '17.3339° N, 78.5622° E', 'Hayathnagar Khalsa Hyderabad': '17.3271° N, 78.6053° E', 'Chintal Hyderabad': '17.5162° N, 78.4496° E', 'Shilpa Valley, Serilingampally Hyderabad': '17.4762° N, 78.3462° E', 'Padmasri Hills Hyderabad': '17.3563° N, 78.3954° E', 'Hitech City Hyderabad': '17.4435° N, 78.3772° E', ' Tirumalagiri, Hyderabad': '17.4777° N, 78.5107° E', 'Sai Nagar Colony Hayathnagar Hyderabad': '17.3203° N, 78.5950° E', ' Kowkoor, Hyderabad': '17.5257° N, 78.5362° E', 'Hyder Nagar, NH 9 Hyderabad': '17.4992° N, 78.3837° E', 'Kakatiya Hills Vasanth Nagar Colony Hyderabad': '17.5317° N, 78.3913° E', ' Sambhupur, Hyderabad': '17.5899° N, 78.3913° E', 'West Marredpally Hyderabad': '17.4524° N, 78.5060° E', 'Nallagandla, Hyderabad Hyderabad': '17.4748° N, 78.3103° E', 'Manikonda Jagir Hyderabad': '17.4062° N, 78.3763° E', 'Ramdev Guda Hyderabad': '17.3744° N, 78.3913° E', 'Mettuguda Hyderabad': '17.4365° N, 78.5204° E', 'Chitrapuri Colony Narayanguda Hyderabad': '17.3944° N, 78.4972° E', 'OU Colony Shaikpet Hyderabad': '17.4071° N, 78.3906° E', 'East Marredpally Hyderabad': '17.4476° N, 78.5137° E', 'Annapurna Colony Mallapur Hyderabad': '17.4422° N, 78.5682° E', 'Film Nagar Hyderabad': '17.4160° N, 78.4114° E', 'Banjara Hills, NH 9 Hyderabad': '17.4146° N, 78.4383° E', 'Chitkul Hyderabad': '17.5606° N, 78.2163° E', 'Kushaiguda Hyderabad': '17.4803° N, 78.5699° E', 'Adibatla Hyderabad': '17.2335° N, 78.5426° E', 'Abhudaya Nagar Colony, Bandlaguda Hyderabad': '17.3484° N, 78.3821° E', 'Nizampet Hyderabad': '17.5197° N, 78.3779° E', 'Begampet Hyderabad': '17.4447° N, 78.4664° E', 'Patancheruvu Hyderabad': '17.5287° N, 78.2667° E', 'Phase 5th KPHB Hyderabad': '17.4785° N, 78.3920° E', 'Ajay Nagar, Nagole Hyderabad': '17.3763° N, 78.5732° E', 'Chandrapuri Colony Kapra Hyderabad': '17.4867° N, 78.5574° E', 'Sudarshan Nagar Colony Hyderabad': '17.4703° N, 78.3327° E', 'Uppal Hyderabad': '17.3984° N, 78.5583° E', 'Picket Hyderabad': '17.4528° N, 78.4986° E', 'P and T Colony Bandlaguda Jagir Hyderabad': '17.3570° N, 78.4048° E', 'Gopanapalli Thanda Hyderabad': '17.4379° N, 78.3080° E', 'Maheshwaram Hyderabad': '17.5629° N, 78.3752° E', 'Gandhi Nagar Kavadiguda Hyderabad': '17.4137° N, 78.4923° E', 'Vidya Nagar Adikmet Hyderabad': '17.4065° N, 78.5139° E', ' Ameenpur, Hyderabad': '17.5171° N, 78.3157° E', 'Bhaskar Rao Nagar Colony Hyderabad': '17.4906° N, 78.5477° E', 'Annapurna Colony Boduppal Hyderabad': '17.4239° N, 78.5796° E', 'Syed Nagar Hyderabad': '17.4062° N, 78.4368° E', 'Maruthi Nagar Kothapet Hyderabad': '17.3740° N, 78.5434° E', 'Chaitanyapuri, Kothapet Hyderabad': '17.3760° N, 78.5371° E', 'Vinay Nagar, Sayeedabad Hyderabad': '17.3539° N, 78.5082° E', 'Mythri Nagar Madeenaguda Hyderabad': '17.4933° N, 78.3465° E', 'West Prasanth Nagar Hyderabad': '17.3795° N, 78.5131° E', 'Rajendranagar Mandal Hyderabad': '17.3220° N, 78.4023° E', 'Sri Maruthi Nagar Colony, Serilingampally Hyderabad': '17.4702° N, 78.3373° E', 'Santosh Nagar Hyderabad': '17.3472° N, 78.5083° E', 'Phase 6 KPHB Hyderabad': '17.4870° N, 78.3861° E', 'Marredpally Hyderabad': '17.4437° N, 78.5088° E', 'Vijaya Gardens Hyderabad': '17.3752° N, 78.5682° E', 'Masab Tank Hyderabad': '17.4033° N, 78.4529° E', 'Upperpally Hyderabad': '17.3602° N, 78.4178° E', 'Annaram, Nagole Hyderabad': '17.3688° N, 78.5824° E', 'Nacharam Hyderabad': '17.4308° N, 78.5595° E', 'Kakateeya Nagar, Secunderabad Hyderabad': '17.4157° N, 78.5410° E', 'Ruby Block, Komapally Hyderabad': '17.5292° N, 78.4866° E', 'Hasthinapuram South, Hastinapuram Hyderabad': '17.3250° N, 78.5554° E', 'Mahadevpur Colony Hyderabad': '17.5213° N, 78.4141° E', 'Venkatraya Nagar, Nizampet Hyderabad': '17.5163° N, 78.3771° E', 'Ashok Nagar Cherlapalli Hyderabad': '17.4499° N, 78.5810° E', 'NGO Colony Hyderabad': '17.3255° N, 78.5640° E', 'Parsigutta Warasiguda Hyderabad': '17.4146° N, 78.5132° E', 'Judges Colony New Malakpet Hyderabad': '17.3731° N, 78.4997° E', ' Adibatla, Hyderabad': '17.2335° N, 78.5426° E', 'Pragathi Enclave Hyderabad': '17.5004° N, 78.3544° E', 'Rodamestri Nagar Hyderabad': '17.5179° N, 78.4278° E', 'APHB Colony Moula Ali Hyderabad': '17.4569° N, 78.5643° E', 'Buddha Nagar Hyderabad': '17.4205° N, 78.5996° E', 'Shaikpet Hyderabad': '17.4060° N, 78.3908° E', 'Ramakrishna Nagar Madeenaguda Hyderabad': '17.4925° N, 78.3423° E', 'Velmala Hyderabad': '17.4739° N, 78.2277° E', 'RTC Colony Ramanthapur Hyderabad': '17.3940° N, 78.5345° E', 'Kothaguda Hyderabad': '17.4643° N, 78.3756° E', 'Old Alwal Hyderabad': '17.5054° N, 78.5015° E', 'Srinagar Colony Yousufguda Hyderabad': '17.4321° N, 78.4385° E', 'Adarsh Nagar Uppal Hyderabad': '17.4135° N, 78.5618° E', 'Indresham, Bachuguda Hyderabad': '17.5625° N, 78.2369° E', 'Fatehdarwaza, Ramnas Pura Hyderabad': '17.3517° N, 78.4631° E', 'Weaker Section Colony Khanammet Hyderabad': '17.4648° N, 78.3807° E', ' OU Colony Shaikpet, Hyderabad': '17.4071° N, 78.3906° E', 'Gurram Guda Hyderabad': '17.2945° N, 78.5665° E', 'Kompally Medak Hyderabad': '17.5366° N, 78.4845° E', 'Bachepally Hyderabad': '17.5513° N, 78.3855° E', 'Balapur Hyderabad': '17.3089° N, 78.5062° E', 'RISALA BAZAR BOLARUM Hyderabad': '17.5284° N, 78.5160° E', 'Izzathnagar Hyderabad': '17.4677° N, 78.3798° E', 'Shivrampalli Village Hyderabad': '17.3264° N, 78.4290° E', 'Excise Colony, Yapral Hyderabad': '17.5016° N, 78.5437° E', 'Padma Colony New Nallakunta Hyderabad': '17.3992° N, 78.5043° E', 'Tukkuguda, Srisailam Highway Hyderabad': '17.2093° N, 78.4766° E', 'Lakshmi Nagar Colony-Hanuman Nagar Colony Hyderabad': '17.4111° N, 78.5838° E', 'Jeedimetla Hyderabad': '17.5197° N, 78.4586° E', 'Mayuri Nagar Miyapur Hyderabad': '17.5141° N, 78.3666° E', 'Alwal Hyderabad': '17.4967° N, 78.5067° E', 'MCH Colony Old Malakpet Hyderabad': '17.3758° N, 78.5029° E', 'Chinthal Hyderabad': '17.5162° N, 78.4496° E', 'Yapral Hyderabad': '17.5060° N, 78.5330° E', 'RK Puram Kothapet Hyderabad': '17.3689° N, 78.5534° E', 'AS Rao Nagar Hyderabad': '17.4785° N, 78.5506° E', 'Defence Officer Colony Hyderabad': '17.5000° N, 78.5298° E', 'Kavuri Hills Madhapur Hyderabad': '17.4448° N, 78.3999° E', 'Madhura Nagar Hyderabad': '17.4388° N, 78.4345° E', 'Mayur Marg Hyderabad': '17.4419° N, 78.4617° E', 'Balaji Nagar Colony Kothapet Hyderabad': '17.3768° N, 78.5508° E', 'Nagaram Hyderabad': '17.4853° N, 78.6099° E', 'Kranthi Nagar Saidabad Hyderabad': '17.3585° N, 78.5107° E', 'Subhash Nagar Jeedimetla Hyderabad': '17.5116° N, 78.4589° E', 'Safari Nagar Hyderabad': '17.4618° N, 78.3618° E', 'Mallapur Hyderabad': '17.4465° N, 78.5746° E', 'New Friends Colony Hyderabad': '17.3579° N, 78.4191° E', 'Bandlaguda Nagole Hyderabad': '17.3698° N, 78.5753° E', 'Ameenpur Hyderabad': '17.5171° N, 78.3157° E', 'Prakash Nagar Begumpet Hyderabad': '17.4423° N, 78.4688° E', 'Badangpet Hyderabad': '17.3053° N, 78.5253° E', 'Phase 3 KPHB Hyderabad': '17.4874° N, 78.3935° E', ' Sainikpuri, Hyderabad': '17.4928° N, 78.5469° E', 'Huda Colony Hyderabad': '17.4895° N, 78.3309° E', 'New Nallakunta Hyderabad': '17.3991° N, 78.5017° E', 'Chilakalguda Hyderabad': '17.4302° N, 78.5108° E', 'Dulapally Hyderabad': '17.5466° N, 78.4668° E', ' Malkajgiri, Hyderabad': '17.4503° N, 78.5322° E', 'IDA Mallapur Hyderabad': '17.4317° N, 78.5742° E', 'Subash Nagar Hyderabad': '17.5175° N, 78.4611° E', 'Gaganpahad Hyderabad': '17.2914° N, 78.4137° E', 'Shamshabad Hyderabad': '17.2619° N, 78.3880° E', 'Sainikpuri Hyderabad': '17.4928° N, 78.5469° E', 'Noorkhan Bazaar Hyderabad': '17.3713° N, 78.4870° E', 'Kanajiguda Hyderabad': '17.4863° N, 78.4986° E', 'Panchavati Colony New Bowenpally Hyderabad': '17.4624° N, 78.4834° E', 'Gudimalkapur Hyderabad': '17.3788° N, 78.4374° E', 'Divya Nagar, Peerzadiguda Hyderabad': '17.4030° N, 78.6328° E', 'Bapuji Nagar Yapral Hyderabad': '17.5033° N, 78.5412° E', 'Suraram Village, Suraram Hyderabad': '17.5393° N, 78.4226° E', 'Godumakunta Hyderabad': '17.4986° N, 78.6484° E', 'Karkhana Hyderabad': '17.4615° N, 78.5004° E', ' Narepally, Hyderabad': '17.4294° N, 78.6138° E', 'Nagole Hyderabad': '17.3715° N, 78.5695° E', 'Gundlapochampally, Outer Ring Road Hyderabad': '17.5690° N, 78.4879° E', 'Vidyanagar New Nallakunta Hyderabad': '17.4019° N, 78.5075° E', 'Gundlapochampalli Hyderabad': '17.5671° N, 78.4773° E', 'Vijaya Nagar Colony Hyderabad': '17.3948° N, 78.4532° E', 'MLR Colony Dammaiguda Hyderabad': '17.5089° N, 78.5911° E', 'Hmt Sathavahana Nagar Hyderabad': '17.5010° N, 78.4020° E', 'bhavani tution nadergul Hyderabad': '17.2707° N, 78.5240° E', 'KNR Colony Nizampet Hyderabad': '17.5166° N, 78.3770° E', 'Sri Nagar Colony Hyderabad': '17.4321° N, 78.4385° E', 'Humayun Nagar Hyderabad': '17.3991° N, 78.4460° E', ' Bhaskar Rao Nagar Colony, Hyderabad': '17.4906° N, 78.5477° E', 'East Anandbagh Hyderabad': '17.4547° N, 78.5456° E', 'Godavari Homes, Quthbullapur Hyderabad': '17.5050° N, 78.4702° E', 'Mehdipatnam Hyderabad': '17.3958° N, 78.4312° E', 'Bachupally Hyderabad': '17.5513° N, 78.3855° E', 'Ashok Nagar Himayatnagar Hyderabad': '17.4063° N, 78.4900° E', 'Dr Reddys Enclave Hyderabad': '17.5213° N, 78.3508° E', 'Vivekananda Nagar Kukatpally Hyderabad': '17.4950° N, 78.4112° E', 'Moula Ali Hyderabad': '17.4629° N, 78.5609° E', 'Vasavi Colony Bahadurguda Hyderabad': '17.3621° N, 78.5494° E', 'Jai Hind Nagar Colony Hyderabad': '17.3977° N, 78.3913° E', 'Amberpet Hyderabad': '17.3920° N, 78.5163° E', 'Bagh Lingampally Hyderabad': '17.3982° N, 78.4993° E', 'Registration Colony, Secunderabad Hyderabad': '17.5095° N, 78.5469° E', 'Viman Nagar Hyderabad': '17.4444° N, 78.4802° E', 'Kharmanghat Hyderabad': '17.3413° N, 78.5316° E', 'Kompally Hyderabad': '17.5366° N, 78.4845° E', 'Bandari Layout Hyderabad': '17.5204° N, 78.3847° E', ' Chanda Nagar, Hyderabad': '17.4934° N, 78.3278° E', 'Sri Ram Nagar Colony Banjara Hills Hyderabad': '17.4088° N, 78.4432° E', 'Whitefields Hyderabad': '17.4555° N, 78.3685° E', 'Pedda Amberpet Hyderabad': '17.3221° N, 78.6441° E', 'Mithila Nagar Pragathi Nagar Hyderabad': '17.5201° N, 78.3988° E', 'Moti Nagar Erragadda Hyderabad': '17.4571° N, 78.4233° E', 'Krishna Reddy Pet Hyderabad': '17.5359° N, 78.2903° E', 'Vayupuri Hyderabad': '17.4845° N, 78.5441° E', 'RamNaresh Nagar, Hyder Nagar Hyderabad': '17.5012° N, 78.3807° E', 'Chikkadpally Hyderabad': '17.4009° N, 78.4965° E', 'Syndicate Bank Colony, Secunderabad Hyderabad': '17.4533° N, 78.5025° E', 'Vasanth Nagar Colony Nizampet Hyderabad': '17.5286° N, 78.3885° E', 'Balaji Nagar Kukatpally Hyderabad': '17.4824° N, 78.4077° E', 'HAL Colony Old Bowenpally Hyderabad': '17.4809° N, 78.4816° E', 'Mallikarjun Nagar Hyderabad': '17.4202° N, 78.5593° E', 'Anjaneya Nagar Hyderabad': '17.4714° N, 78.4187° E', 'Kowkoor Hyderabad': '17.5257° N, 78.5362° E', 'Jayabheri Enclave Hyderabad': '17.4505° N, 78.3608° E', 'Mahalneknapur Hyderabad': '17.3858° N, 78.3729° E', 'Secunderabad Hyderabad': '17.4399° N, 78.4983° E', 'Shilpa Hills Hyderabad': '17.4657° N, 78.3721° E', 'Kandlakoya Hyderabad': '17.5942° N, 78.4865° E', 'Sri Ram Nagar Colony Puppalguda Hyderabad': '17.3999° N, 78.3828° E', 'Turkayamjal Hyderabad': '17.2714° N, 78.5781° E', 'Doodh Bowli Hyderabad': '17.3560° N, 78.4617° E', 'Gandamguda Hyderabad': '17.3650° N, 78.3800° E', 'Prashant Hills, Rai Durg Hyderabad': '17.4197° N, 78.3821° E', 'Hayathnagar Hyderabad': '17.3271° N, 78.6053° E', 'Gulmohar Park Colony, Serilingampally Hyderabad': '17.4749° N, 78.3174° E', 'Attapur Hyderabad': '17.3767° N, 78.4297° E', 'Vivek Nagar Kukatpally Hyderabad': '17.4813° N, 78.4134° E', 'Phase 2 Mahadevpur Colony Hyderabad': '17.5161° N, 78.4119° E', 'Cherukupalli Colony, Quthbullapur Hyderabad': '17.4918° N, 78.4582° E', 'Kothapet Hyderabad': '17.3730° N, 78.5476° E', 'Begumpet Hyderabad': '17.4447° N, 78.4664° E', 'Anjanadri Nagar, Hayathnagar Hyderabad': '17.3467° N, 78.6037° E', 'Chanda Nagar Hyderabad': '17.4934° N, 78.3278° E', 'Raghavendra Colony Kondapur Hyderabad': '17.4716° N, 78.3600° E', 'bhagirathi apartments Hyderabad': '17.4024° N, 78.5085° E', 'Suchitra Hyderabad': '17.5022° N, 78.4716° E', 'R K Puram, Secunderabad Hyderabad': '17.4793° N, 78.5299° E', 'Maruthi Nagar A S Rao Nagar Hyderabad': '17.4761° N, 78.5551° E', 'Dilsukhnagar Hyderabad': '17.3685° N, 78.5316° E', 'Maruthi Nagar Alwal Hyderabad': '17.4970° N, 78.5086° E', 'Zamistanpur Hyderabad': '17.4100° N, 78.5022° E', 'Bolarum, Medchal Road Hyderabad': '17.5264° N, 78.4862° E', 'Beeramguda Quthbullapur Hyderabad': '17.4914° N, 78.4557° E', 'Methodist Colony, Begumpet Hyderabad': '17.4351° N, 78.4635° E', 'Medipally Hyderabad': '17.4078° N, 78.6023° E', 'Bowenpally Hyderabad': '17.4686° N, 78.4811° E', 'Venkateswara Nagar Hyderabad': '17.3669° N, 78.4549° E', 'Beeramguda Ramachandrapuram Hyderabad': '17.5185° N, 78.3038° E', 'Old Bowenpally Hyderabad': '17.4798° N, 78.4812° E', 'Khajaguda Hyderabad': '17.4179° N, 78.3642° E', 'Hastinapuram Hyderabad': '17.3168° N, 78.5513° E', 'Jubilee Hills Hyderabad': '17.4326° N, 78.4071° E', ' Kondapur, Hyderabad': '17.4700° N, 78.3534° E', 'Gopal Reddy Nagar, Hafeezpet Hyderabad': '17.4758° N, 78.3620° E', 'Singareni Colony Hyderabad': '17.3533° N, 78.5231° E', 'Bandlaguda Hyderabad': '17.3630° N, 78.3943° E', 'ICRISAT Colony Miyapur Hyderabad': '17.4971° N, 78.3366° E', 'Puppalguda Hyderabad': '17.3982° N, 78.3749° E', 'Adarsh Nagar Gurumurthy Nagar Hyderabad': '17.4862° N, 78.4475° E', 'Champapet, Koti Hyderabad': '17.3827° N, 78.4898° E', 'Nehru Nagar Colony Hyderabad': '17.4441° N, 78.5001° E', ' Old Safilguda, Hyderabad': '17.4703° N, 78.5480° E', 'Vijaya Nagar Colony Kukatpally Hyderabad': '17.4989° N, 78.4095° E', 'Jawahar Nagar Chikkadpally Hyderabad': '17.4059° N, 78.4974° E', 'Sagar Hills Hyderabad': '17.3099° N, 78.3828° E', 'Warasiguda Hyderabad': '17.4165° N, 78.5135° E', 'Saidabad Hyderabad': '17.3574° N, 78.5112° E', 'PNR colony Hyderabad': '17.5303° N, 78.3225° E', 'Vandanapuri Colony Hyderabad': '17.5206° N, 78.2971° E', 'Saptagiri Colony Vivekananda Nagar Hyderabad': '17.4963° N, 78.4159° E', 'Charmahal Petla Burz Hyderabad': '17.3660° N, 78.4649° E', 'Kartikeya Nagar, Nacharam Hyderabad': '17.4281° N, 78.5498° E', 'Hanuman Nagar Meerpet Hyderabad': '17.3250° N, 78.5420° E', 'Ashok Nagar Ramachandrapuram Hyderabad': '17.5060° N, 78.3138° E', 'Riyasat Nagar Hyderabad': '17.3406° N, 78.4972° E', 'Shastripuram Colony Hyderabad': '17.3275° N, 78.4475° E', ' Suraram, Hyderabad': '17.5412° N, 78.4338° E', 'Resham Bagh Banjara Hills Hyderabad': '17.4201° N, 78.4375° E', 'Shanthi Sree Nagar Colony Hyderabad': '17.5349° N, 78.3298° E', 'Thumkunta Hyderabad': '17.5630° N, 78.5558° E', 'Medchal Hyderabad': '17.6323° N, 78.4805° E', 'Bhanur Hyderabad': '17.4736° N, 78.1735° E'}"
   ]
  },
  {
   "cell_type": "code",
   "execution_count": 24,
   "metadata": {},
   "outputs": [],
   "source": [
    "hyd_data_with_longlat = pd.DataFrame(list_of_all_areas_with_longlat.items(),columns=['area','location'])"
   ]
  },
  {
   "cell_type": "code",
   "execution_count": 25,
   "metadata": {},
   "outputs": [],
   "source": [
    "hyd_data_with_longlat[['Latitude' , 'Longitude']] = hyd_data_with_longlat['location'].str.split(', ',expand=True)"
   ]
  },
  {
   "cell_type": "code",
   "execution_count": 26,
   "metadata": {},
   "outputs": [
    {
     "data": {
      "text/html": [
       "<div>\n",
       "<style scoped>\n",
       "    .dataframe tbody tr th:only-of-type {\n",
       "        vertical-align: middle;\n",
       "    }\n",
       "\n",
       "    .dataframe tbody tr th {\n",
       "        vertical-align: top;\n",
       "    }\n",
       "\n",
       "    .dataframe thead th {\n",
       "        text-align: right;\n",
       "    }\n",
       "</style>\n",
       "<table border=\"1\" class=\"dataframe\">\n",
       "  <thead>\n",
       "    <tr style=\"text-align: right;\">\n",
       "      <th></th>\n",
       "      <th>area</th>\n",
       "      <th>location</th>\n",
       "      <th>Latitude</th>\n",
       "      <th>Longitude</th>\n",
       "    </tr>\n",
       "  </thead>\n",
       "  <tbody>\n",
       "    <tr>\n",
       "      <th>0</th>\n",
       "      <td>Cherlapalli Hyderabad</td>\n",
       "      <td>17.4695° N, 78.5968° E</td>\n",
       "      <td>17.4695° N</td>\n",
       "      <td>78.5968° E</td>\n",
       "    </tr>\n",
       "    <tr>\n",
       "      <th>1</th>\n",
       "      <td>Nawab Saheb Kunta Hyderabad</td>\n",
       "      <td>17.3286° N, 78.4493° E</td>\n",
       "      <td>17.3286° N</td>\n",
       "      <td>78.4493° E</td>\n",
       "    </tr>\n",
       "    <tr>\n",
       "      <th>2</th>\n",
       "      <td>P and T Colony Dilsukhnagar Hyderabad</td>\n",
       "      <td>17.3580° N, 78.5288° E</td>\n",
       "      <td>17.3580° N</td>\n",
       "      <td>78.5288° E</td>\n",
       "    </tr>\n",
       "    <tr>\n",
       "      <th>3</th>\n",
       "      <td>Kakatiya Hills Kavuri Hills Hyderabad</td>\n",
       "      <td>17.4440° N, 78.3992° E</td>\n",
       "      <td>17.4440° N</td>\n",
       "      <td>78.3992° E</td>\n",
       "    </tr>\n",
       "    <tr>\n",
       "      <th>4</th>\n",
       "      <td>Lal Darwaza Hyderabad</td>\n",
       "      <td>17.3474° N, 78.4766° E</td>\n",
       "      <td>17.3474° N</td>\n",
       "      <td>78.4766° E</td>\n",
       "    </tr>\n",
       "    <tr>\n",
       "      <th>...</th>\n",
       "      <td>...</td>\n",
       "      <td>...</td>\n",
       "      <td>...</td>\n",
       "      <td>...</td>\n",
       "    </tr>\n",
       "    <tr>\n",
       "      <th>324</th>\n",
       "      <td>Resham Bagh Banjara Hills Hyderabad</td>\n",
       "      <td>17.4201° N, 78.4375° E</td>\n",
       "      <td>17.4201° N</td>\n",
       "      <td>78.4375° E</td>\n",
       "    </tr>\n",
       "    <tr>\n",
       "      <th>325</th>\n",
       "      <td>Shanthi Sree Nagar Colony Hyderabad</td>\n",
       "      <td>17.5349° N, 78.3298° E</td>\n",
       "      <td>17.5349° N</td>\n",
       "      <td>78.3298° E</td>\n",
       "    </tr>\n",
       "    <tr>\n",
       "      <th>326</th>\n",
       "      <td>Thumkunta Hyderabad</td>\n",
       "      <td>17.5630° N, 78.5558° E</td>\n",
       "      <td>17.5630° N</td>\n",
       "      <td>78.5558° E</td>\n",
       "    </tr>\n",
       "    <tr>\n",
       "      <th>327</th>\n",
       "      <td>Medchal Hyderabad</td>\n",
       "      <td>17.6323° N, 78.4805° E</td>\n",
       "      <td>17.6323° N</td>\n",
       "      <td>78.4805° E</td>\n",
       "    </tr>\n",
       "    <tr>\n",
       "      <th>328</th>\n",
       "      <td>Bhanur Hyderabad</td>\n",
       "      <td>17.4736° N, 78.1735° E</td>\n",
       "      <td>17.4736° N</td>\n",
       "      <td>78.1735° E</td>\n",
       "    </tr>\n",
       "  </tbody>\n",
       "</table>\n",
       "<p>329 rows × 4 columns</p>\n",
       "</div>"
      ],
      "text/plain": [
       "                                      area                location  \\\n",
       "0                    Cherlapalli Hyderabad  17.4695° N, 78.5968° E   \n",
       "1              Nawab Saheb Kunta Hyderabad  17.3286° N, 78.4493° E   \n",
       "2    P and T Colony Dilsukhnagar Hyderabad  17.3580° N, 78.5288° E   \n",
       "3    Kakatiya Hills Kavuri Hills Hyderabad  17.4440° N, 78.3992° E   \n",
       "4                    Lal Darwaza Hyderabad  17.3474° N, 78.4766° E   \n",
       "..                                     ...                     ...   \n",
       "324    Resham Bagh Banjara Hills Hyderabad  17.4201° N, 78.4375° E   \n",
       "325    Shanthi Sree Nagar Colony Hyderabad  17.5349° N, 78.3298° E   \n",
       "326                    Thumkunta Hyderabad  17.5630° N, 78.5558° E   \n",
       "327                      Medchal Hyderabad  17.6323° N, 78.4805° E   \n",
       "328                       Bhanur Hyderabad  17.4736° N, 78.1735° E   \n",
       "\n",
       "       Latitude   Longitude  \n",
       "0    17.4695° N  78.5968° E  \n",
       "1    17.3286° N  78.4493° E  \n",
       "2    17.3580° N  78.5288° E  \n",
       "3    17.4440° N  78.3992° E  \n",
       "4    17.3474° N  78.4766° E  \n",
       "..          ...         ...  \n",
       "324  17.4201° N  78.4375° E  \n",
       "325  17.5349° N  78.3298° E  \n",
       "326  17.5630° N  78.5558° E  \n",
       "327  17.6323° N  78.4805° E  \n",
       "328  17.4736° N  78.1735° E  \n",
       "\n",
       "[329 rows x 4 columns]"
      ]
     },
     "execution_count": 26,
     "metadata": {},
     "output_type": "execute_result"
    }
   ],
   "source": [
    "hyd_data_with_longlat"
   ]
  },
  {
   "cell_type": "code",
   "execution_count": 27,
   "metadata": {},
   "outputs": [],
   "source": [
    "hyd_data_with_longlat['Latitude'] = hyd_data_with_longlat['Latitude'].str.split('°').str[0].astype('float')\n",
    "hyd_data_with_longlat['Longitude'] = hyd_data_with_longlat['Longitude'].str.split('°').str[0].astype('float')"
   ]
  },
  {
   "cell_type": "code",
   "execution_count": 28,
   "metadata": {},
   "outputs": [],
   "source": [
    "hyd_data_with_longlat = hyd_data_with_longlat[['area','Latitude','Longitude']]"
   ]
  },
  {
   "cell_type": "code",
   "execution_count": 29,
   "metadata": {},
   "outputs": [
    {
     "name": "stderr",
     "output_type": "stream",
     "text": [
      "C:\\Users\\faisa\\AppData\\Local\\Temp\\ipykernel_19588\\3151155323.py:1: SettingWithCopyWarning: \n",
      "A value is trying to be set on a copy of a slice from a DataFrame.\n",
      "Try using .loc[row_indexer,col_indexer] = value instead\n",
      "\n",
      "See the caveats in the documentation: https://pandas.pydata.org/pandas-docs/stable/user_guide/indexing.html#returning-a-view-versus-a-copy\n",
      "  hyd_data_with_longlat['area'] = hyd_data_with_longlat['area'].str.split(' H').str.get(0)\n"
     ]
    }
   ],
   "source": [
    "hyd_data_with_longlat['area'] = hyd_data_with_longlat['area'].str.split(' H').str.get(0) "
   ]
  },
  {
   "cell_type": "code",
   "execution_count": 30,
   "metadata": {},
   "outputs": [
    {
     "data": {
      "text/plain": [
       "(329, 3)"
      ]
     },
     "execution_count": 30,
     "metadata": {},
     "output_type": "execute_result"
    }
   ],
   "source": [
    "hyd_data_with_longlat.shape"
   ]
  },
  {
   "cell_type": "code",
   "execution_count": 31,
   "metadata": {},
   "outputs": [],
   "source": [
    "hyd_data_with_longlat.set_index('area',inplace=True)"
   ]
  },
  {
   "cell_type": "code",
   "execution_count": 32,
   "metadata": {},
   "outputs": [
    {
     "data": {
      "application/vnd.plotly.v1+json": {
       "config": {
        "plotlyServerURL": "https://plot.ly"
       },
       "data": [
        {
         "hovertemplate": "area=%{text}<br>Latitude=%{lat}<br>Longitude=%{lon}<extra></extra>",
         "lat": [
          17.4695,
          17.3286,
          17.358,
          17.444,
          17.3474,
          17.4916,
          17.4531,
          17.4393,
          17.2901,
          17.4672,
          17.4885,
          17.3727,
          17.3659,
          17.4806,
          17.4106,
          17.4416,
          17.5321,
          17.4169,
          17.365,
          17.4869,
          17.4405,
          17.4021,
          17.3979,
          17.4252,
          17.4294,
          17.4975,
          17.3627,
          17.4545,
          17.3941,
          17.4533,
          17.4321,
          17.3807,
          17.4958,
          17.4249,
          17.3483,
          17.5958,
          17.4524,
          17.3718,
          17.4197,
          17.4784,
          17.4126,
          17.4992,
          17.3927,
          17.4814,
          17.3693,
          17.3575,
          17.3865,
          17.3961,
          17.4113,
          17.47,
          17.4744,
          17.4612,
          17.4117,
          17.4837,
          17.3264,
          17.5003,
          17.363,
          17.4769,
          17.3145,
          17.4301,
          17.3392,
          17.535,
          17.4514,
          17.4294,
          17.3914,
          17.4618,
          17.4657,
          17.4144,
          17.455,
          17.4043,
          17.3675,
          17.4526,
          17.3339,
          17.3271,
          17.5162,
          17.4762,
          17.3563,
          17.4435,
          17.4777,
          17.3203,
          17.5257,
          17.4992,
          17.5317,
          17.5899,
          17.4524,
          17.4748,
          17.4062,
          17.3744,
          17.4365,
          17.3944,
          17.4071,
          17.4476,
          17.4422,
          17.416,
          17.4146,
          17.5606,
          17.4803,
          17.2335,
          17.3484,
          17.5197,
          17.4447,
          17.5287,
          17.4785,
          17.3763,
          17.4867,
          17.4703,
          17.3984,
          17.4528,
          17.357,
          17.4379,
          17.5629,
          17.4137,
          17.4065,
          17.5171,
          17.4906,
          17.4239,
          17.4062,
          17.374,
          17.376,
          17.3539,
          17.4933,
          17.3795,
          17.322,
          17.4702,
          17.3472,
          17.487,
          17.4437,
          17.3752,
          17.4033,
          17.3602,
          17.3688,
          17.4308,
          17.4157,
          17.5292,
          17.325,
          17.5213,
          17.5163,
          17.4499,
          17.3255,
          17.4146,
          17.3731,
          17.2335,
          17.5004,
          17.5179,
          17.4569,
          17.4205,
          17.406,
          17.4925,
          17.4739,
          17.394,
          17.4643,
          17.5054,
          17.4321,
          17.4135,
          17.5625,
          17.3517,
          17.4648,
          17.4071,
          17.2945,
          17.5366,
          17.5513,
          17.3089,
          17.5284,
          17.4677,
          17.3264,
          17.5016,
          17.3992,
          17.2093,
          17.4111,
          17.5197,
          17.5141,
          17.4967,
          17.3758,
          17.5162,
          17.506,
          17.3689,
          17.4785,
          17.5,
          17.4448,
          17.4388,
          17.4419,
          17.3768,
          17.4853,
          17.3585,
          17.5116,
          17.4618,
          17.4465,
          17.3579,
          17.3698,
          17.5171,
          17.4423,
          17.3053,
          17.4874,
          17.4928,
          17.4895,
          17.3991,
          17.4302,
          17.5466,
          17.4503,
          17.4317,
          17.5175,
          17.2914,
          17.2619,
          17.4928,
          17.3713,
          17.4863,
          17.4624,
          17.3788,
          17.403,
          17.5033,
          17.5393,
          17.4986,
          17.4615,
          17.4294,
          17.3715,
          17.569,
          17.4019,
          17.5671,
          17.3948,
          17.5089,
          17.501,
          17.2707,
          17.5166,
          17.4321,
          17.3991,
          17.4906,
          17.4547,
          17.505,
          17.3958,
          17.5513,
          17.4063,
          17.5213,
          17.495,
          17.4629,
          17.3621,
          17.3977,
          17.392,
          17.3982,
          17.5095,
          17.4444,
          17.3413,
          17.5366,
          17.5204,
          17.4934,
          17.4088,
          17.4555,
          17.3221,
          17.5201,
          17.4571,
          17.5359,
          17.4845,
          17.5012,
          17.4009,
          17.4533,
          17.5286,
          17.4824,
          17.4809,
          17.4202,
          17.4714,
          17.5257,
          17.4505,
          17.3858,
          17.4399,
          17.4657,
          17.5942,
          17.3999,
          17.2714,
          17.356,
          17.365,
          17.4197,
          17.3271,
          17.4749,
          17.3767,
          17.4813,
          17.5161,
          17.4918,
          17.373,
          17.4447,
          17.3467,
          17.4934,
          17.4716,
          17.4024,
          17.5022,
          17.4793,
          17.4761,
          17.3685,
          17.497,
          17.41,
          17.5264,
          17.4914,
          17.4351,
          17.4078,
          17.4686,
          17.3669,
          17.5185,
          17.4798,
          17.4179,
          17.3168,
          17.4326,
          17.47,
          17.4758,
          17.3533,
          17.363,
          17.4971,
          17.3982,
          17.4862,
          17.3827,
          17.4441,
          17.4703,
          17.4989,
          17.4059,
          17.3099,
          17.4165,
          17.3574,
          17.5303,
          17.5206,
          17.4963,
          17.366,
          17.4281,
          17.325,
          17.506,
          17.3406,
          17.3275,
          17.5412,
          17.4201,
          17.5349,
          17.563,
          17.6323,
          17.4736
         ],
         "legendgroup": "",
         "lon": [
          78.5968,
          78.4493,
          78.5288,
          78.3992,
          78.4766,
          78.292,
          78.416,
          78.1849,
          78.4937,
          78.6419,
          78.5682,
          78.5498,
          78.483,
          78.5015,
          78.4652,
          78.2785,
          78.3792,
          78.3424,
          78.3957,
          78.3608,
          78.4228,
          78.484,
          78.62,
          78.4503,
          78.6138,
          78.6044,
          78.424,
          78.422,
          78.466,
          78.3654,
          78.4385,
          78.3245,
          78.3982,
          78.559,
          78.5373,
          78.5713,
          78.3316,
          78.5597,
          78.499,
          78.5642,
          78.5053,
          78.3837,
          78.6314,
          78.449,
          78.5758,
          78.511,
          78.4993,
          78.5317,
          78.4564,
          78.3534,
          78.5515,
          78.3451,
          78.3425,
          78.3158,
          78.5164,
          78.5938,
          78.3943,
          78.4833,
          78.5334,
          78.5416,
          78.4745,
          78.4022,
          78.3092,
          78.6138,
          78.4783,
          78.3551,
          78.3464,
          78.3974,
          78.4375,
          78.6662,
          78.5597,
          78.4219,
          78.5622,
          78.6053,
          78.4496,
          78.3462,
          78.3954,
          78.3772,
          78.5107,
          78.595,
          78.5362,
          78.3837,
          78.3913,
          78.3913,
          78.506,
          78.3103,
          78.3763,
          78.3913,
          78.5204,
          78.4972,
          78.3906,
          78.5137,
          78.5682,
          78.4114,
          78.4383,
          78.2163,
          78.5699,
          78.5426,
          78.3821,
          78.3779,
          78.4664,
          78.2667,
          78.392,
          78.5732,
          78.5574,
          78.3327,
          78.5583,
          78.4986,
          78.4048,
          78.308,
          78.3752,
          78.4923,
          78.5139,
          78.3157,
          78.5477,
          78.5796,
          78.4368,
          78.5434,
          78.5371,
          78.5082,
          78.3465,
          78.5131,
          78.4023,
          78.3373,
          78.5083,
          78.3861,
          78.5088,
          78.5682,
          78.4529,
          78.4178,
          78.5824,
          78.5595,
          78.541,
          78.4866,
          78.5554,
          78.4141,
          78.3771,
          78.581,
          78.564,
          78.5132,
          78.4997,
          78.5426,
          78.3544,
          78.4278,
          78.5643,
          78.5996,
          78.3908,
          78.3423,
          78.2277,
          78.5345,
          78.3756,
          78.5015,
          78.4385,
          78.5618,
          78.2369,
          78.4631,
          78.3807,
          78.3906,
          78.5665,
          78.4845,
          78.3855,
          78.5062,
          78.516,
          78.3798,
          78.429,
          78.5437,
          78.5043,
          78.4766,
          78.5838,
          78.4586,
          78.3666,
          78.5067,
          78.5029,
          78.4496,
          78.533,
          78.5534,
          78.5506,
          78.5298,
          78.3999,
          78.4345,
          78.4617,
          78.5508,
          78.6099,
          78.5107,
          78.4589,
          78.3618,
          78.5746,
          78.4191,
          78.5753,
          78.3157,
          78.4688,
          78.5253,
          78.3935,
          78.5469,
          78.3309,
          78.5017,
          78.5108,
          78.4668,
          78.5322,
          78.5742,
          78.4611,
          78.4137,
          78.388,
          78.5469,
          78.487,
          78.4986,
          78.4834,
          78.4374,
          78.6328,
          78.5412,
          78.4226,
          78.6484,
          78.5004,
          78.6138,
          78.5695,
          78.4879,
          78.5075,
          78.4773,
          78.4532,
          78.5911,
          78.402,
          78.524,
          78.377,
          78.4385,
          78.446,
          78.5477,
          78.5456,
          78.4702,
          78.4312,
          78.3855,
          78.49,
          78.3508,
          78.4112,
          78.5609,
          78.5494,
          78.3913,
          78.5163,
          78.4993,
          78.5469,
          78.4802,
          78.5316,
          78.4845,
          78.3847,
          78.3278,
          78.4432,
          78.3685,
          78.6441,
          78.3988,
          78.4233,
          78.2903,
          78.5441,
          78.3807,
          78.4965,
          78.5025,
          78.3885,
          78.4077,
          78.4816,
          78.5593,
          78.4187,
          78.5362,
          78.3608,
          78.3729,
          78.4983,
          78.3721,
          78.4865,
          78.3828,
          78.5781,
          78.4617,
          78.38,
          78.3821,
          78.6053,
          78.3174,
          78.4297,
          78.4134,
          78.4119,
          78.4582,
          78.5476,
          78.4664,
          78.6037,
          78.3278,
          78.36,
          78.5085,
          78.4716,
          78.5299,
          78.5551,
          78.5316,
          78.5086,
          78.5022,
          78.4862,
          78.4557,
          78.4635,
          78.6023,
          78.4811,
          78.4549,
          78.3038,
          78.4812,
          78.3642,
          78.5513,
          78.4071,
          78.3534,
          78.362,
          78.5231,
          78.3943,
          78.3366,
          78.3749,
          78.4475,
          78.4898,
          78.5001,
          78.548,
          78.4095,
          78.4974,
          78.3828,
          78.5135,
          78.5112,
          78.3225,
          78.2971,
          78.4159,
          78.4649,
          78.5498,
          78.542,
          78.3138,
          78.4972,
          78.4475,
          78.4338,
          78.4375,
          78.3298,
          78.5558,
          78.4805,
          78.1735
         ],
         "marker": {
          "color": "#636efa"
         },
         "mode": "markers+text",
         "name": "",
         "showlegend": false,
         "subplot": "mapbox",
         "text": [
          "Cherlapalli",
          "Nawab Saheb Kunta",
          "P and T Colony Dilsukhnagar",
          "Kakatiya",
          "Lal Darwaza",
          "Bharat",
          "Rajnagar Borabanda",
          "Mokila",
          "Mallapur Balapur",
          "Rampally",
          "Kapra",
          "Mohan Nagar Kothapet",
          "Purani",
          "Teachers Colony Tirumalagiri",
          "Khairtabad",
          "Osman Nagar",
          "Hill County, Nizampet",
          "Nanakaramguda",
          "Sun City, Bandlaguda, Chevella Road",
          "Sai Nagar",
          "Rahmat Nagar Moti Nagar",
          "Himayatnagar",
          "Parvathapur",
          "Dwarakapuri,",
          "Narepally",
          "Stella Nagaram, Dammaiguda",
          "Shiva Nagar Colony",
          "Mothi Nagar Borabanda",
          "Devi Bagh Red",
          "Golden",
          "Sreenagar",
          "Gandipet",
          "Kollur, Outer Ring Road",
          "Raghavendra Nagar Nacharam",
          "Narayan Puri Colony",
          "Shamirpet",
          "CUC Gachibowli",
          "Adarsh Nagar Colony Nagole",
          "Musheerabad",
          "Arul Colony",
          "Ram Nagar",
          "",
          "Kachavani Singaram",
          "Balanagar",
          "Anand Nagar Bandlaguda",
          "Sayeedabad Colony",
          "Nimboliadda",
          "Ganesh Nagar Ramanthapur",
          "Anand Nagar Colony Khairtabad",
          "Kondapur",
          "Sainathapuram",
          "CMC Enclave, Kondapur",
          "Financial District, Nanakram Guda",
          "Lingampally",
          "Dhatu Nagar, Kanchan Bagh",
          "Dammaiguda",
          "Bandlaguda Jagir",
          "Mallikarjuna Colony",
          "Almasguda Badangpet",
          "Tarnaka",
          "Shivaji Nagar",
          "Gajularamaram",
          "Gopanpalle",
          "Narapally",
          "Sultan Bazar",
          "Sri Ram Nagar Kondapur",
          "Masjid Banda",
          "Whisper Valley",
          "Czech Colony",
          "Korremula",
          "Sai Nagar Nagole",
          "Kalyan Nagar Moti Nagar",
          "Chintalkunta",
          "Hayathnagar Khalsa",
          "Chintal",
          "Shilpa Valley, Serilingampally",
          "Padmasri",
          "Hitech City",
          " Tirumalagiri,",
          "Sai Nagar Colony",
          " Kowkoor,",
          "Hyder Nagar, NH 9",
          "Kakatiya",
          " Sambhupur,",
          "West Marredpally",
          "Nallagandla,",
          "Manikonda Jagir",
          "Ramdev Guda",
          "Mettuguda",
          "Chitrapuri Colony Narayanguda",
          "OU Colony Shaikpet",
          "East Marredpally",
          "Annapurna Colony Mallapur",
          "Film Nagar",
          "Banjara",
          "Chitkul",
          "Kushaiguda",
          "Adibatla",
          "Abhudaya Nagar Colony, Bandlaguda",
          "Nizampet",
          "Begampet",
          "Patancheruvu",
          "Phase 5th KPHB",
          "Ajay Nagar, Nagole",
          "Chandrapuri Colony Kapra",
          "Sudarshan Nagar Colony",
          "Uppal",
          "Picket",
          "P and T Colony Bandlaguda Jagir",
          "Gopanapalli Thanda",
          "Maheshwaram",
          "Gandhi Nagar Kavadiguda",
          "Vidya Nagar Adikmet",
          " Ameenpur,",
          "Bhaskar Rao Nagar Colony",
          "Annapurna Colony Boduppal",
          "Syed Nagar",
          "Maruthi Nagar Kothapet",
          "Chaitanyapuri, Kothapet",
          "Vinay Nagar, Sayeedabad",
          "Mythri Nagar Madeenaguda",
          "West Prasanth Nagar",
          "Rajendranagar Mandal",
          "Sri Maruthi Nagar Colony, Serilingampally",
          "Santosh Nagar",
          "Phase 6 KPHB",
          "Marredpally",
          "Vijaya Gardens",
          "Masab Tank",
          "Upperpally",
          "Annaram, Nagole",
          "Nacharam",
          "Kakateeya Nagar, Secunderabad",
          "Ruby Block, Komapally",
          "Hasthinapuram South,",
          "Mahadevpur Colony",
          "Venkatraya Nagar, Nizampet",
          "Ashok Nagar Cherlapalli",
          "NGO Colony",
          "Parsigutta Warasiguda",
          "Judges Colony New Malakpet",
          " Adibatla,",
          "Pragathi Enclave",
          "Rodamestri Nagar",
          "APHB Colony Moula Ali",
          "Buddha Nagar",
          "Shaikpet",
          "Ramakrishna Nagar Madeenaguda",
          "Velmala",
          "RTC Colony Ramanthapur",
          "Kothaguda",
          "Old Alwal",
          "Srinagar Colony Yousufguda",
          "Adarsh Nagar Uppal",
          "Indresham, Bachuguda",
          "Fatehdarwaza, Ramnas Pura",
          "Weaker Section Colony Khanammet",
          " OU Colony Shaikpet,",
          "Gurram Guda",
          "Kompally Medak",
          "Bachepally",
          "Balapur",
          "RISALA BAZAR BOLARUM",
          "Izzathnagar",
          "Shivrampalli Village",
          "Excise Colony, Yapral",
          "Padma Colony New Nallakunta",
          "Tukkuguda, Srisailam",
          "Lakshmi Nagar Colony-Hanuman Nagar Colony",
          "Jeedimetla",
          "Mayuri Nagar Miyapur",
          "Alwal",
          "MCH Colony Old Malakpet",
          "Chinthal",
          "Yapral",
          "RK Puram Kothapet",
          "AS Rao Nagar",
          "Defence Officer Colony",
          "Kavuri",
          "Madhura Nagar",
          "Mayur Marg",
          "Balaji Nagar Colony Kothapet",
          "Nagaram",
          "Kranthi Nagar Saidabad",
          "Subhash Nagar Jeedimetla",
          "Safari Nagar",
          "Mallapur",
          "New Friends Colony",
          "Bandlaguda Nagole",
          "Ameenpur",
          "Prakash Nagar Begumpet",
          "Badangpet",
          "Phase 3 KPHB",
          " Sainikpuri,",
          "Huda Colony",
          "New Nallakunta",
          "Chilakalguda",
          "Dulapally",
          " Malkajgiri,",
          "IDA Mallapur",
          "Subash Nagar",
          "Gaganpahad",
          "Shamshabad",
          "Sainikpuri",
          "Noorkhan Bazaar",
          "Kanajiguda",
          "Panchavati Colony New Bowenpally",
          "Gudimalkapur",
          "Divya Nagar, Peerzadiguda",
          "Bapuji Nagar Yapral",
          "Suraram Village, Suraram",
          "Godumakunta",
          "Karkhana",
          " Narepally,",
          "Nagole",
          "Gundlapochampally, Outer Ring Road",
          "Vidyanagar New Nallakunta",
          "Gundlapochampalli",
          "Vijaya Nagar Colony",
          "MLR Colony Dammaiguda",
          "Hmt Sathavahana Nagar",
          "bhavani tution nadergul",
          "KNR Colony Nizampet",
          "Sri Nagar Colony",
          "Humayun Nagar",
          " Bhaskar Rao Nagar Colony,",
          "East Anandbagh",
          "Godavari",
          "Mehdipatnam",
          "Bachupally",
          "Ashok Nagar",
          "Dr Reddys Enclave",
          "Vivekananda Nagar Kukatpally",
          "Moula Ali",
          "Vasavi Colony Bahadurguda",
          "Jai",
          "Amberpet",
          "Bagh Lingampally",
          "Registration Colony, Secunderabad",
          "Viman Nagar",
          "Kharmanghat",
          "Kompally",
          "Bandari Layout",
          " Chanda Nagar,",
          "Sri Ram Nagar Colony Banjara",
          "Whitefields",
          "Pedda Amberpet",
          "Mithila Nagar Pragathi Nagar",
          "Moti Nagar Erragadda",
          "Krishna Reddy Pet",
          "Vayupuri",
          "RamNaresh Nagar,",
          "Chikkadpally",
          "Syndicate Bank Colony, Secunderabad",
          "Vasanth Nagar Colony Nizampet",
          "Balaji Nagar Kukatpally",
          "HAL Colony Old Bowenpally",
          "Mallikarjun Nagar",
          "Anjaneya Nagar",
          "Kowkoor",
          "Jayabheri Enclave",
          "Mahalneknapur",
          "Secunderabad",
          "Shilpa",
          "Kandlakoya",
          "Sri Ram Nagar Colony Puppalguda",
          "Turkayamjal",
          "Doodh Bowli",
          "Gandamguda",
          "Prashant",
          "Hayathnagar",
          "Gulmohar Park Colony, Serilingampally",
          "Attapur",
          "Vivek Nagar Kukatpally",
          "Phase 2 Mahadevpur Colony",
          "Cherukupalli Colony, Quthbullapur",
          "Kothapet",
          "Begumpet",
          "Anjanadri Nagar,",
          "Chanda Nagar",
          "Raghavendra Colony Kondapur",
          "bhagirathi apartments",
          "Suchitra",
          "R K Puram, Secunderabad",
          "Maruthi Nagar A S Rao Nagar",
          "Dilsukhnagar",
          "Maruthi Nagar Alwal",
          "Zamistanpur",
          "Bolarum, Medchal Road",
          "Beeramguda Quthbullapur",
          "Methodist Colony, Begumpet",
          "Medipally",
          "Bowenpally",
          "Venkateswara Nagar",
          "Beeramguda Ramachandrapuram",
          "Old Bowenpally",
          "Khajaguda",
          "Hastinapuram",
          "Jubilee",
          " Kondapur,",
          "Gopal Reddy Nagar,",
          "Singareni Colony",
          "Bandlaguda",
          "ICRISAT Colony Miyapur",
          "Puppalguda",
          "Adarsh Nagar Gurumurthy Nagar",
          "Champapet, Koti",
          "Nehru Nagar Colony",
          " Old Safilguda,",
          "Vijaya Nagar Colony Kukatpally",
          "Jawahar Nagar Chikkadpally",
          "Sagar",
          "Warasiguda",
          "Saidabad",
          "PNR colony",
          "Vandanapuri Colony",
          "Saptagiri Colony Vivekananda Nagar",
          "Charmahal Petla Burz",
          "Kartikeya Nagar, Nacharam",
          "Hanuman Nagar Meerpet",
          "Ashok Nagar Ramachandrapuram",
          "Riyasat Nagar",
          "Shastripuram Colony",
          " Suraram,",
          "Resham Bagh Banjara",
          "Shanthi Sree Nagar Colony",
          "Thumkunta",
          "Medchal",
          "Bhanur"
         ],
         "type": "scattermapbox"
        }
       ],
       "layout": {
        "legend": {
         "tracegroupgap": 0
        },
        "mapbox": {
         "center": {
          "lat": 17.437192097264436,
          "lon": 78.46297781155015
         },
         "domain": {
          "x": [
           0,
           1
          ],
          "y": [
           0,
           1
          ]
         },
         "style": "open-street-map",
         "zoom": 10
        },
        "margin": {
         "t": 60
        },
        "template": {
         "data": {
          "bar": [
           {
            "error_x": {
             "color": "#2a3f5f"
            },
            "error_y": {
             "color": "#2a3f5f"
            },
            "marker": {
             "line": {
              "color": "#E5ECF6",
              "width": 0.5
             },
             "pattern": {
              "fillmode": "overlay",
              "size": 10,
              "solidity": 0.2
             }
            },
            "type": "bar"
           }
          ],
          "barpolar": [
           {
            "marker": {
             "line": {
              "color": "#E5ECF6",
              "width": 0.5
             },
             "pattern": {
              "fillmode": "overlay",
              "size": 10,
              "solidity": 0.2
             }
            },
            "type": "barpolar"
           }
          ],
          "carpet": [
           {
            "aaxis": {
             "endlinecolor": "#2a3f5f",
             "gridcolor": "white",
             "linecolor": "white",
             "minorgridcolor": "white",
             "startlinecolor": "#2a3f5f"
            },
            "baxis": {
             "endlinecolor": "#2a3f5f",
             "gridcolor": "white",
             "linecolor": "white",
             "minorgridcolor": "white",
             "startlinecolor": "#2a3f5f"
            },
            "type": "carpet"
           }
          ],
          "choropleth": [
           {
            "colorbar": {
             "outlinewidth": 0,
             "ticks": ""
            },
            "type": "choropleth"
           }
          ],
          "contour": [
           {
            "colorbar": {
             "outlinewidth": 0,
             "ticks": ""
            },
            "colorscale": [
             [
              0,
              "#0d0887"
             ],
             [
              0.1111111111111111,
              "#46039f"
             ],
             [
              0.2222222222222222,
              "#7201a8"
             ],
             [
              0.3333333333333333,
              "#9c179e"
             ],
             [
              0.4444444444444444,
              "#bd3786"
             ],
             [
              0.5555555555555556,
              "#d8576b"
             ],
             [
              0.6666666666666666,
              "#ed7953"
             ],
             [
              0.7777777777777778,
              "#fb9f3a"
             ],
             [
              0.8888888888888888,
              "#fdca26"
             ],
             [
              1,
              "#f0f921"
             ]
            ],
            "type": "contour"
           }
          ],
          "contourcarpet": [
           {
            "colorbar": {
             "outlinewidth": 0,
             "ticks": ""
            },
            "type": "contourcarpet"
           }
          ],
          "heatmap": [
           {
            "colorbar": {
             "outlinewidth": 0,
             "ticks": ""
            },
            "colorscale": [
             [
              0,
              "#0d0887"
             ],
             [
              0.1111111111111111,
              "#46039f"
             ],
             [
              0.2222222222222222,
              "#7201a8"
             ],
             [
              0.3333333333333333,
              "#9c179e"
             ],
             [
              0.4444444444444444,
              "#bd3786"
             ],
             [
              0.5555555555555556,
              "#d8576b"
             ],
             [
              0.6666666666666666,
              "#ed7953"
             ],
             [
              0.7777777777777778,
              "#fb9f3a"
             ],
             [
              0.8888888888888888,
              "#fdca26"
             ],
             [
              1,
              "#f0f921"
             ]
            ],
            "type": "heatmap"
           }
          ],
          "heatmapgl": [
           {
            "colorbar": {
             "outlinewidth": 0,
             "ticks": ""
            },
            "colorscale": [
             [
              0,
              "#0d0887"
             ],
             [
              0.1111111111111111,
              "#46039f"
             ],
             [
              0.2222222222222222,
              "#7201a8"
             ],
             [
              0.3333333333333333,
              "#9c179e"
             ],
             [
              0.4444444444444444,
              "#bd3786"
             ],
             [
              0.5555555555555556,
              "#d8576b"
             ],
             [
              0.6666666666666666,
              "#ed7953"
             ],
             [
              0.7777777777777778,
              "#fb9f3a"
             ],
             [
              0.8888888888888888,
              "#fdca26"
             ],
             [
              1,
              "#f0f921"
             ]
            ],
            "type": "heatmapgl"
           }
          ],
          "histogram": [
           {
            "marker": {
             "pattern": {
              "fillmode": "overlay",
              "size": 10,
              "solidity": 0.2
             }
            },
            "type": "histogram"
           }
          ],
          "histogram2d": [
           {
            "colorbar": {
             "outlinewidth": 0,
             "ticks": ""
            },
            "colorscale": [
             [
              0,
              "#0d0887"
             ],
             [
              0.1111111111111111,
              "#46039f"
             ],
             [
              0.2222222222222222,
              "#7201a8"
             ],
             [
              0.3333333333333333,
              "#9c179e"
             ],
             [
              0.4444444444444444,
              "#bd3786"
             ],
             [
              0.5555555555555556,
              "#d8576b"
             ],
             [
              0.6666666666666666,
              "#ed7953"
             ],
             [
              0.7777777777777778,
              "#fb9f3a"
             ],
             [
              0.8888888888888888,
              "#fdca26"
             ],
             [
              1,
              "#f0f921"
             ]
            ],
            "type": "histogram2d"
           }
          ],
          "histogram2dcontour": [
           {
            "colorbar": {
             "outlinewidth": 0,
             "ticks": ""
            },
            "colorscale": [
             [
              0,
              "#0d0887"
             ],
             [
              0.1111111111111111,
              "#46039f"
             ],
             [
              0.2222222222222222,
              "#7201a8"
             ],
             [
              0.3333333333333333,
              "#9c179e"
             ],
             [
              0.4444444444444444,
              "#bd3786"
             ],
             [
              0.5555555555555556,
              "#d8576b"
             ],
             [
              0.6666666666666666,
              "#ed7953"
             ],
             [
              0.7777777777777778,
              "#fb9f3a"
             ],
             [
              0.8888888888888888,
              "#fdca26"
             ],
             [
              1,
              "#f0f921"
             ]
            ],
            "type": "histogram2dcontour"
           }
          ],
          "mesh3d": [
           {
            "colorbar": {
             "outlinewidth": 0,
             "ticks": ""
            },
            "type": "mesh3d"
           }
          ],
          "parcoords": [
           {
            "line": {
             "colorbar": {
              "outlinewidth": 0,
              "ticks": ""
             }
            },
            "type": "parcoords"
           }
          ],
          "pie": [
           {
            "automargin": true,
            "type": "pie"
           }
          ],
          "scatter": [
           {
            "fillpattern": {
             "fillmode": "overlay",
             "size": 10,
             "solidity": 0.2
            },
            "type": "scatter"
           }
          ],
          "scatter3d": [
           {
            "line": {
             "colorbar": {
              "outlinewidth": 0,
              "ticks": ""
             }
            },
            "marker": {
             "colorbar": {
              "outlinewidth": 0,
              "ticks": ""
             }
            },
            "type": "scatter3d"
           }
          ],
          "scattercarpet": [
           {
            "marker": {
             "colorbar": {
              "outlinewidth": 0,
              "ticks": ""
             }
            },
            "type": "scattercarpet"
           }
          ],
          "scattergeo": [
           {
            "marker": {
             "colorbar": {
              "outlinewidth": 0,
              "ticks": ""
             }
            },
            "type": "scattergeo"
           }
          ],
          "scattergl": [
           {
            "marker": {
             "colorbar": {
              "outlinewidth": 0,
              "ticks": ""
             }
            },
            "type": "scattergl"
           }
          ],
          "scattermapbox": [
           {
            "marker": {
             "colorbar": {
              "outlinewidth": 0,
              "ticks": ""
             }
            },
            "type": "scattermapbox"
           }
          ],
          "scatterpolar": [
           {
            "marker": {
             "colorbar": {
              "outlinewidth": 0,
              "ticks": ""
             }
            },
            "type": "scatterpolar"
           }
          ],
          "scatterpolargl": [
           {
            "marker": {
             "colorbar": {
              "outlinewidth": 0,
              "ticks": ""
             }
            },
            "type": "scatterpolargl"
           }
          ],
          "scatterternary": [
           {
            "marker": {
             "colorbar": {
              "outlinewidth": 0,
              "ticks": ""
             }
            },
            "type": "scatterternary"
           }
          ],
          "surface": [
           {
            "colorbar": {
             "outlinewidth": 0,
             "ticks": ""
            },
            "colorscale": [
             [
              0,
              "#0d0887"
             ],
             [
              0.1111111111111111,
              "#46039f"
             ],
             [
              0.2222222222222222,
              "#7201a8"
             ],
             [
              0.3333333333333333,
              "#9c179e"
             ],
             [
              0.4444444444444444,
              "#bd3786"
             ],
             [
              0.5555555555555556,
              "#d8576b"
             ],
             [
              0.6666666666666666,
              "#ed7953"
             ],
             [
              0.7777777777777778,
              "#fb9f3a"
             ],
             [
              0.8888888888888888,
              "#fdca26"
             ],
             [
              1,
              "#f0f921"
             ]
            ],
            "type": "surface"
           }
          ],
          "table": [
           {
            "cells": {
             "fill": {
              "color": "#EBF0F8"
             },
             "line": {
              "color": "white"
             }
            },
            "header": {
             "fill": {
              "color": "#C8D4E3"
             },
             "line": {
              "color": "white"
             }
            },
            "type": "table"
           }
          ]
         },
         "layout": {
          "annotationdefaults": {
           "arrowcolor": "#2a3f5f",
           "arrowhead": 0,
           "arrowwidth": 1
          },
          "autotypenumbers": "strict",
          "coloraxis": {
           "colorbar": {
            "outlinewidth": 0,
            "ticks": ""
           }
          },
          "colorscale": {
           "diverging": [
            [
             0,
             "#8e0152"
            ],
            [
             0.1,
             "#c51b7d"
            ],
            [
             0.2,
             "#de77ae"
            ],
            [
             0.3,
             "#f1b6da"
            ],
            [
             0.4,
             "#fde0ef"
            ],
            [
             0.5,
             "#f7f7f7"
            ],
            [
             0.6,
             "#e6f5d0"
            ],
            [
             0.7,
             "#b8e186"
            ],
            [
             0.8,
             "#7fbc41"
            ],
            [
             0.9,
             "#4d9221"
            ],
            [
             1,
             "#276419"
            ]
           ],
           "sequential": [
            [
             0,
             "#0d0887"
            ],
            [
             0.1111111111111111,
             "#46039f"
            ],
            [
             0.2222222222222222,
             "#7201a8"
            ],
            [
             0.3333333333333333,
             "#9c179e"
            ],
            [
             0.4444444444444444,
             "#bd3786"
            ],
            [
             0.5555555555555556,
             "#d8576b"
            ],
            [
             0.6666666666666666,
             "#ed7953"
            ],
            [
             0.7777777777777778,
             "#fb9f3a"
            ],
            [
             0.8888888888888888,
             "#fdca26"
            ],
            [
             1,
             "#f0f921"
            ]
           ],
           "sequentialminus": [
            [
             0,
             "#0d0887"
            ],
            [
             0.1111111111111111,
             "#46039f"
            ],
            [
             0.2222222222222222,
             "#7201a8"
            ],
            [
             0.3333333333333333,
             "#9c179e"
            ],
            [
             0.4444444444444444,
             "#bd3786"
            ],
            [
             0.5555555555555556,
             "#d8576b"
            ],
            [
             0.6666666666666666,
             "#ed7953"
            ],
            [
             0.7777777777777778,
             "#fb9f3a"
            ],
            [
             0.8888888888888888,
             "#fdca26"
            ],
            [
             1,
             "#f0f921"
            ]
           ]
          },
          "colorway": [
           "#636efa",
           "#EF553B",
           "#00cc96",
           "#ab63fa",
           "#FFA15A",
           "#19d3f3",
           "#FF6692",
           "#B6E880",
           "#FF97FF",
           "#FECB52"
          ],
          "font": {
           "color": "#2a3f5f"
          },
          "geo": {
           "bgcolor": "white",
           "lakecolor": "white",
           "landcolor": "#E5ECF6",
           "showlakes": true,
           "showland": true,
           "subunitcolor": "white"
          },
          "hoverlabel": {
           "align": "left"
          },
          "hovermode": "closest",
          "mapbox": {
           "style": "light"
          },
          "paper_bgcolor": "white",
          "plot_bgcolor": "#E5ECF6",
          "polar": {
           "angularaxis": {
            "gridcolor": "white",
            "linecolor": "white",
            "ticks": ""
           },
           "bgcolor": "#E5ECF6",
           "radialaxis": {
            "gridcolor": "white",
            "linecolor": "white",
            "ticks": ""
           }
          },
          "scene": {
           "xaxis": {
            "backgroundcolor": "#E5ECF6",
            "gridcolor": "white",
            "gridwidth": 2,
            "linecolor": "white",
            "showbackground": true,
            "ticks": "",
            "zerolinecolor": "white"
           },
           "yaxis": {
            "backgroundcolor": "#E5ECF6",
            "gridcolor": "white",
            "gridwidth": 2,
            "linecolor": "white",
            "showbackground": true,
            "ticks": "",
            "zerolinecolor": "white"
           },
           "zaxis": {
            "backgroundcolor": "#E5ECF6",
            "gridcolor": "white",
            "gridwidth": 2,
            "linecolor": "white",
            "showbackground": true,
            "ticks": "",
            "zerolinecolor": "white"
           }
          },
          "shapedefaults": {
           "line": {
            "color": "#2a3f5f"
           }
          },
          "ternary": {
           "aaxis": {
            "gridcolor": "white",
            "linecolor": "white",
            "ticks": ""
           },
           "baxis": {
            "gridcolor": "white",
            "linecolor": "white",
            "ticks": ""
           },
           "bgcolor": "#E5ECF6",
           "caxis": {
            "gridcolor": "white",
            "linecolor": "white",
            "ticks": ""
           }
          },
          "title": {
           "x": 0.05
          },
          "xaxis": {
           "automargin": true,
           "gridcolor": "white",
           "linecolor": "white",
           "ticks": "",
           "title": {
            "standoff": 15
           },
           "zerolinecolor": "white",
           "zerolinewidth": 2
          },
          "yaxis": {
           "automargin": true,
           "gridcolor": "white",
           "linecolor": "white",
           "ticks": "",
           "title": {
            "standoff": 15
           },
           "zerolinecolor": "white",
           "zerolinewidth": 2
          }
         }
        }
       }
      }
     },
     "metadata": {},
     "output_type": "display_data"
    }
   ],
   "source": [
    "fig = px.scatter_mapbox(hyd_data_with_longlat, lat=\"Latitude\", lon=\"Longitude\",\n",
    "                  color_continuous_scale=px.colors.cyclical.IceFire, zoom=10,\n",
    "                  mapbox_style=\"open-street-map\",text=hyd_data_with_longlat.index)\n",
    "fig.show()"
   ]
  },
  {
   "cell_type": "code",
   "execution_count": 33,
   "metadata": {},
   "outputs": [],
   "source": [
    "df.drop(columns=['Store_Room','Servant_Room','Luxury_Category','Property_Type','Sector','Bedrooms'],inplace=True)\n"
   ]
  },
  {
   "cell_type": "code",
   "execution_count": 34,
   "metadata": {},
   "outputs": [
    {
     "name": "stdout",
     "output_type": "stream",
     "text": [
      "<class 'pandas.core.frame.DataFrame'>\n",
      "RangeIndex: 38171 entries, 0 to 38170\n",
      "Data columns (total 8 columns):\n",
      " #   Column             Non-Null Count  Dtype  \n",
      "---  ------             --------------  -----  \n",
      " 0   Title              38171 non-null  object \n",
      " 1   Price              38171 non-null  object \n",
      " 2   Bathrooms          37934 non-null  object \n",
      " 3   Balconies          32588 non-null  float64\n",
      " 4   Age_or_Possession  34056 non-null  object \n",
      " 5   Built_Up_Area      26382 non-null  object \n",
      " 6   Furnishing_Type    37779 non-null  object \n",
      " 7   Floor_Category     30977 non-null  object \n",
      "dtypes: float64(1), object(7)\n",
      "memory usage: 2.3+ MB\n"
     ]
    }
   ],
   "source": [
    "df.info()"
   ]
  },
  {
   "cell_type": "code",
   "execution_count": 35,
   "metadata": {},
   "outputs": [
    {
     "name": "stderr",
     "output_type": "stream",
     "text": [
      "C:\\Users\\faisa\\AppData\\Local\\Temp\\ipykernel_19588\\1352794762.py:1: FutureWarning:\n",
      "\n",
      "A value is trying to be set on a copy of a DataFrame or Series through chained assignment using an inplace method.\n",
      "The behavior will change in pandas 3.0. This inplace method will never work because the intermediate object on which we are setting values always behaves as a copy.\n",
      "\n",
      "For example, when doing 'df[col].method(value, inplace=True)', try using 'df.method({col: value}, inplace=True)' or df[col] = df[col].method(value) instead, to perform the operation inplace on the original object.\n",
      "\n",
      "\n",
      "\n"
     ]
    }
   ],
   "source": [
    "df['Age_or_Possession'].fillna('Ready to Move',inplace=True)"
   ]
  },
  {
   "cell_type": "code",
   "execution_count": 36,
   "metadata": {},
   "outputs": [
    {
     "name": "stderr",
     "output_type": "stream",
     "text": [
      "C:\\Users\\faisa\\AppData\\Local\\Temp\\ipykernel_19588\\2121047718.py:1: FutureWarning:\n",
      "\n",
      "A value is trying to be set on a copy of a DataFrame or Series through chained assignment using an inplace method.\n",
      "The behavior will change in pandas 3.0. This inplace method will never work because the intermediate object on which we are setting values always behaves as a copy.\n",
      "\n",
      "For example, when doing 'df[col].method(value, inplace=True)', try using 'df.method({col: value}, inplace=True)' or df[col] = df[col].method(value) instead, to perform the operation inplace on the original object.\n",
      "\n",
      "\n",
      "\n"
     ]
    }
   ],
   "source": [
    "df['Balconies'].fillna(df['Balconies'].mean(),inplace=True)"
   ]
  },
  {
   "cell_type": "code",
   "execution_count": 37,
   "metadata": {},
   "outputs": [
    {
     "data": {
      "text/plain": [
       "924"
      ]
     },
     "execution_count": 37,
     "metadata": {},
     "output_type": "execute_result"
    }
   ],
   "source": [
    "df['Title'].nunique()"
   ]
  },
  {
   "cell_type": "code",
   "execution_count": 38,
   "metadata": {},
   "outputs": [
    {
     "data": {
      "text/plain": [
       "(38171, 8)"
      ]
     },
     "execution_count": 38,
     "metadata": {},
     "output_type": "execute_result"
    }
   ],
   "source": [
    "df.shape\n"
   ]
  },
  {
   "cell_type": "code",
   "execution_count": 39,
   "metadata": {},
   "outputs": [],
   "source": [
    "df = df[df['Title'].duplicated() == False]"
   ]
  },
  {
   "cell_type": "code",
   "execution_count": 40,
   "metadata": {},
   "outputs": [
    {
     "data": {
      "text/plain": [
       "0         ₹1.75 Cr₹8,750 per sqft\n",
       "1          ₹45 Lac₹4,018 per sqft\n",
       "2          ₹55 Lac₹4,231 per sqft\n",
       "3          ₹27 Lac₹4,154 per sqft\n",
       "4          ₹75 Lac₹5,357 per sqft\n",
       "                   ...           \n",
       "38156     ₹1.70 Cr₹5,312 per sqft\n",
       "38157    ₹2.50 Cr₹11,111 per sqft\n",
       "38158     ₹1.19 Cr₹4,577 per sqft\n",
       "38160      ₹57 Lac₹5,278 per sqft\n",
       "38162     ₹1.55 Cr₹8,442 per sqft\n",
       "Name: Price, Length: 924, dtype: object"
      ]
     },
     "execution_count": 40,
     "metadata": {},
     "output_type": "execute_result"
    }
   ],
   "source": [
    "df['Price']"
   ]
  },
  {
   "cell_type": "code",
   "execution_count": 41,
   "metadata": {},
   "outputs": [],
   "source": [
    "new_hyd_df = df"
   ]
  },
  {
   "cell_type": "code",
   "execution_count": 42,
   "metadata": {},
   "outputs": [],
   "source": [
    "new_hyd_df['bedrooms'] = new_hyd_df['Title'].str.split(' B').str.get(0)"
   ]
  },
  {
   "cell_type": "code",
   "execution_count": 43,
   "metadata": {},
   "outputs": [],
   "source": [
    "new_hyd_df['area'] = new_hyd_df['Title'].str.split(' in').str.get(1)"
   ]
  },
  {
   "cell_type": "code",
   "execution_count": 44,
   "metadata": {},
   "outputs": [
    {
     "data": {
      "text/html": [
       "<div>\n",
       "<style scoped>\n",
       "    .dataframe tbody tr th:only-of-type {\n",
       "        vertical-align: middle;\n",
       "    }\n",
       "\n",
       "    .dataframe tbody tr th {\n",
       "        vertical-align: top;\n",
       "    }\n",
       "\n",
       "    .dataframe thead th {\n",
       "        text-align: right;\n",
       "    }\n",
       "</style>\n",
       "<table border=\"1\" class=\"dataframe\">\n",
       "  <thead>\n",
       "    <tr style=\"text-align: right;\">\n",
       "      <th></th>\n",
       "      <th>Title</th>\n",
       "      <th>Price</th>\n",
       "      <th>Bathrooms</th>\n",
       "      <th>Balconies</th>\n",
       "      <th>Age_or_Possession</th>\n",
       "      <th>Built_Up_Area</th>\n",
       "      <th>Furnishing_Type</th>\n",
       "      <th>Floor_Category</th>\n",
       "      <th>bedrooms</th>\n",
       "      <th>area</th>\n",
       "    </tr>\n",
       "  </thead>\n",
       "  <tbody>\n",
       "    <tr>\n",
       "      <th>134</th>\n",
       "      <td>Apartment for Sale in Bolarum, Medchal Road H...</td>\n",
       "      <td>₹1.35 Cr₹12,054 per sqft</td>\n",
       "      <td>NaN</td>\n",
       "      <td>1.872407</td>\n",
       "      <td>Ready to Move</td>\n",
       "      <td>NaN</td>\n",
       "      <td>NaN</td>\n",
       "      <td>NaN</td>\n",
       "      <td>Apartment for Sale in</td>\n",
       "      <td>Bolarum, Medchal Road Hyderabad</td>\n",
       "    </tr>\n",
       "  </tbody>\n",
       "</table>\n",
       "</div>"
      ],
      "text/plain": [
       "                                                 Title  \\\n",
       "134   Apartment for Sale in Bolarum, Medchal Road H...   \n",
       "\n",
       "                        Price Bathrooms  Balconies Age_or_Possession  \\\n",
       "134  ₹1.35 Cr₹12,054 per sqft       NaN   1.872407     Ready to Move   \n",
       "\n",
       "    Built_Up_Area Furnishing_Type Floor_Category                bedrooms  \\\n",
       "134           NaN             NaN            NaN   Apartment for Sale in   \n",
       "\n",
       "                                 area  \n",
       "134   Bolarum, Medchal Road Hyderabad  "
      ]
     },
     "execution_count": 44,
     "metadata": {},
     "output_type": "execute_result"
    }
   ],
   "source": [
    "new_hyd_df.sample()"
   ]
  },
  {
   "cell_type": "code",
   "execution_count": 45,
   "metadata": {},
   "outputs": [],
   "source": [
    "new_hyd_df['type'] = new_hyd_df['Title'].str.split('for').str.get(0).str.split('K ').str.get(1)"
   ]
  },
  {
   "cell_type": "code",
   "execution_count": 46,
   "metadata": {},
   "outputs": [
    {
     "data": {
      "text/plain": [
       "Index(['Title', 'Price', 'Bathrooms', 'Balconies', 'Age_or_Possession',\n",
       "       'Built_Up_Area', 'Furnishing_Type', 'Floor_Category', 'bedrooms',\n",
       "       'area', 'type'],\n",
       "      dtype='object')"
      ]
     },
     "execution_count": 46,
     "metadata": {},
     "output_type": "execute_result"
    }
   ],
   "source": [
    "new_hyd_df.columns"
   ]
  },
  {
   "cell_type": "code",
   "execution_count": 47,
   "metadata": {},
   "outputs": [
    {
     "data": {
      "text/html": [
       "<div>\n",
       "<style scoped>\n",
       "    .dataframe tbody tr th:only-of-type {\n",
       "        vertical-align: middle;\n",
       "    }\n",
       "\n",
       "    .dataframe tbody tr th {\n",
       "        vertical-align: top;\n",
       "    }\n",
       "\n",
       "    .dataframe thead th {\n",
       "        text-align: right;\n",
       "    }\n",
       "</style>\n",
       "<table border=\"1\" class=\"dataframe\">\n",
       "  <thead>\n",
       "    <tr style=\"text-align: right;\">\n",
       "      <th></th>\n",
       "      <th>Title</th>\n",
       "      <th>Price</th>\n",
       "      <th>Bathrooms</th>\n",
       "      <th>Balconies</th>\n",
       "      <th>Age_or_Possession</th>\n",
       "      <th>Built_Up_Area</th>\n",
       "      <th>Furnishing_Type</th>\n",
       "      <th>Floor_Category</th>\n",
       "      <th>bedrooms</th>\n",
       "      <th>area</th>\n",
       "      <th>type</th>\n",
       "    </tr>\n",
       "  </thead>\n",
       "  <tbody>\n",
       "    <tr>\n",
       "      <th>0</th>\n",
       "      <td>2 BHK Flat  for Sale in  Suraram, Hyderabad</td>\n",
       "      <td>₹1.75 Cr₹8,750 per sqft</td>\n",
       "      <td>2</td>\n",
       "      <td>1.0</td>\n",
       "      <td>Ready to Move</td>\n",
       "      <td>NaN</td>\n",
       "      <td>Unfurnished</td>\n",
       "      <td>3 out of 5</td>\n",
       "      <td>2</td>\n",
       "      <td>Suraram, Hyderabad</td>\n",
       "      <td>Flat</td>\n",
       "    </tr>\n",
       "    <tr>\n",
       "      <th>1</th>\n",
       "      <td>3 BHK Flat  for Sale in  Kowkoor, Hyderabad</td>\n",
       "      <td>₹45 Lac₹4,018 per sqft</td>\n",
       "      <td>3</td>\n",
       "      <td>1.0</td>\n",
       "      <td>Ready to Move</td>\n",
       "      <td>1000 sqft</td>\n",
       "      <td>Semi-Furnished</td>\n",
       "      <td>1 out of 6</td>\n",
       "      <td>3</td>\n",
       "      <td>Kowkoor, Hyderabad</td>\n",
       "      <td>Flat</td>\n",
       "    </tr>\n",
       "    <tr>\n",
       "      <th>2</th>\n",
       "      <td>1 BHK Flat  for Sale in  Malkajgiri, Hyderabad</td>\n",
       "      <td>₹55 Lac₹4,231 per sqft</td>\n",
       "      <td>1</td>\n",
       "      <td>2.0</td>\n",
       "      <td>Ready to Move</td>\n",
       "      <td>550 sqft</td>\n",
       "      <td>Semi-Furnished</td>\n",
       "      <td>2 out of 3</td>\n",
       "      <td>1</td>\n",
       "      <td>Malkajgiri, Hyderabad</td>\n",
       "      <td>Flat</td>\n",
       "    </tr>\n",
       "    <tr>\n",
       "      <th>3</th>\n",
       "      <td>3 BHK Flat  for Sale in  Tirumalagiri, Hyderabad</td>\n",
       "      <td>₹27 Lac₹4,154 per sqft</td>\n",
       "      <td>2</td>\n",
       "      <td>1.0</td>\n",
       "      <td>Ready to Move</td>\n",
       "      <td>1250 sqft</td>\n",
       "      <td>Furnished</td>\n",
       "      <td>4 out of 5</td>\n",
       "      <td>3</td>\n",
       "      <td>Tirumalagiri, Hyderabad</td>\n",
       "      <td>Flat</td>\n",
       "    </tr>\n",
       "    <tr>\n",
       "      <th>4</th>\n",
       "      <td>2 BHK Flat  for Sale in  Gagan Mahal, Himayath...</td>\n",
       "      <td>₹75 Lac₹5,357 per sqft</td>\n",
       "      <td>2</td>\n",
       "      <td>1.0</td>\n",
       "      <td>Ready to Move</td>\n",
       "      <td>1100 sqft</td>\n",
       "      <td>Semi-Furnished</td>\n",
       "      <td>4 out of 5</td>\n",
       "      <td>2</td>\n",
       "      <td>Gagan Mahal, Himayath Nagar, NH 7, Hyderabad</td>\n",
       "      <td>Flat</td>\n",
       "    </tr>\n",
       "  </tbody>\n",
       "</table>\n",
       "</div>"
      ],
      "text/plain": [
       "                                               Title                    Price  \\\n",
       "0        2 BHK Flat  for Sale in  Suraram, Hyderabad  ₹1.75 Cr₹8,750 per sqft   \n",
       "1        3 BHK Flat  for Sale in  Kowkoor, Hyderabad   ₹45 Lac₹4,018 per sqft   \n",
       "2     1 BHK Flat  for Sale in  Malkajgiri, Hyderabad   ₹55 Lac₹4,231 per sqft   \n",
       "3   3 BHK Flat  for Sale in  Tirumalagiri, Hyderabad   ₹27 Lac₹4,154 per sqft   \n",
       "4  2 BHK Flat  for Sale in  Gagan Mahal, Himayath...   ₹75 Lac₹5,357 per sqft   \n",
       "\n",
       "  Bathrooms  Balconies Age_or_Possession Built_Up_Area Furnishing_Type  \\\n",
       "0         2        1.0     Ready to Move           NaN     Unfurnished   \n",
       "1         3        1.0     Ready to Move     1000 sqft  Semi-Furnished   \n",
       "2         1        2.0     Ready to Move      550 sqft  Semi-Furnished   \n",
       "3         2        1.0     Ready to Move     1250 sqft       Furnished   \n",
       "4         2        1.0     Ready to Move     1100 sqft  Semi-Furnished   \n",
       "\n",
       "  Floor_Category bedrooms                                            area  \\\n",
       "0     3 out of 5        2                              Suraram, Hyderabad   \n",
       "1     1 out of 6        3                              Kowkoor, Hyderabad   \n",
       "2     2 out of 3        1                           Malkajgiri, Hyderabad   \n",
       "3     4 out of 5        3                         Tirumalagiri, Hyderabad   \n",
       "4     4 out of 5        2    Gagan Mahal, Himayath Nagar, NH 7, Hyderabad   \n",
       "\n",
       "     type  \n",
       "0  Flat    \n",
       "1  Flat    \n",
       "2  Flat    \n",
       "3  Flat    \n",
       "4  Flat    "
      ]
     },
     "execution_count": 47,
     "metadata": {},
     "output_type": "execute_result"
    }
   ],
   "source": [
    "new_hyd_df.head()"
   ]
  },
  {
   "cell_type": "code",
   "execution_count": 48,
   "metadata": {},
   "outputs": [
    {
     "name": "stdout",
     "output_type": "stream",
     "text": [
      "<class 'pandas.core.frame.DataFrame'>\n",
      "Index: 924 entries, 0 to 38162\n",
      "Data columns (total 11 columns):\n",
      " #   Column             Non-Null Count  Dtype  \n",
      "---  ------             --------------  -----  \n",
      " 0   Title              924 non-null    object \n",
      " 1   Price              924 non-null    object \n",
      " 2   Bathrooms          918 non-null    object \n",
      " 3   Balconies          924 non-null    float64\n",
      " 4   Age_or_Possession  924 non-null    object \n",
      " 5   Built_Up_Area      631 non-null    object \n",
      " 6   Furnishing_Type    907 non-null    object \n",
      " 7   Floor_Category     674 non-null    object \n",
      " 8   bedrooms           924 non-null    object \n",
      " 9   area               924 non-null    object \n",
      " 10  type               922 non-null    object \n",
      "dtypes: float64(1), object(10)\n",
      "memory usage: 86.6+ KB\n"
     ]
    }
   ],
   "source": [
    "new_hyd_df.info()"
   ]
  },
  {
   "cell_type": "code",
   "execution_count": 49,
   "metadata": {},
   "outputs": [],
   "source": [
    "#new_hyd_df.drop(columns=['Property_Type','Sector','Bedrooms'],inplace=True)"
   ]
  },
  {
   "cell_type": "code",
   "execution_count": 50,
   "metadata": {},
   "outputs": [
    {
     "name": "stdout",
     "output_type": "stream",
     "text": [
      "<class 'pandas.core.frame.DataFrame'>\n",
      "Index: 924 entries, 0 to 38162\n",
      "Data columns (total 11 columns):\n",
      " #   Column             Non-Null Count  Dtype  \n",
      "---  ------             --------------  -----  \n",
      " 0   Title              924 non-null    object \n",
      " 1   Price              924 non-null    object \n",
      " 2   Bathrooms          918 non-null    object \n",
      " 3   Balconies          924 non-null    float64\n",
      " 4   Age_or_Possession  924 non-null    object \n",
      " 5   Built_Up_Area      631 non-null    object \n",
      " 6   Furnishing_Type    907 non-null    object \n",
      " 7   Floor_Category     674 non-null    object \n",
      " 8   bedrooms           924 non-null    object \n",
      " 9   area               924 non-null    object \n",
      " 10  type               922 non-null    object \n",
      "dtypes: float64(1), object(10)\n",
      "memory usage: 86.6+ KB\n"
     ]
    }
   ],
   "source": [
    "new_hyd_df.info()"
   ]
  },
  {
   "cell_type": "code",
   "execution_count": 51,
   "metadata": {},
   "outputs": [
    {
     "data": {
      "text/html": [
       "<div>\n",
       "<style scoped>\n",
       "    .dataframe tbody tr th:only-of-type {\n",
       "        vertical-align: middle;\n",
       "    }\n",
       "\n",
       "    .dataframe tbody tr th {\n",
       "        vertical-align: top;\n",
       "    }\n",
       "\n",
       "    .dataframe thead th {\n",
       "        text-align: right;\n",
       "    }\n",
       "</style>\n",
       "<table border=\"1\" class=\"dataframe\">\n",
       "  <thead>\n",
       "    <tr style=\"text-align: right;\">\n",
       "      <th></th>\n",
       "      <th>Title</th>\n",
       "      <th>Price</th>\n",
       "      <th>Bathrooms</th>\n",
       "      <th>Balconies</th>\n",
       "      <th>Age_or_Possession</th>\n",
       "      <th>Built_Up_Area</th>\n",
       "      <th>Furnishing_Type</th>\n",
       "      <th>Floor_Category</th>\n",
       "      <th>bedrooms</th>\n",
       "      <th>area</th>\n",
       "      <th>type</th>\n",
       "    </tr>\n",
       "  </thead>\n",
       "  <tbody>\n",
       "    <tr>\n",
       "      <th>1916</th>\n",
       "      <td>2 BHK Apartment for Sale in Malakunta Hyderabad</td>\n",
       "      <td>₹90 Lac₹7,930 per sqft</td>\n",
       "      <td>2</td>\n",
       "      <td>1.0</td>\n",
       "      <td>Ready to Move</td>\n",
       "      <td>1150 sqft</td>\n",
       "      <td>Semi-Furnished</td>\n",
       "      <td>5 out of 6</td>\n",
       "      <td>2</td>\n",
       "      <td>Malakunta Hyderabad</td>\n",
       "      <td>Apartment</td>\n",
       "    </tr>\n",
       "  </tbody>\n",
       "</table>\n",
       "</div>"
      ],
      "text/plain": [
       "                                                Title                   Price  \\\n",
       "1916  2 BHK Apartment for Sale in Malakunta Hyderabad  ₹90 Lac₹7,930 per sqft   \n",
       "\n",
       "     Bathrooms  Balconies Age_or_Possession Built_Up_Area Furnishing_Type  \\\n",
       "1916         2        1.0     Ready to Move     1150 sqft  Semi-Furnished   \n",
       "\n",
       "     Floor_Category bedrooms                  area        type  \n",
       "1916     5 out of 6        2   Malakunta Hyderabad  Apartment   "
      ]
     },
     "execution_count": 51,
     "metadata": {},
     "output_type": "execute_result"
    }
   ],
   "source": [
    "new_hyd_df.sample()"
   ]
  },
  {
   "cell_type": "code",
   "execution_count": 52,
   "metadata": {},
   "outputs": [],
   "source": [
    "new_hyd_df.drop(columns=['Title'],inplace=True)"
   ]
  },
  {
   "cell_type": "code",
   "execution_count": 53,
   "metadata": {},
   "outputs": [
    {
     "data": {
      "text/html": [
       "<div>\n",
       "<style scoped>\n",
       "    .dataframe tbody tr th:only-of-type {\n",
       "        vertical-align: middle;\n",
       "    }\n",
       "\n",
       "    .dataframe tbody tr th {\n",
       "        vertical-align: top;\n",
       "    }\n",
       "\n",
       "    .dataframe thead th {\n",
       "        text-align: right;\n",
       "    }\n",
       "</style>\n",
       "<table border=\"1\" class=\"dataframe\">\n",
       "  <thead>\n",
       "    <tr style=\"text-align: right;\">\n",
       "      <th></th>\n",
       "      <th>Price</th>\n",
       "      <th>Bathrooms</th>\n",
       "      <th>Balconies</th>\n",
       "      <th>Age_or_Possession</th>\n",
       "      <th>Built_Up_Area</th>\n",
       "      <th>Furnishing_Type</th>\n",
       "      <th>Floor_Category</th>\n",
       "      <th>bedrooms</th>\n",
       "      <th>area</th>\n",
       "      <th>type</th>\n",
       "    </tr>\n",
       "  </thead>\n",
       "  <tbody>\n",
       "    <tr>\n",
       "      <th>25754</th>\n",
       "      <td>₹1.40 Cr₹10,036 per sqft</td>\n",
       "      <td>4</td>\n",
       "      <td>1.872407</td>\n",
       "      <td>Ready to Move</td>\n",
       "      <td>NaN</td>\n",
       "      <td>Unfurnished</td>\n",
       "      <td>1 out of 1</td>\n",
       "      <td>4</td>\n",
       "      <td>Beeramguda Ramachandrapuram Hyderabad</td>\n",
       "      <td>House</td>\n",
       "    </tr>\n",
       "  </tbody>\n",
       "</table>\n",
       "</div>"
      ],
      "text/plain": [
       "                          Price Bathrooms  Balconies Age_or_Possession  \\\n",
       "25754  ₹1.40 Cr₹10,036 per sqft         4   1.872407     Ready to Move   \n",
       "\n",
       "      Built_Up_Area Furnishing_Type Floor_Category bedrooms  \\\n",
       "25754           NaN     Unfurnished     1 out of 1        4   \n",
       "\n",
       "                                         area     type  \n",
       "25754   Beeramguda Ramachandrapuram Hyderabad   House   "
      ]
     },
     "execution_count": 53,
     "metadata": {},
     "output_type": "execute_result"
    }
   ],
   "source": [
    "new_hyd_df.sample()"
   ]
  },
  {
   "cell_type": "code",
   "execution_count": 54,
   "metadata": {},
   "outputs": [],
   "source": [
    "new_hyd_df['Price in Lacs'] = new_hyd_df['Price'].str.replace('₹',' ').str.replace(',','').str.strip().str.split(' ').str.get(0).str.replace('.','').astype('float')"
   ]
  },
  {
   "cell_type": "code",
   "execution_count": 55,
   "metadata": {},
   "outputs": [
    {
     "data": {
      "text/html": [
       "<div>\n",
       "<style scoped>\n",
       "    .dataframe tbody tr th:only-of-type {\n",
       "        vertical-align: middle;\n",
       "    }\n",
       "\n",
       "    .dataframe tbody tr th {\n",
       "        vertical-align: top;\n",
       "    }\n",
       "\n",
       "    .dataframe thead th {\n",
       "        text-align: right;\n",
       "    }\n",
       "</style>\n",
       "<table border=\"1\" class=\"dataframe\">\n",
       "  <thead>\n",
       "    <tr style=\"text-align: right;\">\n",
       "      <th></th>\n",
       "      <th>Price</th>\n",
       "      <th>Bathrooms</th>\n",
       "      <th>Balconies</th>\n",
       "      <th>Age_or_Possession</th>\n",
       "      <th>Built_Up_Area</th>\n",
       "      <th>Furnishing_Type</th>\n",
       "      <th>Floor_Category</th>\n",
       "      <th>bedrooms</th>\n",
       "      <th>area</th>\n",
       "      <th>type</th>\n",
       "      <th>Price in Lacs</th>\n",
       "    </tr>\n",
       "  </thead>\n",
       "  <tbody>\n",
       "    <tr>\n",
       "      <th>18825</th>\n",
       "      <td>₹4 Cr</td>\n",
       "      <td>2</td>\n",
       "      <td>1.000000</td>\n",
       "      <td>Ready to Move</td>\n",
       "      <td>1100 sqft</td>\n",
       "      <td>Furnished</td>\n",
       "      <td>3 out of 5</td>\n",
       "      <td>2</td>\n",
       "      <td>CMC Enclave, Kondapur Hyderabad</td>\n",
       "      <td>Apartment</td>\n",
       "      <td>4.0</td>\n",
       "    </tr>\n",
       "    <tr>\n",
       "      <th>1590</th>\n",
       "      <td>₹1.60 Cr₹6,999 per sqft</td>\n",
       "      <td>2</td>\n",
       "      <td>1.000000</td>\n",
       "      <td>Ready to Move</td>\n",
       "      <td>1000 sqft</td>\n",
       "      <td>Semi-Furnished</td>\n",
       "      <td>NaN</td>\n",
       "      <td>2</td>\n",
       "      <td>Annaram, Nagole Hyderabad</td>\n",
       "      <td>Villa</td>\n",
       "      <td>160.0</td>\n",
       "    </tr>\n",
       "    <tr>\n",
       "      <th>139</th>\n",
       "      <td>₹1.35 Cr₹6,136 per sqft</td>\n",
       "      <td>3</td>\n",
       "      <td>4.000000</td>\n",
       "      <td>Ready to Move</td>\n",
       "      <td>3844 sqft</td>\n",
       "      <td>Furnished</td>\n",
       "      <td>8 out of 9</td>\n",
       "      <td>4</td>\n",
       "      <td>Madhura Nagar Hyderabad</td>\n",
       "      <td>Apartment</td>\n",
       "      <td>135.0</td>\n",
       "    </tr>\n",
       "    <tr>\n",
       "      <th>38142</th>\n",
       "      <td>₹2.50 Cr₹4,464 per sqft</td>\n",
       "      <td>1</td>\n",
       "      <td>1.000000</td>\n",
       "      <td>Ready to Move</td>\n",
       "      <td>650 sqft</td>\n",
       "      <td>Unfurnished</td>\n",
       "      <td>3 out of 4</td>\n",
       "      <td>1</td>\n",
       "      <td>Dilsukhnagar Hyderabad</td>\n",
       "      <td>Apartment</td>\n",
       "      <td>250.0</td>\n",
       "    </tr>\n",
       "    <tr>\n",
       "      <th>18833</th>\n",
       "      <td>₹50 Lac₹5,000 per sqft</td>\n",
       "      <td>2</td>\n",
       "      <td>3.000000</td>\n",
       "      <td>Ready to Move</td>\n",
       "      <td>1015 sqft</td>\n",
       "      <td>Unfurnished</td>\n",
       "      <td>Ground out of 1</td>\n",
       "      <td>2</td>\n",
       "      <td>Nadergul Road Hyderabad</td>\n",
       "      <td>House</td>\n",
       "      <td>50.0</td>\n",
       "    </tr>\n",
       "    <tr>\n",
       "      <th>33742</th>\n",
       "      <td>₹24 Lac₹3,133 per sqft</td>\n",
       "      <td>2</td>\n",
       "      <td>1.872407</td>\n",
       "      <td>Ready to Move</td>\n",
       "      <td>67 sqyrd</td>\n",
       "      <td>Unfurnished</td>\n",
       "      <td>1 out of 1</td>\n",
       "      <td>2</td>\n",
       "      <td>Begumpet Hyderabad</td>\n",
       "      <td>House</td>\n",
       "      <td>24.0</td>\n",
       "    </tr>\n",
       "    <tr>\n",
       "      <th>15</th>\n",
       "      <td>₹60 Lac₹7,018 per sqft</td>\n",
       "      <td>3</td>\n",
       "      <td>2.000000</td>\n",
       "      <td>Ready to Move</td>\n",
       "      <td>NaN</td>\n",
       "      <td>Furnished</td>\n",
       "      <td>2 out of 5</td>\n",
       "      <td>3</td>\n",
       "      <td>Bhaskar Rao Nagar Colony, Hyderabad</td>\n",
       "      <td>Flat</td>\n",
       "      <td>60.0</td>\n",
       "    </tr>\n",
       "    <tr>\n",
       "      <th>5064</th>\n",
       "      <td>₹6 Cr₹19,711 per sqft</td>\n",
       "      <td>9</td>\n",
       "      <td>2.000000</td>\n",
       "      <td>Ready to Move</td>\n",
       "      <td>3032 sqft</td>\n",
       "      <td>Unfurnished</td>\n",
       "      <td>Ground out of 2</td>\n",
       "      <td>9</td>\n",
       "      <td>Bandlaguda Jagir Hyderabad</td>\n",
       "      <td>House</td>\n",
       "      <td>6.0</td>\n",
       "    </tr>\n",
       "    <tr>\n",
       "      <th>24501</th>\n",
       "      <td>₹90 Lac₹4,500 per sqft</td>\n",
       "      <td>2</td>\n",
       "      <td>2.000000</td>\n",
       "      <td>Ready to Move</td>\n",
       "      <td>1700 sqft</td>\n",
       "      <td>Unfurnished</td>\n",
       "      <td>3 out of 22</td>\n",
       "      <td>3</td>\n",
       "      <td>Aziz Bagh Colony, Toli Chowki Hyderabad</td>\n",
       "      <td>Apartment</td>\n",
       "      <td>90.0</td>\n",
       "    </tr>\n",
       "    <tr>\n",
       "      <th>121</th>\n",
       "      <td>₹85 Lac₹5,735 per sqft</td>\n",
       "      <td>3</td>\n",
       "      <td>1.872407</td>\n",
       "      <td>Ready to Move</td>\n",
       "      <td>1512 sqft</td>\n",
       "      <td>Unfurnished</td>\n",
       "      <td>14 out of 15</td>\n",
       "      <td>3</td>\n",
       "      <td>Moti Nagar Erragadda Hyderabad</td>\n",
       "      <td>Apartment</td>\n",
       "      <td>85.0</td>\n",
       "    </tr>\n",
       "  </tbody>\n",
       "</table>\n",
       "</div>"
      ],
      "text/plain": [
       "                         Price Bathrooms  Balconies Age_or_Possession  \\\n",
       "18825                    ₹4 Cr         2   1.000000     Ready to Move   \n",
       "1590   ₹1.60 Cr₹6,999 per sqft         2   1.000000     Ready to Move   \n",
       "139    ₹1.35 Cr₹6,136 per sqft         3   4.000000     Ready to Move   \n",
       "38142  ₹2.50 Cr₹4,464 per sqft         1   1.000000     Ready to Move   \n",
       "18833   ₹50 Lac₹5,000 per sqft         2   3.000000     Ready to Move   \n",
       "33742   ₹24 Lac₹3,133 per sqft         2   1.872407     Ready to Move   \n",
       "15      ₹60 Lac₹7,018 per sqft         3   2.000000     Ready to Move   \n",
       "5064     ₹6 Cr₹19,711 per sqft         9   2.000000     Ready to Move   \n",
       "24501   ₹90 Lac₹4,500 per sqft         2   2.000000     Ready to Move   \n",
       "121     ₹85 Lac₹5,735 per sqft         3   1.872407     Ready to Move   \n",
       "\n",
       "      Built_Up_Area Furnishing_Type   Floor_Category bedrooms  \\\n",
       "18825     1100 sqft       Furnished       3 out of 5        2   \n",
       "1590      1000 sqft  Semi-Furnished              NaN        2   \n",
       "139       3844 sqft       Furnished       8 out of 9        4   \n",
       "38142      650 sqft     Unfurnished       3 out of 4        1   \n",
       "18833     1015 sqft     Unfurnished  Ground out of 1        2   \n",
       "33742      67 sqyrd     Unfurnished       1 out of 1        2   \n",
       "15              NaN       Furnished       2 out of 5        3   \n",
       "5064      3032 sqft     Unfurnished  Ground out of 2        9   \n",
       "24501     1700 sqft     Unfurnished      3 out of 22        3   \n",
       "121       1512 sqft     Unfurnished     14 out of 15        3   \n",
       "\n",
       "                                           area        type  Price in Lacs  \n",
       "18825           CMC Enclave, Kondapur Hyderabad  Apartment             4.0  \n",
       "1590                  Annaram, Nagole Hyderabad      Villa           160.0  \n",
       "139                     Madhura Nagar Hyderabad  Apartment           135.0  \n",
       "38142                    Dilsukhnagar Hyderabad  Apartment           250.0  \n",
       "18833                   Nadergul Road Hyderabad      House            50.0  \n",
       "33742                        Begumpet Hyderabad      House            24.0  \n",
       "15          Bhaskar Rao Nagar Colony, Hyderabad      Flat             60.0  \n",
       "5064                 Bandlaguda Jagir Hyderabad      House             6.0  \n",
       "24501   Aziz Bagh Colony, Toli Chowki Hyderabad  Apartment            90.0  \n",
       "121              Moti Nagar Erragadda Hyderabad  Apartment            85.0  "
      ]
     },
     "execution_count": 55,
     "metadata": {},
     "output_type": "execute_result"
    }
   ],
   "source": [
    "new_hyd_df.sample(10)"
   ]
  },
  {
   "cell_type": "code",
   "execution_count": 56,
   "metadata": {},
   "outputs": [
    {
     "name": "stdout",
     "output_type": "stream",
     "text": [
      "<class 'pandas.core.frame.DataFrame'>\n",
      "Index: 924 entries, 0 to 38162\n",
      "Data columns (total 11 columns):\n",
      " #   Column             Non-Null Count  Dtype  \n",
      "---  ------             --------------  -----  \n",
      " 0   Price              924 non-null    object \n",
      " 1   Bathrooms          918 non-null    object \n",
      " 2   Balconies          924 non-null    float64\n",
      " 3   Age_or_Possession  924 non-null    object \n",
      " 4   Built_Up_Area      631 non-null    object \n",
      " 5   Furnishing_Type    907 non-null    object \n",
      " 6   Floor_Category     674 non-null    object \n",
      " 7   bedrooms           924 non-null    object \n",
      " 8   area               924 non-null    object \n",
      " 9   type               922 non-null    object \n",
      " 10  Price in Lacs      924 non-null    float64\n",
      "dtypes: float64(2), object(9)\n",
      "memory usage: 86.6+ KB\n"
     ]
    }
   ],
   "source": [
    "new_hyd_df.info()"
   ]
  },
  {
   "cell_type": "code",
   "execution_count": 57,
   "metadata": {},
   "outputs": [
    {
     "data": {
      "text/plain": [
       "(array([714., 145.,  38.,  19.,   6.,   0.,   0.,   1.,   0.,   1.]),\n",
       " array([1.0000e+00, 2.1590e+02, 4.3080e+02, 6.4570e+02, 8.6060e+02,\n",
       "        1.0755e+03, 1.2904e+03, 1.5053e+03, 1.7202e+03, 1.9351e+03,\n",
       "        2.1500e+03]),\n",
       " <BarContainer object of 10 artists>)"
      ]
     },
     "execution_count": 57,
     "metadata": {},
     "output_type": "execute_result"
    },
    {
     "data": {
      "image/png": "[encoded data removed]",
      "text/plain": [
       "<Figure size 640x480 with 1 Axes>"
      ]
     },
     "metadata": {},
     "output_type": "display_data"
    }
   ],
   "source": [
    "import matplotlib.pyplot as plt\n",
    "import seaborn as sns\n",
    "\n",
    "plt.hist(new_hyd_df['Price in Lacs'],log=True)"
   ]
  },
  {
   "cell_type": "code",
   "execution_count": 58,
   "metadata": {},
   "outputs": [],
   "source": [
    "new_hyd_df.set_index('bedrooms',inplace=True)"
   ]
  },
  {
   "cell_type": "code",
   "execution_count": 59,
   "metadata": {},
   "outputs": [],
   "source": [
    "new_hyd_df.drop(index=[' Apartment for Sale in', '> 10',' Studio Apartment for Sale in Kukatpally Housing'],axis=1,inplace=True)"
   ]
  },
  {
   "cell_type": "code",
   "execution_count": 60,
   "metadata": {},
   "outputs": [],
   "source": [
    "new_hyd_df.reset_index(inplace=True)"
   ]
  },
  {
   "cell_type": "code",
   "execution_count": 61,
   "metadata": {},
   "outputs": [
    {
     "data": {
      "text/html": [
       "<div>\n",
       "<style scoped>\n",
       "    .dataframe tbody tr th:only-of-type {\n",
       "        vertical-align: middle;\n",
       "    }\n",
       "\n",
       "    .dataframe tbody tr th {\n",
       "        vertical-align: top;\n",
       "    }\n",
       "\n",
       "    .dataframe thead th {\n",
       "        text-align: right;\n",
       "    }\n",
       "</style>\n",
       "<table border=\"1\" class=\"dataframe\">\n",
       "  <thead>\n",
       "    <tr style=\"text-align: right;\">\n",
       "      <th></th>\n",
       "      <th>bedrooms</th>\n",
       "      <th>Price</th>\n",
       "      <th>Bathrooms</th>\n",
       "      <th>Balconies</th>\n",
       "      <th>Age_or_Possession</th>\n",
       "      <th>Built_Up_Area</th>\n",
       "      <th>Furnishing_Type</th>\n",
       "      <th>Floor_Category</th>\n",
       "      <th>area</th>\n",
       "      <th>type</th>\n",
       "      <th>Price in Lacs</th>\n",
       "    </tr>\n",
       "  </thead>\n",
       "  <tbody>\n",
       "    <tr>\n",
       "      <th>0</th>\n",
       "      <td>2</td>\n",
       "      <td>₹1.75 Cr₹8,750 per sqft</td>\n",
       "      <td>2</td>\n",
       "      <td>1.0</td>\n",
       "      <td>Ready to Move</td>\n",
       "      <td>NaN</td>\n",
       "      <td>Unfurnished</td>\n",
       "      <td>3 out of 5</td>\n",
       "      <td>Suraram, Hyderabad</td>\n",
       "      <td>Flat</td>\n",
       "      <td>175.0</td>\n",
       "    </tr>\n",
       "    <tr>\n",
       "      <th>1</th>\n",
       "      <td>3</td>\n",
       "      <td>₹45 Lac₹4,018 per sqft</td>\n",
       "      <td>3</td>\n",
       "      <td>1.0</td>\n",
       "      <td>Ready to Move</td>\n",
       "      <td>1000 sqft</td>\n",
       "      <td>Semi-Furnished</td>\n",
       "      <td>1 out of 6</td>\n",
       "      <td>Kowkoor, Hyderabad</td>\n",
       "      <td>Flat</td>\n",
       "      <td>45.0</td>\n",
       "    </tr>\n",
       "    <tr>\n",
       "      <th>2</th>\n",
       "      <td>1</td>\n",
       "      <td>₹55 Lac₹4,231 per sqft</td>\n",
       "      <td>1</td>\n",
       "      <td>2.0</td>\n",
       "      <td>Ready to Move</td>\n",
       "      <td>550 sqft</td>\n",
       "      <td>Semi-Furnished</td>\n",
       "      <td>2 out of 3</td>\n",
       "      <td>Malkajgiri, Hyderabad</td>\n",
       "      <td>Flat</td>\n",
       "      <td>55.0</td>\n",
       "    </tr>\n",
       "    <tr>\n",
       "      <th>3</th>\n",
       "      <td>3</td>\n",
       "      <td>₹27 Lac₹4,154 per sqft</td>\n",
       "      <td>2</td>\n",
       "      <td>1.0</td>\n",
       "      <td>Ready to Move</td>\n",
       "      <td>1250 sqft</td>\n",
       "      <td>Furnished</td>\n",
       "      <td>4 out of 5</td>\n",
       "      <td>Tirumalagiri, Hyderabad</td>\n",
       "      <td>Flat</td>\n",
       "      <td>27.0</td>\n",
       "    </tr>\n",
       "    <tr>\n",
       "      <th>4</th>\n",
       "      <td>2</td>\n",
       "      <td>₹75 Lac₹5,357 per sqft</td>\n",
       "      <td>2</td>\n",
       "      <td>1.0</td>\n",
       "      <td>Ready to Move</td>\n",
       "      <td>1100 sqft</td>\n",
       "      <td>Semi-Furnished</td>\n",
       "      <td>4 out of 5</td>\n",
       "      <td>Gagan Mahal, Himayath Nagar, NH 7, Hyderabad</td>\n",
       "      <td>Flat</td>\n",
       "      <td>75.0</td>\n",
       "    </tr>\n",
       "  </tbody>\n",
       "</table>\n",
       "</div>"
      ],
      "text/plain": [
       "  bedrooms                    Price Bathrooms  Balconies Age_or_Possession  \\\n",
       "0        2  ₹1.75 Cr₹8,750 per sqft         2        1.0     Ready to Move   \n",
       "1        3   ₹45 Lac₹4,018 per sqft         3        1.0     Ready to Move   \n",
       "2        1   ₹55 Lac₹4,231 per sqft         1        2.0     Ready to Move   \n",
       "3        3   ₹27 Lac₹4,154 per sqft         2        1.0     Ready to Move   \n",
       "4        2   ₹75 Lac₹5,357 per sqft         2        1.0     Ready to Move   \n",
       "\n",
       "  Built_Up_Area Furnishing_Type Floor_Category  \\\n",
       "0           NaN     Unfurnished     3 out of 5   \n",
       "1     1000 sqft  Semi-Furnished     1 out of 6   \n",
       "2      550 sqft  Semi-Furnished     2 out of 3   \n",
       "3     1250 sqft       Furnished     4 out of 5   \n",
       "4     1100 sqft  Semi-Furnished     4 out of 5   \n",
       "\n",
       "                                             area    type  Price in Lacs  \n",
       "0                              Suraram, Hyderabad  Flat            175.0  \n",
       "1                              Kowkoor, Hyderabad  Flat             45.0  \n",
       "2                           Malkajgiri, Hyderabad  Flat             55.0  \n",
       "3                         Tirumalagiri, Hyderabad  Flat             27.0  \n",
       "4    Gagan Mahal, Himayath Nagar, NH 7, Hyderabad  Flat             75.0  "
      ]
     },
     "execution_count": 61,
     "metadata": {},
     "output_type": "execute_result"
    }
   ],
   "source": [
    "new_hyd_df.head()"
   ]
  },
  {
   "cell_type": "code",
   "execution_count": 62,
   "metadata": {},
   "outputs": [
    {
     "data": {
      "text/plain": [
       "Bathrooms\n",
       "2       335\n",
       "3       282\n",
       "4       126\n",
       "5        79\n",
       "6        27\n",
       "1        26\n",
       "8        12\n",
       "7        10\n",
       "9         6\n",
       "10        3\n",
       "> 10      2\n",
       "Name: count, dtype: int64"
      ]
     },
     "execution_count": 62,
     "metadata": {},
     "output_type": "execute_result"
    }
   ],
   "source": [
    "new_hyd_df['Bathrooms'].value_counts()"
   ]
  },
  {
   "cell_type": "code",
   "execution_count": 63,
   "metadata": {},
   "outputs": [],
   "source": [
    "new_hyd_df['bedrooms'] = new_hyd_df['bedrooms'].astype(np.int64)\n",
    "# new_hyd_df['Bathrooms'] = new_hyd_df['Bathrooms'].astype(np.int64)"
   ]
  },
  {
   "cell_type": "code",
   "execution_count": 64,
   "metadata": {},
   "outputs": [],
   "source": [
    "new_hyd_df = new_hyd_df[~(new_hyd_df['Bathrooms'] == '> 10')]"
   ]
  },
  {
   "cell_type": "code",
   "execution_count": 65,
   "metadata": {},
   "outputs": [
    {
     "name": "stderr",
     "output_type": "stream",
     "text": [
      "C:\\Users\\faisa\\AppData\\Local\\Temp\\ipykernel_19588\\57194897.py:1: SettingWithCopyWarning:\n",
      "\n",
      "\n",
      "A value is trying to be set on a copy of a slice from a DataFrame.\n",
      "Try using .loc[row_indexer,col_indexer] = value instead\n",
      "\n",
      "See the caveats in the documentation: https://pandas.pydata.org/pandas-docs/stable/user_guide/indexing.html#returning-a-view-versus-a-copy\n",
      "\n"
     ]
    }
   ],
   "source": [
    "new_hyd_df['Bathrooms']=new_hyd_df['Bathrooms'].astype(float)"
   ]
  },
  {
   "cell_type": "code",
   "execution_count": 69,
   "metadata": {},
   "outputs": [
    {
     "data": {
      "text/plain": [
       "<Axes: xlabel='bedrooms', ylabel='Bathrooms'>"
      ]
     },
     "execution_count": 69,
     "metadata": {},
     "output_type": "execute_result"
    },
    {
     "data": {
      "image/png": "[encoded data removed]",
      "text/plain": [
       "<Figure size 1500x1000 with 1 Axes>"
      ]
     },
     "metadata": {},
     "output_type": "display_data"
    }
   ],
   "source": [
    "plt.figure(figsize=(15,10))\n",
    "sns.histplot(data=new_hyd_df,x='bedrooms',y='Bathrooms',color='red')\n"
   ]
  },
  {
   "cell_type": "code",
   "execution_count": null,
   "metadata": {},
   "outputs": [],
   "source": []
  }
 ],
 "metadata": {
  "kernelspec": {
   "display_name": "Python 3",
   "language": "python",
   "name": "python3"
  },
  "language_info": {
   "codemirror_mode": {
    "name": "ipython",
    "version": 3
   },
   "file_extension": ".py",
   "mimetype": "text/x-python",
   "name": "python",
   "nbconvert_exporter": "python",
   "pygments_lexer": "ipython3",
   "version": "3.12.3"
  }
 },
 "nbformat": 4,
 "nbformat_minor": 4
}
