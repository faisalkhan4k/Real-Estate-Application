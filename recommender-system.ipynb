{
 "cells": [
  {
   "cell_type": "code",
   "execution_count": 2,
   "metadata": {},
   "outputs": [],
   "source": [
    "import pandas as pd\n",
    "import numpy as np\n",
    "import re\n",
    "from sklearn.feature_extraction.text import TfidfVectorizer\n",
    "from sklearn.metrics.pairwise import cosine_similarity"
   ]
  },
  {
   "cell_type": "code",
   "execution_count": 3,
   "metadata": {},
   "outputs": [],
   "source": [
    "df = pd.read_csv('datasets/appartments.csv')"
   ]
  },
  {
   "cell_type": "code",
   "execution_count": 4,
   "metadata": {},
   "outputs": [
    {
     "data": {
      "text/plain": [
       "\"{'Bajghera Road': '800 Meter', 'Palam Vihar Halt': '2.5 KM', 'DPSG Palam Vihar': '3.1 KM', 'Park Hospital': '3.1 KM', 'Gurgaon Railway Station': '4.9 KM', 'The NorthCap University': '5.4 KM', 'Dwarka Expy': '1.2 KM', 'Hyatt Place Gurgaon Udyog Vihar': '7.7 KM', 'Dwarka Sector 21, Metro Station': '7.2 KM', 'Pacific D21 Mall': '7.4 KM', 'Indira Gandhi International Airport': '14.7 KM', 'Hamoni Golf Camp': '6.2 KM', 'Fun N Food Waterpark': '8.8 KM', 'Accenture DDC5': '9 KM'}\""
      ]
     },
     "execution_count": 4,
     "metadata": {},
     "output_type": "execute_result"
    }
   ],
   "source": [
    "df.iloc[0].LocationAdvantages"
   ]
  },
  {
   "cell_type": "code",
   "execution_count": 5,
   "metadata": {},
   "outputs": [
    {
     "data": {
      "text/html": [
       "<div>\n",
       "<style scoped>\n",
       "    .dataframe tbody tr th:only-of-type {\n",
       "        vertical-align: middle;\n",
       "    }\n",
       "\n",
       "    .dataframe tbody tr th {\n",
       "        vertical-align: top;\n",
       "    }\n",
       "\n",
       "    .dataframe thead th {\n",
       "        text-align: right;\n",
       "    }\n",
       "</style>\n",
       "<table border=\"1\" class=\"dataframe\">\n",
       "  <thead>\n",
       "    <tr style=\"text-align: right;\">\n",
       "      <th></th>\n",
       "      <th>PropertyName</th>\n",
       "      <th>PropertySubName</th>\n",
       "      <th>NearbyLocations</th>\n",
       "      <th>LocationAdvantages</th>\n",
       "      <th>Link</th>\n",
       "      <th>PriceDetails</th>\n",
       "      <th>TopFacilities</th>\n",
       "    </tr>\n",
       "  </thead>\n",
       "  <tbody>\n",
       "    <tr>\n",
       "      <th>0</th>\n",
       "      <td>Smartworld One DXP</td>\n",
       "      <td>2, 3, 4 BHK Apartment in Sector 113, Gurgaon</td>\n",
       "      <td>['Bajghera Road', 'Palam Vihar Halt', 'DPSG Pa...</td>\n",
       "      <td>{'Bajghera Road': '800 Meter', 'Palam Vihar Ha...</td>\n",
       "      <td>https://www.99acres.com/smartworld-one-dxp-sec...</td>\n",
       "      <td>{'2 BHK': {'building_type': 'Apartment', 'area...</td>\n",
       "      <td>['Swimming Pool', 'Salon', 'Restaurant', 'Spa'...</td>\n",
       "    </tr>\n",
       "    <tr>\n",
       "      <th>1</th>\n",
       "      <td>M3M Crown</td>\n",
       "      <td>3, 4 BHK Apartment in Sector 111, Gurgaon</td>\n",
       "      <td>['DPSG Palam Vihar Gurugram', 'The NorthCap Un...</td>\n",
       "      <td>{'DPSG Palam Vihar Gurugram': '1.4 Km', 'The N...</td>\n",
       "      <td>https://www.99acres.com/m3m-crown-sector-111-g...</td>\n",
       "      <td>{'3 BHK': {'building_type': 'Apartment', 'area...</td>\n",
       "      <td>['Bowling Alley', 'Mini Theatre', 'Manicured G...</td>\n",
       "    </tr>\n",
       "    <tr>\n",
       "      <th>2</th>\n",
       "      <td>Adani Brahma Samsara Vilasa</td>\n",
       "      <td>Land, 3, 4 BHK Independent Floor in Sector 63,...</td>\n",
       "      <td>['AIPL Business Club Sector 62', 'Heritage Xpe...</td>\n",
       "      <td>{'AIPL Business Club Sector 62': '2.7 Km', 'He...</td>\n",
       "      <td>https://www.99acres.com/adani-brahma-samsara-v...</td>\n",
       "      <td>{'3 BHK': {'building_type': 'Independent Floor...</td>\n",
       "      <td>['Terrace Garden', 'Gazebo', 'Fountain', 'Amph...</td>\n",
       "    </tr>\n",
       "    <tr>\n",
       "      <th>3</th>\n",
       "      <td>Sobha City</td>\n",
       "      <td>2, 3, 4 BHK Apartment in Sector 108, Gurgaon</td>\n",
       "      <td>['The Shikshiyan School', 'WTC Plaza', 'Luxus ...</td>\n",
       "      <td>{'The Shikshiyan School': '2.9 KM', 'WTC Plaza...</td>\n",
       "      <td>https://www.99acres.com/sobha-city-sector-108-...</td>\n",
       "      <td>{'2 BHK': {'building_type': 'Apartment', 'area...</td>\n",
       "      <td>['Swimming Pool', 'Volley Ball Court', 'Aerobi...</td>\n",
       "    </tr>\n",
       "    <tr>\n",
       "      <th>4</th>\n",
       "      <td>Signature Global City 93</td>\n",
       "      <td>2, 3 BHK Independent Floor in Sector 93 Gurgaon</td>\n",
       "      <td>['Pranavananda Int. School', 'DLF Site central...</td>\n",
       "      <td>{'Pranavananda Int. School': '450 m', 'DLF Sit...</td>\n",
       "      <td>https://www.99acres.com/signature-global-city-...</td>\n",
       "      <td>{'2 BHK': {'building_type': 'Independent Floor...</td>\n",
       "      <td>['Mini Theatre', 'Doctor on Call', 'Concierge ...</td>\n",
       "    </tr>\n",
       "  </tbody>\n",
       "</table>\n",
       "</div>"
      ],
      "text/plain": [
       "                  PropertyName  \\\n",
       "0           Smartworld One DXP   \n",
       "1                    M3M Crown   \n",
       "2  Adani Brahma Samsara Vilasa   \n",
       "3                   Sobha City   \n",
       "4     Signature Global City 93   \n",
       "\n",
       "                                     PropertySubName  \\\n",
       "0       2, 3, 4 BHK Apartment in Sector 113, Gurgaon   \n",
       "1          3, 4 BHK Apartment in Sector 111, Gurgaon   \n",
       "2  Land, 3, 4 BHK Independent Floor in Sector 63,...   \n",
       "3       2, 3, 4 BHK Apartment in Sector 108, Gurgaon   \n",
       "4    2, 3 BHK Independent Floor in Sector 93 Gurgaon   \n",
       "\n",
       "                                     NearbyLocations  \\\n",
       "0  ['Bajghera Road', 'Palam Vihar Halt', 'DPSG Pa...   \n",
       "1  ['DPSG Palam Vihar Gurugram', 'The NorthCap Un...   \n",
       "2  ['AIPL Business Club Sector 62', 'Heritage Xpe...   \n",
       "3  ['The Shikshiyan School', 'WTC Plaza', 'Luxus ...   \n",
       "4  ['Pranavananda Int. School', 'DLF Site central...   \n",
       "\n",
       "                                  LocationAdvantages  \\\n",
       "0  {'Bajghera Road': '800 Meter', 'Palam Vihar Ha...   \n",
       "1  {'DPSG Palam Vihar Gurugram': '1.4 Km', 'The N...   \n",
       "2  {'AIPL Business Club Sector 62': '2.7 Km', 'He...   \n",
       "3  {'The Shikshiyan School': '2.9 KM', 'WTC Plaza...   \n",
       "4  {'Pranavananda Int. School': '450 m', 'DLF Sit...   \n",
       "\n",
       "                                                Link  \\\n",
       "0  https://www.99acres.com/smartworld-one-dxp-sec...   \n",
       "1  https://www.99acres.com/m3m-crown-sector-111-g...   \n",
       "2  https://www.99acres.com/adani-brahma-samsara-v...   \n",
       "3  https://www.99acres.com/sobha-city-sector-108-...   \n",
       "4  https://www.99acres.com/signature-global-city-...   \n",
       "\n",
       "                                        PriceDetails  \\\n",
       "0  {'2 BHK': {'building_type': 'Apartment', 'area...   \n",
       "1  {'3 BHK': {'building_type': 'Apartment', 'area...   \n",
       "2  {'3 BHK': {'building_type': 'Independent Floor...   \n",
       "3  {'2 BHK': {'building_type': 'Apartment', 'area...   \n",
       "4  {'2 BHK': {'building_type': 'Independent Floor...   \n",
       "\n",
       "                                       TopFacilities  \n",
       "0  ['Swimming Pool', 'Salon', 'Restaurant', 'Spa'...  \n",
       "1  ['Bowling Alley', 'Mini Theatre', 'Manicured G...  \n",
       "2  ['Terrace Garden', 'Gazebo', 'Fountain', 'Amph...  \n",
       "3  ['Swimming Pool', 'Volley Ball Court', 'Aerobi...  \n",
       "4  ['Mini Theatre', 'Doctor on Call', 'Concierge ...  "
      ]
     },
     "execution_count": 5,
     "metadata": {},
     "output_type": "execute_result"
    }
   ],
   "source": [
    "df.head()"
   ]
  },
  {
   "cell_type": "code",
   "execution_count": 6,
   "metadata": {},
   "outputs": [],
   "source": [
    "def extract_list(s):\n",
    "    return re.findall(r\"'(.*?)'\", s)\n",
    "\n",
    "df['TopFacilities'] = df['TopFacilities'].apply(extract_list)"
   ]
  },
  {
   "cell_type": "code",
   "execution_count": 7,
   "metadata": {},
   "outputs": [],
   "source": [
    "df['FacilitiesStr'] = df['TopFacilities'].apply(' '.join)"
   ]
  },
  {
   "cell_type": "code",
   "execution_count": 8,
   "metadata": {},
   "outputs": [
    {
     "data": {
      "text/plain": [
       "'Swimming Pool Salon Restaurant Spa Cafeteria Sun Deck 24x7 Security Club House Gated Community'"
      ]
     },
     "execution_count": 8,
     "metadata": {},
     "output_type": "execute_result"
    }
   ],
   "source": [
    "df['FacilitiesStr'][0]\n"
   ]
  },
  {
   "cell_type": "code",
   "execution_count": 9,
   "metadata": {},
   "outputs": [],
   "source": [
    "tfidf_vectorizer = TfidfVectorizer(stop_words='english', ngram_range=(1, 2))"
   ]
  },
  {
   "cell_type": "code",
   "execution_count": 10,
   "metadata": {},
   "outputs": [],
   "source": [
    "tfidf_matrix = tfidf_vectorizer.fit_transform(df['FacilitiesStr'])"
   ]
  },
  {
   "cell_type": "code",
   "execution_count": 11,
   "metadata": {},
   "outputs": [
    {
     "data": {
      "text/plain": [
       "array([[0.       , 0.       , 0.       , ..., 0.       , 0.       ,\n",
       "        0.       ],\n",
       "       [0.       , 0.       , 0.       , ..., 0.       , 0.       ,\n",
       "        0.       ],\n",
       "       [0.       , 0.       , 0.       , ..., 0.       , 0.1438338,\n",
       "        0.1438338],\n",
       "       ...,\n",
       "       [0.       , 0.       , 0.       , ..., 0.       , 0.       ,\n",
       "        0.       ],\n",
       "       [0.       , 0.       , 0.       , ..., 0.       , 0.       ,\n",
       "        0.       ],\n",
       "       [0.       , 0.       , 0.       , ..., 0.       , 0.       ,\n",
       "        0.       ]])"
      ]
     },
     "execution_count": 11,
     "metadata": {},
     "output_type": "execute_result"
    }
   ],
   "source": [
    "tfidf_matrix.toarray()"
   ]
  },
  {
   "cell_type": "code",
   "execution_count": 12,
   "metadata": {},
   "outputs": [],
   "source": [
    "cosine_sim1 = cosine_similarity(tfidf_matrix, tfidf_matrix) #since the dimensionality is high(in this case 953) we use angurlar distance\n"
   ]
  },
  {
   "cell_type": "code",
   "execution_count": 13,
   "metadata": {},
   "outputs": [
    {
     "data": {
      "text/plain": [
       "(247, 247)"
      ]
     },
     "execution_count": 13,
     "metadata": {},
     "output_type": "execute_result"
    }
   ],
   "source": [
    "cosine_sim1.shape\n"
   ]
  },
  {
   "cell_type": "code",
   "execution_count": 14,
   "metadata": {},
   "outputs": [
    {
     "data": {
      "text/plain": [
       "\"{'3 BHK': {'building_type': 'Apartment', 'area_type': 'Super Built-up Area', 'area': '1,605 - 2,170 sq.ft.', 'price-range': '₹ 2.2 - 3.03 Cr'}, '4 BHK': {'building_type': 'Apartment', 'area_type': 'Super Built-up Area', 'area': '2,248 - 2,670 sq.ft.', 'price-range': '₹ 3.08 - 3.73 Cr'}}\""
      ]
     },
     "execution_count": 14,
     "metadata": {},
     "output_type": "execute_result"
    }
   ],
   "source": [
    "df[['PropertyName','PriceDetails']]['PriceDetails'][1]\n"
   ]
  },
  {
   "cell_type": "code",
   "execution_count": 22,
   "metadata": {},
   "outputs": [],
   "source": [
    "def recommend_properties(property_name, cosine_sim=cosine_sim1):\n",
    "    # Get the index of the property that matches the name\n",
    "    idx = df.index[df['PropertyName'] == property_name].tolist()[0]\n",
    "\n",
    "    # Get the pairwise similarity scores with that property\n",
    "    sim_scores = list(enumerate(cosine_sim1[idx]))\n",
    "\n",
    "    # Sort the properties based on the similarity scores\n",
    "    sim_scores = sorted(sim_scores, key=lambda x: x[1], reverse=True)\n",
    "\n",
    "    # Get the scores of the 5 most similar properties\n",
    "    sim_scores = sim_scores[1:100]\n",
    "\n",
    "    # Get the property indices\n",
    "    property_indices = [i[0] for i in sim_scores]\n",
    "    \n",
    "    recommendations_df = pd.DataFrame({\n",
    "        'PropertyName': df['PropertyName'].iloc[property_indices],\n",
    "        'SimilarityScore': sim_scores\n",
    "    })\n",
    "\n",
    "    # Return the top 10 most similar properties\n",
    "    return recommendations_df"
   ]
  },
  {
   "cell_type": "code",
   "execution_count": 23,
   "metadata": {},
   "outputs": [
    {
     "data": {
      "text/html": [
       "<div>\n",
       "<style scoped>\n",
       "    .dataframe tbody tr th:only-of-type {\n",
       "        vertical-align: middle;\n",
       "    }\n",
       "\n",
       "    .dataframe tbody tr th {\n",
       "        vertical-align: top;\n",
       "    }\n",
       "\n",
       "    .dataframe thead th {\n",
       "        text-align: right;\n",
       "    }\n",
       "</style>\n",
       "<table border=\"1\" class=\"dataframe\">\n",
       "  <thead>\n",
       "    <tr style=\"text-align: right;\">\n",
       "      <th></th>\n",
       "      <th>PropertyName</th>\n",
       "      <th>SimilarityScore</th>\n",
       "    </tr>\n",
       "  </thead>\n",
       "  <tbody>\n",
       "    <tr>\n",
       "      <th>64</th>\n",
       "      <td>Ace Palm Floors</td>\n",
       "      <td>(64, 0.45311114162955807)</td>\n",
       "    </tr>\n",
       "    <tr>\n",
       "      <th>217</th>\n",
       "      <td>Yashika 104</td>\n",
       "      <td>(217, 0.4200539456275653)</td>\n",
       "    </tr>\n",
       "    <tr>\n",
       "      <th>93</th>\n",
       "      <td>JMS The Nation</td>\n",
       "      <td>(93, 0.416805651127417)</td>\n",
       "    </tr>\n",
       "    <tr>\n",
       "      <th>154</th>\n",
       "      <td>India Rashtra</td>\n",
       "      <td>(154, 0.39911681617817335)</td>\n",
       "    </tr>\n",
       "    <tr>\n",
       "      <th>0</th>\n",
       "      <td>Smartworld One DXP</td>\n",
       "      <td>(0, 0.38896543251188437)</td>\n",
       "    </tr>\n",
       "    <tr>\n",
       "      <th>...</th>\n",
       "      <td>...</td>\n",
       "      <td>...</td>\n",
       "    </tr>\n",
       "    <tr>\n",
       "      <th>238</th>\n",
       "      <td>DLF New Town Heights</td>\n",
       "      <td>(238, 0.028888572399830552)</td>\n",
       "    </tr>\n",
       "    <tr>\n",
       "      <th>117</th>\n",
       "      <td>Parsvnath Exotica</td>\n",
       "      <td>(117, 0.028078446257974635)</td>\n",
       "    </tr>\n",
       "    <tr>\n",
       "      <th>142</th>\n",
       "      <td>DLF The Icon</td>\n",
       "      <td>(142, 0.027859146097082885)</td>\n",
       "    </tr>\n",
       "    <tr>\n",
       "      <th>80</th>\n",
       "      <td>Ireo Skyon</td>\n",
       "      <td>(80, 0.026702073307710034)</td>\n",
       "    </tr>\n",
       "    <tr>\n",
       "      <th>91</th>\n",
       "      <td>M3M Skywalk</td>\n",
       "      <td>(91, 0.02664012516348191)</td>\n",
       "    </tr>\n",
       "  </tbody>\n",
       "</table>\n",
       "<p>99 rows × 2 columns</p>\n",
       "</div>"
      ],
      "text/plain": [
       "             PropertyName              SimilarityScore\n",
       "64        Ace Palm Floors    (64, 0.45311114162955807)\n",
       "217           Yashika 104    (217, 0.4200539456275653)\n",
       "93         JMS The Nation      (93, 0.416805651127417)\n",
       "154         India Rashtra   (154, 0.39911681617817335)\n",
       "0      Smartworld One DXP     (0, 0.38896543251188437)\n",
       "..                    ...                          ...\n",
       "238  DLF New Town Heights  (238, 0.028888572399830552)\n",
       "117     Parsvnath Exotica  (117, 0.028078446257974635)\n",
       "142          DLF The Icon  (142, 0.027859146097082885)\n",
       "80             Ireo Skyon   (80, 0.026702073307710034)\n",
       "91            M3M Skywalk    (91, 0.02664012516348191)\n",
       "\n",
       "[99 rows x 2 columns]"
      ]
     },
     "execution_count": 23,
     "metadata": {},
     "output_type": "execute_result"
    }
   ],
   "source": [
    "recommend_properties(\"DLF The Arbour\")\n"
   ]
  },
  {
   "cell_type": "code",
   "execution_count": null,
   "metadata": {},
   "outputs": [],
   "source": []
  }
 ],
 "metadata": {
  "kernelspec": {
   "display_name": "Python 3",
   "language": "python",
   "name": "python3"
  },
  "language_info": {
   "codemirror_mode": {
    "name": "ipython",
    "version": 3
   },
   "file_extension": ".py",
   "mimetype": "text/x-python",
   "name": "python",
   "nbconvert_exporter": "python",
   "pygments_lexer": "ipython3",
   "version": "3.12.3"
  }
 },
 "nbformat": 4,
 "nbformat_minor": 2
}
